{
 "cells": [
  {
   "cell_type": "code",
   "execution_count": 3,
   "metadata": {},
   "outputs": [
    {
     "data": {
      "text/html": [
       "<ol class=list-inline>\n",
       "\t<li>1</li>\n",
       "\t<li>2</li>\n",
       "\t<li>3</li>\n",
       "\t<li>4</li>\n",
       "\t<li>5</li>\n",
       "\t<li>6</li>\n",
       "\t<li>7</li>\n",
       "</ol>\n"
      ],
      "text/latex": [
       "\\begin{enumerate*}\n",
       "\\item 1\n",
       "\\item 2\n",
       "\\item 3\n",
       "\\item 4\n",
       "\\item 5\n",
       "\\item 6\n",
       "\\item 7\n",
       "\\end{enumerate*}\n"
      ],
      "text/markdown": [
       "1. 1\n",
       "2. 2\n",
       "3. 3\n",
       "4. 4\n",
       "5. 5\n",
       "6. 6\n",
       "7. 7\n",
       "\n",
       "\n"
      ],
      "text/plain": [
       "[1] 1 2 3 4 5 6 7"
      ]
     },
     "metadata": {},
     "output_type": "display_data"
    }
   ],
   "source": [
    "x<-1:7\n",
    "x"
   ]
  },
  {
   "cell_type": "code",
   "execution_count": 6,
   "metadata": {},
   "outputs": [
    {
     "data": {
      "text/html": [
       "<ol class=list-inline>\n",
       "\t<li>1</li>\n",
       "\t<li>4</li>\n",
       "\t<li>7</li>\n",
       "\t<li>10</li>\n",
       "\t<li>13</li>\n",
       "</ol>\n"
      ],
      "text/latex": [
       "\\begin{enumerate*}\n",
       "\\item 1\n",
       "\\item 4\n",
       "\\item 7\n",
       "\\item 10\n",
       "\\item 13\n",
       "\\end{enumerate*}\n"
      ],
      "text/markdown": [
       "1. 1\n",
       "2. 4\n",
       "3. 7\n",
       "4. 10\n",
       "5. 13\n",
       "\n",
       "\n"
      ],
      "text/plain": [
       "[1]  1  4  7 10 13"
      ]
     },
     "metadata": {},
     "output_type": "display_data"
    }
   ],
   "source": [
    "y <- seq(1,13,3)\n",
    "y"
   ]
  },
  {
   "cell_type": "code",
   "execution_count": 7,
   "metadata": {},
   "outputs": [
    {
     "data": {
      "text/html": [
       "<ol class=list-inline>\n",
       "\t<li>1</li>\n",
       "\t<li>1</li>\n",
       "\t<li>1</li>\n",
       "\t<li>1</li>\n",
       "\t<li>1</li>\n",
       "</ol>\n"
      ],
      "text/latex": [
       "\\begin{enumerate*}\n",
       "\\item 1\n",
       "\\item 1\n",
       "\\item 1\n",
       "\\item 1\n",
       "\\item 1\n",
       "\\end{enumerate*}\n"
      ],
      "text/markdown": [
       "1. 1\n",
       "2. 1\n",
       "3. 1\n",
       "4. 1\n",
       "5. 1\n",
       "\n",
       "\n"
      ],
      "text/plain": [
       "[1] 1 1 1 1 1"
      ]
     },
     "metadata": {},
     "output_type": "display_data"
    }
   ],
   "source": [
    "z<-rep(1,5)\n",
    "z"
   ]
  },
  {
   "cell_type": "code",
   "execution_count": 8,
   "metadata": {},
   "outputs": [
    {
     "data": {
      "text/html": [
       "<ol class=list-inline>\n",
       "\t<li>1</li>\n",
       "\t<li>2</li>\n",
       "</ol>\n"
      ],
      "text/latex": [
       "\\begin{enumerate*}\n",
       "\\item 1\n",
       "\\item 2\n",
       "\\end{enumerate*}\n"
      ],
      "text/markdown": [
       "1. 1\n",
       "2. 2\n",
       "\n",
       "\n"
      ],
      "text/plain": [
       "[1] 1 2"
      ]
     },
     "metadata": {},
     "output_type": "display_data"
    }
   ],
   "source": [
    "v<-seq(1,5)\n",
    "v[1:2]"
   ]
  },
  {
   "cell_type": "code",
   "execution_count": 10,
   "metadata": {},
   "outputs": [
    {
     "data": {
      "text/html": [
       "<ol class=list-inline>\n",
       "\t<li>4</li>\n",
       "\t<li>13</li>\n",
       "</ol>\n"
      ],
      "text/latex": [
       "\\begin{enumerate*}\n",
       "\\item 4\n",
       "\\item 13\n",
       "\\end{enumerate*}\n"
      ],
      "text/markdown": [
       "1. 4\n",
       "2. 13\n",
       "\n",
       "\n"
      ],
      "text/plain": [
       "[1]  4 13"
      ]
     },
     "metadata": {},
     "output_type": "display_data"
    }
   ],
   "source": [
    "y[c(2,5)] #need to concatenate input because expects a vector inside"
   ]
  },
  {
   "cell_type": "code",
   "execution_count": 11,
   "metadata": {},
   "outputs": [
    {
     "data": {
      "text/html": [
       "<ol class=list-inline>\n",
       "\t<li>2</li>\n",
       "\t<li>5</li>\n",
       "\t<li>8</li>\n",
       "\t<li>11</li>\n",
       "\t<li>14</li>\n",
       "</ol>\n"
      ],
      "text/latex": [
       "\\begin{enumerate*}\n",
       "\\item 2\n",
       "\\item 5\n",
       "\\item 8\n",
       "\\item 11\n",
       "\\item 14\n",
       "\\end{enumerate*}\n"
      ],
      "text/markdown": [
       "1. 2\n",
       "2. 5\n",
       "3. 8\n",
       "4. 11\n",
       "5. 14\n",
       "\n",
       "\n"
      ],
      "text/plain": [
       "[1]  2  5  8 11 14"
      ]
     },
     "metadata": {},
     "output_type": "display_data"
    }
   ],
   "source": [
    "y+z"
   ]
  },
  {
   "cell_type": "code",
   "execution_count": 12,
   "metadata": {},
   "outputs": [
    {
     "data": {
      "text/html": [
       "<ol class=list-inline>\n",
       "\t<li>1</li>\n",
       "\t<li>4</li>\n",
       "\t<li>7</li>\n",
       "\t<li>10</li>\n",
       "\t<li>13</li>\n",
       "</ol>\n"
      ],
      "text/latex": [
       "\\begin{enumerate*}\n",
       "\\item 1\n",
       "\\item 4\n",
       "\\item 7\n",
       "\\item 10\n",
       "\\item 13\n",
       "\\end{enumerate*}\n"
      ],
      "text/markdown": [
       "1. 1\n",
       "2. 4\n",
       "3. 7\n",
       "4. 10\n",
       "5. 13\n",
       "\n",
       "\n"
      ],
      "text/plain": [
       "[1]  1  4  7 10 13"
      ]
     },
     "metadata": {},
     "output_type": "display_data"
    }
   ],
   "source": [
    "y*z"
   ]
  },
  {
   "cell_type": "code",
   "execution_count": 13,
   "metadata": {},
   "outputs": [
    {
     "data": {
      "text/html": [
       "<ol class=list-inline>\n",
       "\t<li>'hello'</li>\n",
       "\t<li>'world'</li>\n",
       "</ol>\n"
      ],
      "text/latex": [
       "\\begin{enumerate*}\n",
       "\\item 'hello'\n",
       "\\item 'world'\n",
       "\\end{enumerate*}\n"
      ],
      "text/markdown": [
       "1. 'hello'\n",
       "2. 'world'\n",
       "\n",
       "\n"
      ],
      "text/plain": [
       "[1] \"hello\" \"world\""
      ]
     },
     "metadata": {},
     "output_type": "display_data"
    }
   ],
   "source": [
    "c(\"hello\",\"world\") #vector that contains elements of strings"
   ]
  },
  {
   "cell_type": "code",
   "execution_count": 14,
   "metadata": {},
   "outputs": [
    {
     "data": {
      "text/html": [
       "<ol class=list-inline>\n",
       "\t<li>'h'</li>\n",
       "\t<li>'e'</li>\n",
       "\t<li>'l'</li>\n",
       "\t<li>'l'</li>\n",
       "\t<li>'o'</li>\n",
       "</ol>\n"
      ],
      "text/latex": [
       "\\begin{enumerate*}\n",
       "\\item 'h'\n",
       "\\item 'e'\n",
       "\\item 'l'\n",
       "\\item 'l'\n",
       "\\item 'o'\n",
       "\\end{enumerate*}\n"
      ],
      "text/markdown": [
       "1. 'h'\n",
       "2. 'e'\n",
       "3. 'l'\n",
       "4. 'l'\n",
       "5. 'o'\n",
       "\n",
       "\n"
      ],
      "text/plain": [
       "[1] \"h\" \"e\" \"l\" \"l\" \"o\""
      ]
     },
     "metadata": {},
     "output_type": "display_data"
    }
   ],
   "source": [
    "c(\"h\",\"e\",\"l\",\"l\",\"o\")"
   ]
  },
  {
   "cell_type": "markdown",
   "metadata": {},
   "source": [
    "## Exercise\n",
    "\n",
    "1.  what is mean value of sequence: 1,5,9,....,101?\n",
    "2. how many elements in this sequence?\n",
    "3. what is mean of 21st, 22n, 23rd, and 24th elements of sequence?"
   ]
  },
  {
   "cell_type": "code",
   "execution_count": 15,
   "metadata": {},
   "outputs": [
    {
     "data": {
      "text/html": [
       "<ol class=list-inline>\n",
       "\t<li>1</li>\n",
       "\t<li>5</li>\n",
       "\t<li>9</li>\n",
       "\t<li>13</li>\n",
       "\t<li>17</li>\n",
       "\t<li>21</li>\n",
       "\t<li>25</li>\n",
       "\t<li>29</li>\n",
       "\t<li>33</li>\n",
       "\t<li>37</li>\n",
       "\t<li>41</li>\n",
       "\t<li>45</li>\n",
       "\t<li>49</li>\n",
       "\t<li>53</li>\n",
       "\t<li>57</li>\n",
       "\t<li>61</li>\n",
       "\t<li>65</li>\n",
       "\t<li>69</li>\n",
       "\t<li>73</li>\n",
       "\t<li>77</li>\n",
       "\t<li>81</li>\n",
       "\t<li>85</li>\n",
       "\t<li>89</li>\n",
       "\t<li>93</li>\n",
       "\t<li>97</li>\n",
       "\t<li>101</li>\n",
       "</ol>\n"
      ],
      "text/latex": [
       "\\begin{enumerate*}\n",
       "\\item 1\n",
       "\\item 5\n",
       "\\item 9\n",
       "\\item 13\n",
       "\\item 17\n",
       "\\item 21\n",
       "\\item 25\n",
       "\\item 29\n",
       "\\item 33\n",
       "\\item 37\n",
       "\\item 41\n",
       "\\item 45\n",
       "\\item 49\n",
       "\\item 53\n",
       "\\item 57\n",
       "\\item 61\n",
       "\\item 65\n",
       "\\item 69\n",
       "\\item 73\n",
       "\\item 77\n",
       "\\item 81\n",
       "\\item 85\n",
       "\\item 89\n",
       "\\item 93\n",
       "\\item 97\n",
       "\\item 101\n",
       "\\end{enumerate*}\n"
      ],
      "text/markdown": [
       "1. 1\n",
       "2. 5\n",
       "3. 9\n",
       "4. 13\n",
       "5. 17\n",
       "6. 21\n",
       "7. 25\n",
       "8. 29\n",
       "9. 33\n",
       "10. 37\n",
       "11. 41\n",
       "12. 45\n",
       "13. 49\n",
       "14. 53\n",
       "15. 57\n",
       "16. 61\n",
       "17. 65\n",
       "18. 69\n",
       "19. 73\n",
       "20. 77\n",
       "21. 81\n",
       "22. 85\n",
       "23. 89\n",
       "24. 93\n",
       "25. 97\n",
       "26. 101\n",
       "\n",
       "\n"
      ],
      "text/plain": [
       " [1]   1   5   9  13  17  21  25  29  33  37  41  45  49  53  57  61  65  69  73\n",
       "[20]  77  81  85  89  93  97 101"
      ]
     },
     "metadata": {},
     "output_type": "display_data"
    }
   ],
   "source": [
    "a <- seq(1,101,4)\n",
    "a"
   ]
  },
  {
   "cell_type": "code",
   "execution_count": 24,
   "metadata": {},
   "outputs": [
    {
     "data": {
      "text/html": [
       "51"
      ],
      "text/latex": [
       "51"
      ],
      "text/markdown": [
       "51"
      ],
      "text/plain": [
       "[1] 51"
      ]
     },
     "metadata": {},
     "output_type": "display_data"
    }
   ],
   "source": [
    "mean(a)"
   ]
  },
  {
   "cell_type": "code",
   "execution_count": 16,
   "metadata": {},
   "outputs": [
    {
     "ename": "ERROR",
     "evalue": "Error in len(a): could not find function \"len\"\n",
     "output_type": "error",
     "traceback": [
      "Error in len(a): could not find function \"len\"\nTraceback:\n"
     ]
    }
   ],
   "source": [
    "len(a)"
   ]
  },
  {
   "cell_type": "code",
   "execution_count": 17,
   "metadata": {},
   "outputs": [
    {
     "data": {
      "text/html": [
       "26"
      ],
      "text/latex": [
       "26"
      ],
      "text/markdown": [
       "26"
      ],
      "text/plain": [
       "[1] 26"
      ]
     },
     "metadata": {},
     "output_type": "display_data"
    }
   ],
   "source": [
    "length(a)"
   ]
  },
  {
   "cell_type": "code",
   "execution_count": 21,
   "metadata": {},
   "outputs": [
    {
     "ename": "ERROR",
     "evalue": "Error in parse(text = x, srcfile = src): <text>:2:0: unexpected end of input\n1: mean(a(c(21,22,23,24))\n   ^\n",
     "output_type": "error",
     "traceback": [
      "Error in parse(text = x, srcfile = src): <text>:2:0: unexpected end of input\n1: mean(a(c(21,22,23,24))\n   ^\nTraceback:\n"
     ]
    }
   ],
   "source": [
    "mean(a(c(21,22,23,24))"
   ]
  },
  {
   "cell_type": "code",
   "execution_count": 22,
   "metadata": {},
   "outputs": [
    {
     "data": {
      "text/html": [
       "87"
      ],
      "text/latex": [
       "87"
      ],
      "text/markdown": [
       "87"
      ],
      "text/plain": [
       "[1] 87"
      ]
     },
     "metadata": {},
     "output_type": "display_data"
    }
   ],
   "source": [
    "mean(a[c(21:24)])"
   ]
  },
  {
   "cell_type": "code",
   "execution_count": 23,
   "metadata": {},
   "outputs": [
    {
     "data": {
      "text/html": [
       "87"
      ],
      "text/latex": [
       "87"
      ],
      "text/markdown": [
       "87"
      ],
      "text/plain": [
       "[1] 87"
      ]
     },
     "metadata": {},
     "output_type": "display_data"
    }
   ],
   "source": [
    "mean(a[c(21,22,23,24)])"
   ]
  },
  {
   "cell_type": "code",
   "execution_count": 25,
   "metadata": {},
   "outputs": [
    {
     "ename": "ERROR",
     "evalue": "Error in .External2(C_savehistory, file): no history available to save\n",
     "output_type": "error",
     "traceback": [
      "Error in .External2(C_savehistory, file): no history available to save\nTraceback:\n",
      "1. history()",
      "2. savehistory(file1)"
     ]
    }
   ],
   "source": [
    "history()"
   ]
  },
  {
   "cell_type": "code",
   "execution_count": 26,
   "metadata": {},
   "outputs": [],
   "source": [
    "q()"
   ]
  },
  {
   "cell_type": "code",
   "execution_count": 27,
   "metadata": {},
   "outputs": [
    {
     "data": {
      "text/html": [
       "<ol class=list-inline>\n",
       "\t<li>1</li>\n",
       "\t<li>5</li>\n",
       "\t<li>9</li>\n",
       "\t<li>13</li>\n",
       "\t<li>17</li>\n",
       "\t<li>21</li>\n",
       "\t<li>25</li>\n",
       "\t<li>29</li>\n",
       "\t<li>33</li>\n",
       "\t<li>37</li>\n",
       "\t<li>41</li>\n",
       "\t<li>45</li>\n",
       "\t<li>49</li>\n",
       "\t<li>53</li>\n",
       "\t<li>57</li>\n",
       "\t<li>61</li>\n",
       "\t<li>65</li>\n",
       "\t<li>69</li>\n",
       "\t<li>73</li>\n",
       "\t<li>77</li>\n",
       "\t<li>81</li>\n",
       "\t<li>85</li>\n",
       "\t<li>89</li>\n",
       "\t<li>93</li>\n",
       "\t<li>97</li>\n",
       "\t<li>101</li>\n",
       "</ol>\n"
      ],
      "text/latex": [
       "\\begin{enumerate*}\n",
       "\\item 1\n",
       "\\item 5\n",
       "\\item 9\n",
       "\\item 13\n",
       "\\item 17\n",
       "\\item 21\n",
       "\\item 25\n",
       "\\item 29\n",
       "\\item 33\n",
       "\\item 37\n",
       "\\item 41\n",
       "\\item 45\n",
       "\\item 49\n",
       "\\item 53\n",
       "\\item 57\n",
       "\\item 61\n",
       "\\item 65\n",
       "\\item 69\n",
       "\\item 73\n",
       "\\item 77\n",
       "\\item 81\n",
       "\\item 85\n",
       "\\item 89\n",
       "\\item 93\n",
       "\\item 97\n",
       "\\item 101\n",
       "\\end{enumerate*}\n"
      ],
      "text/markdown": [
       "1. 1\n",
       "2. 5\n",
       "3. 9\n",
       "4. 13\n",
       "5. 17\n",
       "6. 21\n",
       "7. 25\n",
       "8. 29\n",
       "9. 33\n",
       "10. 37\n",
       "11. 41\n",
       "12. 45\n",
       "13. 49\n",
       "14. 53\n",
       "15. 57\n",
       "16. 61\n",
       "17. 65\n",
       "18. 69\n",
       "19. 73\n",
       "20. 77\n",
       "21. 81\n",
       "22. 85\n",
       "23. 89\n",
       "24. 93\n",
       "25. 97\n",
       "26. 101\n",
       "\n",
       "\n"
      ],
      "text/plain": [
       " [1]   1   5   9  13  17  21  25  29  33  37  41  45  49  53  57  61  65  69  73\n",
       "[20]  77  81  85  89  93  97 101"
      ]
     },
     "metadata": {},
     "output_type": "display_data"
    }
   ],
   "source": [
    "a"
   ]
  },
  {
   "cell_type": "markdown",
   "metadata": {},
   "source": [
    "In the console, q() to quit, save workspace image. Then load using history(). Can do history(show=infinity) to show more?"
   ]
  },
  {
   "cell_type": "markdown",
   "metadata": {},
   "source": [
    "# Matrices"
   ]
  },
  {
   "cell_type": "code",
   "execution_count": 29,
   "metadata": {},
   "outputs": [
    {
     "data": {
      "text/html": [
       "<table>\n",
       "<caption>A matrix: 2 × 3 of type int</caption>\n",
       "<tbody>\n",
       "\t<tr><td>1</td><td>3</td><td>5</td></tr>\n",
       "\t<tr><td>2</td><td>4</td><td>6</td></tr>\n",
       "</tbody>\n",
       "</table>\n"
      ],
      "text/latex": [
       "A matrix: 2 × 3 of type int\n",
       "\\begin{tabular}{lll}\n",
       "\t 1 & 3 & 5\\\\\n",
       "\t 2 & 4 & 6\\\\\n",
       "\\end{tabular}\n"
      ],
      "text/markdown": [
       "\n",
       "A matrix: 2 × 3 of type int\n",
       "\n",
       "| 1 | 3 | 5 |\n",
       "| 2 | 4 | 6 |\n",
       "\n"
      ],
      "text/plain": [
       "     [,1] [,2] [,3]\n",
       "[1,] 1    3    5   \n",
       "[2,] 2    4    6   "
      ]
     },
     "metadata": {},
     "output_type": "display_data"
    }
   ],
   "source": [
    "M <- matrix(c(1:6), nrow=2, ncol=3)\n",
    "M"
   ]
  },
  {
   "cell_type": "markdown",
   "metadata": {},
   "source": [
    "Note that elements placed in columnwise"
   ]
  },
  {
   "cell_type": "code",
   "execution_count": 31,
   "metadata": {},
   "outputs": [
    {
     "data": {
      "text/html": [
       "<table>\n",
       "<caption>A matrix: 2 × 3 of type int</caption>\n",
       "<tbody>\n",
       "\t<tr><td>1</td><td>2</td><td>3</td></tr>\n",
       "\t<tr><td>4</td><td>5</td><td>6</td></tr>\n",
       "</tbody>\n",
       "</table>\n"
      ],
      "text/latex": [
       "A matrix: 2 × 3 of type int\n",
       "\\begin{tabular}{lll}\n",
       "\t 1 & 2 & 3\\\\\n",
       "\t 4 & 5 & 6\\\\\n",
       "\\end{tabular}\n"
      ],
      "text/markdown": [
       "\n",
       "A matrix: 2 × 3 of type int\n",
       "\n",
       "| 1 | 2 | 3 |\n",
       "| 4 | 5 | 6 |\n",
       "\n"
      ],
      "text/plain": [
       "     [,1] [,2] [,3]\n",
       "[1,] 1    2    3   \n",
       "[2,] 4    5    6   "
      ]
     },
     "metadata": {},
     "output_type": "display_data"
    }
   ],
   "source": [
    "M <- matrix(c(1:6), nrow=2, byrow=T)\n",
    "M"
   ]
  },
  {
   "cell_type": "markdown",
   "metadata": {},
   "source": [
    "NNow elements are put in row-wise"
   ]
  },
  {
   "cell_type": "code",
   "execution_count": 33,
   "metadata": {},
   "outputs": [
    {
     "data": {
      "text/html": [
       "<table>\n",
       "<caption>A matrix: 2 × 3 of type int</caption>\n",
       "<tbody>\n",
       "\t<tr><td>1</td><td>2</td><td>3</td></tr>\n",
       "\t<tr><td>4</td><td>5</td><td>6</td></tr>\n",
       "</tbody>\n",
       "</table>\n"
      ],
      "text/latex": [
       "A matrix: 2 × 3 of type int\n",
       "\\begin{tabular}{lll}\n",
       "\t 1 & 2 & 3\\\\\n",
       "\t 4 & 5 & 6\\\\\n",
       "\\end{tabular}\n"
      ],
      "text/markdown": [
       "\n",
       "A matrix: 2 × 3 of type int\n",
       "\n",
       "| 1 | 2 | 3 |\n",
       "| 4 | 5 | 6 |\n",
       "\n"
      ],
      "text/plain": [
       "     [,1] [,2] [,3]\n",
       "[1,] 1    2    3   \n",
       "[2,] 4    5    6   "
      ]
     },
     "metadata": {},
     "output_type": "display_data"
    },
    {
     "data": {
      "text/html": [
       "<table>\n",
       "<caption>A matrix: 2 × 3 of type int</caption>\n",
       "<tbody>\n",
       "\t<tr><td>1</td><td>2</td><td>3</td></tr>\n",
       "\t<tr><td>4</td><td>5</td><td>6</td></tr>\n",
       "</tbody>\n",
       "</table>\n"
      ],
      "text/latex": [
       "A matrix: 2 × 3 of type int\n",
       "\\begin{tabular}{lll}\n",
       "\t 1 & 2 & 3\\\\\n",
       "\t 4 & 5 & 6\\\\\n",
       "\\end{tabular}\n"
      ],
      "text/markdown": [
       "\n",
       "A matrix: 2 × 3 of type int\n",
       "\n",
       "| 1 | 2 | 3 |\n",
       "| 4 | 5 | 6 |\n",
       "\n"
      ],
      "text/plain": [
       "     [,1] [,2] [,3]\n",
       "[1,] 1    2    3   \n",
       "[2,] 4    5    6   "
      ]
     },
     "metadata": {},
     "output_type": "display_data"
    }
   ],
   "source": [
    "# can also bind in rows\n",
    "M <- rbind(c(1:3), c(4:6))\n",
    "M"
   ]
  },
  {
   "cell_type": "code",
   "execution_count": 35,
   "metadata": {},
   "outputs": [
    {
     "data": {
      "text/html": [
       "<table>\n",
       "<caption>A matrix: 3 × 2 of type int</caption>\n",
       "<tbody>\n",
       "\t<tr><td>1</td><td>4</td></tr>\n",
       "\t<tr><td>2</td><td>5</td></tr>\n",
       "\t<tr><td>3</td><td>6</td></tr>\n",
       "</tbody>\n",
       "</table>\n"
      ],
      "text/latex": [
       "A matrix: 3 × 2 of type int\n",
       "\\begin{tabular}{ll}\n",
       "\t 1 & 4\\\\\n",
       "\t 2 & 5\\\\\n",
       "\t 3 & 6\\\\\n",
       "\\end{tabular}\n"
      ],
      "text/markdown": [
       "\n",
       "A matrix: 3 × 2 of type int\n",
       "\n",
       "| 1 | 4 |\n",
       "| 2 | 5 |\n",
       "| 3 | 6 |\n",
       "\n"
      ],
      "text/plain": [
       "     [,1] [,2]\n",
       "[1,] 1    4   \n",
       "[2,] 2    5   \n",
       "[3,] 3    6   "
      ]
     },
     "metadata": {},
     "output_type": "display_data"
    }
   ],
   "source": [
    "# can bind in columns as well\n",
    "M <- cbind(c(1:3),c(4:6))\n",
    "M"
   ]
  },
  {
   "cell_type": "code",
   "execution_count": 36,
   "metadata": {},
   "outputs": [
    {
     "data": {
      "text/html": [
       "<ol class=list-inline>\n",
       "\t<li>4</li>\n",
       "\t<li>5</li>\n",
       "\t<li>6</li>\n",
       "</ol>\n"
      ],
      "text/latex": [
       "\\begin{enumerate*}\n",
       "\\item 4\n",
       "\\item 5\n",
       "\\item 6\n",
       "\\end{enumerate*}\n"
      ],
      "text/markdown": [
       "1. 4\n",
       "2. 5\n",
       "3. 6\n",
       "\n",
       "\n"
      ],
      "text/plain": [
       "[1] 4 5 6"
      ]
     },
     "metadata": {},
     "output_type": "display_data"
    }
   ],
   "source": [
    "# can use [,n] indexing to grab nth column\n",
    "M[,2]"
   ]
  },
  {
   "cell_type": "code",
   "execution_count": 37,
   "metadata": {},
   "outputs": [
    {
     "data": {
      "text/html": [
       "<ol class=list-inline>\n",
       "\t<li>2</li>\n",
       "\t<li>5</li>\n",
       "</ol>\n"
      ],
      "text/latex": [
       "\\begin{enumerate*}\n",
       "\\item 2\n",
       "\\item 5\n",
       "\\end{enumerate*}\n"
      ],
      "text/markdown": [
       "1. 2\n",
       "2. 5\n",
       "\n",
       "\n"
      ],
      "text/plain": [
       "[1] 2 5"
      ]
     },
     "metadata": {},
     "output_type": "display_data"
    }
   ],
   "source": [
    "# can use [m,] indexing to grab mth row\n",
    "M[2,]"
   ]
  },
  {
   "cell_type": "code",
   "execution_count": 39,
   "metadata": {},
   "outputs": [
    {
     "data": {
      "text/html": [
       "<table>\n",
       "<caption>A matrix: 3 × 2 of type lgl</caption>\n",
       "<tbody>\n",
       "\t<tr><td>NA</td><td>NA</td></tr>\n",
       "\t<tr><td>NA</td><td>NA</td></tr>\n",
       "\t<tr><td>NA</td><td>NA</td></tr>\n",
       "</tbody>\n",
       "</table>\n"
      ],
      "text/latex": [
       "A matrix: 3 × 2 of type lgl\n",
       "\\begin{tabular}{ll}\n",
       "\t NA & NA\\\\\n",
       "\t NA & NA\\\\\n",
       "\t NA & NA\\\\\n",
       "\\end{tabular}\n"
      ],
      "text/markdown": [
       "\n",
       "A matrix: 3 × 2 of type lgl\n",
       "\n",
       "| NA | NA |\n",
       "| NA | NA |\n",
       "| NA | NA |\n",
       "\n"
      ],
      "text/plain": [
       "     [,1] [,2]\n",
       "[1,] NA   NA  \n",
       "[2,] NA   NA  \n",
       "[3,] NA   NA  "
      ]
     },
     "metadata": {},
     "output_type": "display_data"
    }
   ],
   "source": [
    "#can create empty matrix\n",
    "N <- matrix(nrow=3, ncol=2)\n",
    "N"
   ]
  },
  {
   "cell_type": "code",
   "execution_count": 47,
   "metadata": {},
   "outputs": [
    {
     "data": {
      "text/html": [
       "<table>\n",
       "<caption>A matrix: 2 × 3 of type int</caption>\n",
       "<tbody>\n",
       "\t<tr><td>2</td><td>4</td><td>6</td></tr>\n",
       "\t<tr><td>3</td><td>5</td><td>7</td></tr>\n",
       "</tbody>\n",
       "</table>\n"
      ],
      "text/latex": [
       "A matrix: 2 × 3 of type int\n",
       "\\begin{tabular}{lll}\n",
       "\t 2 & 4 & 6\\\\\n",
       "\t 3 & 5 & 7\\\\\n",
       "\\end{tabular}\n"
      ],
      "text/markdown": [
       "\n",
       "A matrix: 2 × 3 of type int\n",
       "\n",
       "| 2 | 4 | 6 |\n",
       "| 3 | 5 | 7 |\n",
       "\n"
      ],
      "text/plain": [
       "     [,1] [,2] [,3]\n",
       "[1,] 2    4    6   \n",
       "[2,] 3    5    7   "
      ]
     },
     "metadata": {},
     "output_type": "display_data"
    },
    {
     "data": {
      "text/html": [
       "<table>\n",
       "<caption>A matrix: 3 × 2 of type int</caption>\n",
       "<tbody>\n",
       "\t<tr><td>1</td><td>4</td></tr>\n",
       "\t<tr><td>2</td><td>5</td></tr>\n",
       "\t<tr><td>3</td><td>6</td></tr>\n",
       "</tbody>\n",
       "</table>\n"
      ],
      "text/latex": [
       "A matrix: 3 × 2 of type int\n",
       "\\begin{tabular}{ll}\n",
       "\t 1 & 4\\\\\n",
       "\t 2 & 5\\\\\n",
       "\t 3 & 6\\\\\n",
       "\\end{tabular}\n"
      ],
      "text/markdown": [
       "\n",
       "A matrix: 3 × 2 of type int\n",
       "\n",
       "| 1 | 4 |\n",
       "| 2 | 5 |\n",
       "| 3 | 6 |\n",
       "\n"
      ],
      "text/plain": [
       "     [,1] [,2]\n",
       "[1,] 1    4   \n",
       "[2,] 2    5   \n",
       "[3,] 3    6   "
      ]
     },
     "metadata": {},
     "output_type": "display_data"
    }
   ],
   "source": [
    "N <- matrix(c(2:7), nrow=2, ncol=3)\n",
    "N\n",
    "M"
   ]
  },
  {
   "cell_type": "code",
   "execution_count": 44,
   "metadata": {},
   "outputs": [
    {
     "ename": "ERROR",
     "evalue": "Error in N * M: non-conformable arrays\n",
     "output_type": "error",
     "traceback": [
      "Error in N * M: non-conformable arrays\nTraceback:\n"
     ]
    }
   ],
   "source": [
    "z<-N*M"
   ]
  },
  {
   "cell_type": "code",
   "execution_count": 46,
   "metadata": {},
   "outputs": [
    {
     "data": {
      "text/html": [
       "<table>\n",
       "<caption>A matrix: 2 × 2 of type dbl</caption>\n",
       "<tbody>\n",
       "\t<tr><td>28</td><td>64</td></tr>\n",
       "\t<tr><td>34</td><td>79</td></tr>\n",
       "</tbody>\n",
       "</table>\n"
      ],
      "text/latex": [
       "A matrix: 2 × 2 of type dbl\n",
       "\\begin{tabular}{ll}\n",
       "\t 28 & 64\\\\\n",
       "\t 34 & 79\\\\\n",
       "\\end{tabular}\n"
      ],
      "text/markdown": [
       "\n",
       "A matrix: 2 × 2 of type dbl\n",
       "\n",
       "| 28 | 64 |\n",
       "| 34 | 79 |\n",
       "\n"
      ],
      "text/plain": [
       "     [,1] [,2]\n",
       "[1,] 28   64  \n",
       "[2,] 34   79  "
      ]
     },
     "metadata": {},
     "output_type": "display_data"
    }
   ],
   "source": [
    "#to do matrix multiplication, need to be more specific\n",
    "z<-N %*% M\n",
    "z"
   ]
  },
  {
   "cell_type": "code",
   "execution_count": 48,
   "metadata": {},
   "outputs": [
    {
     "data": {
      "text/html": [
       "<ol class=list-inline>\n",
       "\t<li>2</li>\n",
       "\t<li>3</li>\n",
       "</ol>\n"
      ],
      "text/latex": [
       "\\begin{enumerate*}\n",
       "\\item 2\n",
       "\\item 3\n",
       "\\end{enumerate*}\n"
      ],
      "text/markdown": [
       "1. 2\n",
       "2. 3\n",
       "\n",
       "\n"
      ],
      "text/plain": [
       "[1] 2 3"
      ]
     },
     "metadata": {},
     "output_type": "display_data"
    },
    {
     "data": {
      "text/html": [
       "<ol class=list-inline>\n",
       "\t<li>3</li>\n",
       "\t<li>2</li>\n",
       "</ol>\n"
      ],
      "text/latex": [
       "\\begin{enumerate*}\n",
       "\\item 3\n",
       "\\item 2\n",
       "\\end{enumerate*}\n"
      ],
      "text/markdown": [
       "1. 3\n",
       "2. 2\n",
       "\n",
       "\n"
      ],
      "text/plain": [
       "[1] 3 2"
      ]
     },
     "metadata": {},
     "output_type": "display_data"
    },
    {
     "data": {
      "text/html": [
       "<table>\n",
       "<caption>A matrix: 2 × 3 of type int</caption>\n",
       "<tbody>\n",
       "\t<tr><td>1</td><td>2</td><td>3</td></tr>\n",
       "\t<tr><td>4</td><td>5</td><td>6</td></tr>\n",
       "</tbody>\n",
       "</table>\n"
      ],
      "text/latex": [
       "A matrix: 2 × 3 of type int\n",
       "\\begin{tabular}{lll}\n",
       "\t 1 & 2 & 3\\\\\n",
       "\t 4 & 5 & 6\\\\\n",
       "\\end{tabular}\n"
      ],
      "text/markdown": [
       "\n",
       "A matrix: 2 × 3 of type int\n",
       "\n",
       "| 1 | 2 | 3 |\n",
       "| 4 | 5 | 6 |\n",
       "\n"
      ],
      "text/plain": [
       "     [,1] [,2] [,3]\n",
       "[1,] 1    2    3   \n",
       "[2,] 4    5    6   "
      ]
     },
     "metadata": {},
     "output_type": "display_data"
    }
   ],
   "source": [
    "dim(N)\n",
    "dim(M)\n",
    "t(M)"
   ]
  },
  {
   "cell_type": "code",
   "execution_count": 49,
   "metadata": {},
   "outputs": [
    {
     "ename": "ERROR",
     "evalue": "Error in N * M: non-conformable arrays\n",
     "output_type": "error",
     "traceback": [
      "Error in N * M: non-conformable arrays\nTraceback:\n"
     ]
    }
   ],
   "source": [
    "N*M"
   ]
  },
  {
   "cell_type": "code",
   "execution_count": 50,
   "metadata": {},
   "outputs": [
    {
     "data": {
      "text/html": [
       "<table>\n",
       "<caption>A matrix: 3 × 2 of type int</caption>\n",
       "<tbody>\n",
       "\t<tr><td> 2</td><td>12</td></tr>\n",
       "\t<tr><td> 8</td><td>25</td></tr>\n",
       "\t<tr><td>18</td><td>42</td></tr>\n",
       "</tbody>\n",
       "</table>\n"
      ],
      "text/latex": [
       "A matrix: 3 × 2 of type int\n",
       "\\begin{tabular}{ll}\n",
       "\t  2 & 12\\\\\n",
       "\t  8 & 25\\\\\n",
       "\t 18 & 42\\\\\n",
       "\\end{tabular}\n"
      ],
      "text/markdown": [
       "\n",
       "A matrix: 3 × 2 of type int\n",
       "\n",
       "|  2 | 12 |\n",
       "|  8 | 25 |\n",
       "| 18 | 42 |\n",
       "\n"
      ],
      "text/plain": [
       "     [,1] [,2]\n",
       "[1,]  2   12  \n",
       "[2,]  8   25  \n",
       "[3,] 18   42  "
      ]
     },
     "metadata": {},
     "output_type": "display_data"
    }
   ],
   "source": [
    "#element wise multplication\n",
    "t(N)*M"
   ]
  },
  {
   "cell_type": "code",
   "execution_count": 53,
   "metadata": {},
   "outputs": [
    {
     "data": {
      "text/html": [
       "<table>\n",
       "<caption>A matrix: 3 × 1 of type int</caption>\n",
       "<tbody>\n",
       "\t<tr><td>1</td></tr>\n",
       "\t<tr><td>2</td></tr>\n",
       "\t<tr><td>3</td></tr>\n",
       "</tbody>\n",
       "</table>\n"
      ],
      "text/latex": [
       "A matrix: 3 × 1 of type int\n",
       "\\begin{tabular}{l}\n",
       "\t 1\\\\\n",
       "\t 2\\\\\n",
       "\t 3\\\\\n",
       "\\end{tabular}\n"
      ],
      "text/markdown": [
       "\n",
       "A matrix: 3 × 1 of type int\n",
       "\n",
       "| 1 |\n",
       "| 2 |\n",
       "| 3 |\n",
       "\n"
      ],
      "text/plain": [
       "     [,1]\n",
       "[1,] 1   \n",
       "[2,] 2   \n",
       "[3,] 3   "
      ]
     },
     "metadata": {},
     "output_type": "display_data"
    },
    {
     "data": {
      "text/html": [
       "<table>\n",
       "<caption>A matrix: 1 × 3 of type int</caption>\n",
       "<tbody>\n",
       "\t<tr><td>1</td><td>2</td><td>3</td></tr>\n",
       "</tbody>\n",
       "</table>\n"
      ],
      "text/latex": [
       "A matrix: 1 × 3 of type int\n",
       "\\begin{tabular}{lll}\n",
       "\t 1 & 2 & 3\\\\\n",
       "\\end{tabular}\n"
      ],
      "text/markdown": [
       "\n",
       "A matrix: 1 × 3 of type int\n",
       "\n",
       "| 1 | 2 | 3 |\n",
       "\n"
      ],
      "text/plain": [
       "     [,1] [,2] [,3]\n",
       "[1,] 1    2    3   "
      ]
     },
     "metadata": {},
     "output_type": "display_data"
    }
   ],
   "source": [
    "v<-1:3\n",
    "V<-as.matrix(v)\n",
    "V\n",
    "t(V)"
   ]
  },
  {
   "cell_type": "markdown",
   "metadata": {},
   "source": [
    "# Solving systems of linear equations\n",
    "\n",
    "Relatively easy to do. Define matrix and then call solve command"
   ]
  },
  {
   "cell_type": "code",
   "execution_count": 56,
   "metadata": {},
   "outputs": [
    {
     "data": {
      "text/html": [
       "<table>\n",
       "<caption>A matrix: 2 × 2 of type dbl</caption>\n",
       "<tbody>\n",
       "\t<tr><td>1</td><td>-1</td></tr>\n",
       "\t<tr><td>1</td><td> 1</td></tr>\n",
       "</tbody>\n",
       "</table>\n"
      ],
      "text/latex": [
       "A matrix: 2 × 2 of type dbl\n",
       "\\begin{tabular}{ll}\n",
       "\t 1 & -1\\\\\n",
       "\t 1 &  1\\\\\n",
       "\\end{tabular}\n"
      ],
      "text/markdown": [
       "\n",
       "A matrix: 2 × 2 of type dbl\n",
       "\n",
       "| 1 | -1 |\n",
       "| 1 |  1 |\n",
       "\n"
      ],
      "text/plain": [
       "     [,1] [,2]\n",
       "[1,] 1    -1  \n",
       "[2,] 1     1  "
      ]
     },
     "metadata": {},
     "output_type": "display_data"
    },
    {
     "data": {
      "text/html": [
       "<ol class=list-inline>\n",
       "\t<li>2</li>\n",
       "\t<li>4</li>\n",
       "</ol>\n"
      ],
      "text/latex": [
       "\\begin{enumerate*}\n",
       "\\item 2\n",
       "\\item 4\n",
       "\\end{enumerate*}\n"
      ],
      "text/markdown": [
       "1. 2\n",
       "2. 4\n",
       "\n",
       "\n"
      ],
      "text/plain": [
       "[1] 2 4"
      ]
     },
     "metadata": {},
     "output_type": "display_data"
    },
    {
     "data": {
      "text/html": [
       "<ol class=list-inline>\n",
       "\t<li>3</li>\n",
       "\t<li>1</li>\n",
       "</ol>\n"
      ],
      "text/latex": [
       "\\begin{enumerate*}\n",
       "\\item 3\n",
       "\\item 1\n",
       "\\end{enumerate*}\n"
      ],
      "text/markdown": [
       "1. 3\n",
       "2. 1\n",
       "\n",
       "\n"
      ],
      "text/plain": [
       "[1] 3 1"
      ]
     },
     "metadata": {},
     "output_type": "display_data"
    }
   ],
   "source": [
    "A <-matrix(c(1,1,-1,1), nrow=2, ncol=2) \n",
    "b <- c(2,4)\n",
    "x <- solve(A,b)\n",
    "A #represents x+y and x-y\n",
    "b #the \"answers\" to the equations\n",
    "x #solve x + y = 2 and x - y = 4. thus x=3, y=1"
   ]
  },
  {
   "cell_type": "markdown",
   "metadata": {},
   "source": [
    "# Eigenvalues and eigenvectors"
   ]
  },
  {
   "cell_type": "code",
   "execution_count": 62,
   "metadata": {},
   "outputs": [
    {
     "data": {
      "text/html": [
       "<table>\n",
       "<caption>A matrix: 2 × 2 of type dbl</caption>\n",
       "<tbody>\n",
       "\t<tr><td>4</td><td>1</td></tr>\n",
       "\t<tr><td>6</td><td>3</td></tr>\n",
       "</tbody>\n",
       "</table>\n"
      ],
      "text/latex": [
       "A matrix: 2 × 2 of type dbl\n",
       "\\begin{tabular}{ll}\n",
       "\t 4 & 1\\\\\n",
       "\t 6 & 3\\\\\n",
       "\\end{tabular}\n"
      ],
      "text/markdown": [
       "\n",
       "A matrix: 2 × 2 of type dbl\n",
       "\n",
       "| 4 | 1 |\n",
       "| 6 | 3 |\n",
       "\n"
      ],
      "text/plain": [
       "     [,1] [,2]\n",
       "[1,] 4    1   \n",
       "[2,] 6    3   "
      ]
     },
     "metadata": {},
     "output_type": "display_data"
    }
   ],
   "source": [
    "A = matrix(c(4,6,1,3), nrow=2, ncol=2)\n",
    "A"
   ]
  },
  {
   "cell_type": "code",
   "execution_count": 63,
   "metadata": {},
   "outputs": [
    {
     "data": {
      "text/plain": [
       "eigen() decomposition\n",
       "$values\n",
       "[1] 6 1\n",
       "\n",
       "$vectors\n",
       "          [,1]       [,2]\n",
       "[1,] 0.4472136 -0.3162278\n",
       "[2,] 0.8944272  0.9486833\n"
      ]
     },
     "metadata": {},
     "output_type": "display_data"
    }
   ],
   "source": [
    "eigen(A)"
   ]
  },
  {
   "cell_type": "code",
   "execution_count": 64,
   "metadata": {},
   "outputs": [
    {
     "data": {
      "text/html": [
       "<table>\n",
       "<caption>A matrix: 3 × 3 of type dbl</caption>\n",
       "<tbody>\n",
       "\t<tr><td>1</td><td>0</td><td>0</td></tr>\n",
       "\t<tr><td>0</td><td>1</td><td>0</td></tr>\n",
       "\t<tr><td>0</td><td>0</td><td>1</td></tr>\n",
       "</tbody>\n",
       "</table>\n"
      ],
      "text/latex": [
       "A matrix: 3 × 3 of type dbl\n",
       "\\begin{tabular}{lll}\n",
       "\t 1 & 0 & 0\\\\\n",
       "\t 0 & 1 & 0\\\\\n",
       "\t 0 & 0 & 1\\\\\n",
       "\\end{tabular}\n"
      ],
      "text/markdown": [
       "\n",
       "A matrix: 3 × 3 of type dbl\n",
       "\n",
       "| 1 | 0 | 0 |\n",
       "| 0 | 1 | 0 |\n",
       "| 0 | 0 | 1 |\n",
       "\n"
      ],
      "text/plain": [
       "     [,1] [,2] [,3]\n",
       "[1,] 1    0    0   \n",
       "[2,] 0    1    0   \n",
       "[3,] 0    0    1   "
      ]
     },
     "metadata": {},
     "output_type": "display_data"
    }
   ],
   "source": [
    "#identity matrix\n",
    "I <- diag(3)\n",
    "I"
   ]
  },
  {
   "cell_type": "code",
   "execution_count": 66,
   "metadata": {},
   "outputs": [
    {
     "data": {
      "text/html": [
       "<table>\n",
       "<caption>A matrix: 3 × 3 of type dbl</caption>\n",
       "<tbody>\n",
       "\t<tr><td>2</td><td>7</td><td>-1</td></tr>\n",
       "\t<tr><td>6</td><td>5</td><td>12</td></tr>\n",
       "\t<tr><td>7</td><td>0</td><td>-8</td></tr>\n",
       "</tbody>\n",
       "</table>\n"
      ],
      "text/latex": [
       "A matrix: 3 × 3 of type dbl\n",
       "\\begin{tabular}{lll}\n",
       "\t 2 & 7 & -1\\\\\n",
       "\t 6 & 5 & 12\\\\\n",
       "\t 7 & 0 & -8\\\\\n",
       "\\end{tabular}\n"
      ],
      "text/markdown": [
       "\n",
       "A matrix: 3 × 3 of type dbl\n",
       "\n",
       "| 2 | 7 | -1 |\n",
       "| 6 | 5 | 12 |\n",
       "| 7 | 0 | -8 |\n",
       "\n"
      ],
      "text/plain": [
       "     [,1] [,2] [,3]\n",
       "[1,] 2    7    -1  \n",
       "[2,] 6    5    12  \n",
       "[3,] 7    0    -8  "
      ]
     },
     "metadata": {},
     "output_type": "display_data"
    }
   ],
   "source": [
    "B <- matrix(c(2,7,-1,6,5,12,7,0,-8), nrow=3, byrow=T)\n",
    "B"
   ]
  },
  {
   "cell_type": "code",
   "execution_count": 68,
   "metadata": {},
   "outputs": [
    {
     "data": {
      "text/html": [
       "<table>\n",
       "<caption>A matrix: 3 × 3 of type dbl</caption>\n",
       "<tbody>\n",
       "\t<tr><td>-0.04550626</td><td> 0.06370876</td><td> 0.10125142</td></tr>\n",
       "\t<tr><td> 0.15017065</td><td>-0.01023891</td><td>-0.03412969</td></tr>\n",
       "\t<tr><td>-0.03981797</td><td> 0.05574516</td><td>-0.03640501</td></tr>\n",
       "</tbody>\n",
       "</table>\n"
      ],
      "text/latex": [
       "A matrix: 3 × 3 of type dbl\n",
       "\\begin{tabular}{lll}\n",
       "\t -0.04550626 &  0.06370876 &  0.10125142\\\\\n",
       "\t  0.15017065 & -0.01023891 & -0.03412969\\\\\n",
       "\t -0.03981797 &  0.05574516 & -0.03640501\\\\\n",
       "\\end{tabular}\n"
      ],
      "text/markdown": [
       "\n",
       "A matrix: 3 × 3 of type dbl\n",
       "\n",
       "| -0.04550626 |  0.06370876 |  0.10125142 |\n",
       "|  0.15017065 | -0.01023891 | -0.03412969 |\n",
       "| -0.03981797 |  0.05574516 | -0.03640501 |\n",
       "\n"
      ],
      "text/plain": [
       "     [,1]        [,2]        [,3]       \n",
       "[1,] -0.04550626  0.06370876  0.10125142\n",
       "[2,]  0.15017065 -0.01023891 -0.03412969\n",
       "[3,] -0.03981797  0.05574516 -0.03640501"
      ]
     },
     "metadata": {},
     "output_type": "display_data"
    }
   ],
   "source": [
    "#find inverse of B by solving systems of equations using B and identity matrix I\n",
    "Bi <- solve(B,I)\n",
    "Bi"
   ]
  },
  {
   "cell_type": "code",
   "execution_count": 70,
   "metadata": {},
   "outputs": [
    {
     "data": {
      "text/html": [
       "<table>\n",
       "<caption>A matrix: 3 × 3 of type dbl</caption>\n",
       "<tbody>\n",
       "\t<tr><td>1.000000e+00</td><td>-6.938894e-18</td><td> 5.551115e-17</td></tr>\n",
       "\t<tr><td>2.220446e-16</td><td> 1.000000e+00</td><td>-1.110223e-16</td></tr>\n",
       "\t<tr><td>0.000000e+00</td><td>-5.551115e-17</td><td> 1.000000e+00</td></tr>\n",
       "</tbody>\n",
       "</table>\n"
      ],
      "text/latex": [
       "A matrix: 3 × 3 of type dbl\n",
       "\\begin{tabular}{lll}\n",
       "\t 1.000000e+00 & -6.938894e-18 &  5.551115e-17\\\\\n",
       "\t 2.220446e-16 &  1.000000e+00 & -1.110223e-16\\\\\n",
       "\t 0.000000e+00 & -5.551115e-17 &  1.000000e+00\\\\\n",
       "\\end{tabular}\n"
      ],
      "text/markdown": [
       "\n",
       "A matrix: 3 × 3 of type dbl\n",
       "\n",
       "| 1.000000e+00 | -6.938894e-18 |  5.551115e-17 |\n",
       "| 2.220446e-16 |  1.000000e+00 | -1.110223e-16 |\n",
       "| 0.000000e+00 | -5.551115e-17 |  1.000000e+00 |\n",
       "\n"
      ],
      "text/plain": [
       "     [,1]         [,2]          [,3]         \n",
       "[1,] 1.000000e+00 -6.938894e-18  5.551115e-17\n",
       "[2,] 2.220446e-16  1.000000e+00 -1.110223e-16\n",
       "[3,] 0.000000e+00 -5.551115e-17  1.000000e+00"
      ]
     },
     "metadata": {},
     "output_type": "display_data"
    }
   ],
   "source": [
    "#verify inverse matrix\n",
    "B %*% Bi"
   ]
  },
  {
   "cell_type": "markdown",
   "metadata": {},
   "source": [
    "Note that values are not exactly 0 or 1 due to levels of precision. Can set thresholds for 0 and 1"
   ]
  },
  {
   "cell_type": "markdown",
   "metadata": {},
   "source": [
    "## Exercise for matrix\n",
    "Find solution to the following system of equations:\n",
    "<insert pic>\n"
   ]
  },
  {
   "cell_type": "code",
   "execution_count": 73,
   "metadata": {},
   "outputs": [
    {
     "data": {
      "text/html": [
       "<table>\n",
       "<caption>A matrix: 3 × 3 of type dbl</caption>\n",
       "<tbody>\n",
       "\t<tr><td>1</td><td>1</td><td>-1</td></tr>\n",
       "\t<tr><td>2</td><td>1</td><td> 1</td></tr>\n",
       "\t<tr><td>3</td><td>2</td><td>-1</td></tr>\n",
       "</tbody>\n",
       "</table>\n"
      ],
      "text/latex": [
       "A matrix: 3 × 3 of type dbl\n",
       "\\begin{tabular}{lll}\n",
       "\t 1 & 1 & -1\\\\\n",
       "\t 2 & 1 &  1\\\\\n",
       "\t 3 & 2 & -1\\\\\n",
       "\\end{tabular}\n"
      ],
      "text/markdown": [
       "\n",
       "A matrix: 3 × 3 of type dbl\n",
       "\n",
       "| 1 | 1 | -1 |\n",
       "| 2 | 1 |  1 |\n",
       "| 3 | 2 | -1 |\n",
       "\n"
      ],
      "text/plain": [
       "     [,1] [,2] [,3]\n",
       "[1,] 1    1    -1  \n",
       "[2,] 2    1     1  \n",
       "[3,] 3    2    -1  "
      ]
     },
     "metadata": {},
     "output_type": "display_data"
    }
   ],
   "source": [
    "A1 <- matrix(c(1,1,-1),nrow=1)\n",
    "A2 <- matrix(c(2,1,1), nrow=1)\n",
    "A3 <- matrix(c(3,2,-1), nrow=1)\n",
    "A <- rbind(A1,A2,A3)\n",
    "A"
   ]
  },
  {
   "cell_type": "code",
   "execution_count": 74,
   "metadata": {},
   "outputs": [
    {
     "data": {
      "text/html": [
       "<ol class=list-inline>\n",
       "\t<li>6</li>\n",
       "\t<li>-8</li>\n",
       "\t<li>-5</li>\n",
       "</ol>\n"
      ],
      "text/latex": [
       "\\begin{enumerate*}\n",
       "\\item 6\n",
       "\\item -8\n",
       "\\item -5\n",
       "\\end{enumerate*}\n"
      ],
      "text/markdown": [
       "1. 6\n",
       "2. -8\n",
       "3. -5\n",
       "\n",
       "\n"
      ],
      "text/plain": [
       "[1]  6 -8 -5"
      ]
     },
     "metadata": {},
     "output_type": "display_data"
    }
   ],
   "source": [
    "b <- c(3,-1,7)\n",
    "x <-solve(A,b)\n",
    "x "
   ]
  },
  {
   "cell_type": "markdown",
   "metadata": {},
   "source": [
    "Thus x=6, y=-8, z=-5"
   ]
  },
  {
   "cell_type": "markdown",
   "metadata": {},
   "source": [
    "# Lists and dataframes\n",
    "allows concatenation of different data types"
   ]
  },
  {
   "cell_type": "code",
   "execution_count": 77,
   "metadata": {},
   "outputs": [
    {
     "data": {
      "text/html": [
       "<ol>\n",
       "\t<li>1</li>\n",
       "\t<li>2</li>\n",
       "\t<li>'hello'</li>\n",
       "\t<li>3</li>\n",
       "</ol>\n"
      ],
      "text/latex": [
       "\\begin{enumerate}\n",
       "\\item 1\n",
       "\\item 2\n",
       "\\item 'hello'\n",
       "\\item 3\n",
       "\\end{enumerate}\n"
      ],
      "text/markdown": [
       "1. 1\n",
       "2. 2\n",
       "3. 'hello'\n",
       "4. 3\n",
       "\n",
       "\n"
      ],
      "text/plain": [
       "[[1]]\n",
       "[1] 1\n",
       "\n",
       "[[2]]\n",
       "[1] 2\n",
       "\n",
       "[[3]]\n",
       "[1] \"hello\"\n",
       "\n",
       "[[4]]\n",
       "[1] 3\n"
      ]
     },
     "metadata": {},
     "output_type": "display_data"
    }
   ],
   "source": [
    "j <- list(1,2,\"hello\", 3)\n",
    "j"
   ]
  },
  {
   "cell_type": "markdown",
   "metadata": {},
   "source": [
    "## Tags and values"
   ]
  },
  {
   "cell_type": "code",
   "execution_count": 78,
   "metadata": {},
   "outputs": [
    {
     "data": {
      "text/html": [
       "<dl>\n",
       "\t<dt>$name</dt>\n",
       "\t\t<dd>'Bob'</dd>\n",
       "\t<dt>$age</dt>\n",
       "\t\t<dd>45</dd>\n",
       "\t<dt>$employed</dt>\n",
       "\t\t<dd>TRUE</dd>\n",
       "</dl>\n"
      ],
      "text/latex": [
       "\\begin{description}\n",
       "\\item[\\$name] 'Bob'\n",
       "\\item[\\$age] 45\n",
       "\\item[\\$employed] TRUE\n",
       "\\end{description}\n"
      ],
      "text/markdown": [
       "$name\n",
       ":   'Bob'\n",
       "$age\n",
       ":   45\n",
       "$employed\n",
       ":   TRUE\n",
       "\n",
       "\n"
      ],
      "text/plain": [
       "$name\n",
       "[1] \"Bob\"\n",
       "\n",
       "$age\n",
       "[1] 45\n",
       "\n",
       "$employed\n",
       "[1] TRUE\n"
      ]
     },
     "metadata": {},
     "output_type": "display_data"
    }
   ],
   "source": [
    "#can create a list with tags and values\n",
    "j <- list(name=\"Bob\", age=45, employed=T)\n",
    "j"
   ]
  },
  {
   "cell_type": "code",
   "execution_count": 79,
   "metadata": {},
   "outputs": [
    {
     "data": {
      "text/html": [
       "<ol class=list-inline>\n",
       "\t<li>'name'</li>\n",
       "\t<li>'age'</li>\n",
       "\t<li>'employed'</li>\n",
       "</ol>\n"
      ],
      "text/latex": [
       "\\begin{enumerate*}\n",
       "\\item 'name'\n",
       "\\item 'age'\n",
       "\\item 'employed'\n",
       "\\end{enumerate*}\n"
      ],
      "text/markdown": [
       "1. 'name'\n",
       "2. 'age'\n",
       "3. 'employed'\n",
       "\n",
       "\n"
      ],
      "text/plain": [
       "[1] \"name\"     \"age\"      \"employed\""
      ]
     },
     "metadata": {},
     "output_type": "display_data"
    }
   ],
   "source": [
    "names(j) #get list of tags"
   ]
  },
  {
   "cell_type": "code",
   "execution_count": 83,
   "metadata": {},
   "outputs": [
    {
     "data": {
      "text/html": [
       "'Bob'"
      ],
      "text/latex": [
       "'Bob'"
      ],
      "text/markdown": [
       "'Bob'"
      ],
      "text/plain": [
       "[1] \"Bob\""
      ]
     },
     "metadata": {},
     "output_type": "display_data"
    }
   ],
   "source": [
    "#can access individual values inside\n",
    "j$name"
   ]
  },
  {
   "cell_type": "code",
   "execution_count": 82,
   "metadata": {},
   "outputs": [
    {
     "data": {
      "text/html": [
       "45"
      ],
      "text/latex": [
       "45"
      ],
      "text/markdown": [
       "45"
      ],
      "text/plain": [
       "[1] 45"
      ]
     },
     "metadata": {},
     "output_type": "display_data"
    }
   ],
   "source": [
    "j$age"
   ]
  },
  {
   "cell_type": "markdown",
   "metadata": {},
   "source": [
    "## Simple tables"
   ]
  },
  {
   "cell_type": "code",
   "execution_count": 84,
   "metadata": {},
   "outputs": [
    {
     "data": {
      "text/html": [
       "<table>\n",
       "<caption>A data.frame: 6 × 3</caption>\n",
       "<thead>\n",
       "\t<tr><th scope=col>name</th><th scope=col>age</th><th scope=col>employed</th></tr>\n",
       "\t<tr><th scope=col>&lt;fct&gt;</th><th scope=col>&lt;dbl&gt;</th><th scope=col>&lt;lgl&gt;</th></tr>\n",
       "</thead>\n",
       "<tbody>\n",
       "\t<tr><td>Alice   </td><td>23</td><td>FALSE</td></tr>\n",
       "\t<tr><td>Bob     </td><td>45</td><td> TRUE</td></tr>\n",
       "\t<tr><td>Chris   </td><td>38</td><td>FALSE</td></tr>\n",
       "\t<tr><td>Dan     </td><td>48</td><td> TRUE</td></tr>\n",
       "\t<tr><td>Erica   </td><td>23</td><td> TRUE</td></tr>\n",
       "\t<tr><td>Florence</td><td>65</td><td> TRUE</td></tr>\n",
       "</tbody>\n",
       "</table>\n"
      ],
      "text/latex": [
       "A data.frame: 6 × 3\n",
       "\\begin{tabular}{r|lll}\n",
       " name & age & employed\\\\\n",
       " <fct> & <dbl> & <lgl>\\\\\n",
       "\\hline\n",
       "\t Alice    & 23 & FALSE\\\\\n",
       "\t Bob      & 45 &  TRUE\\\\\n",
       "\t Chris    & 38 & FALSE\\\\\n",
       "\t Dan      & 48 &  TRUE\\\\\n",
       "\t Erica    & 23 &  TRUE\\\\\n",
       "\t Florence & 65 &  TRUE\\\\\n",
       "\\end{tabular}\n"
      ],
      "text/markdown": [
       "\n",
       "A data.frame: 6 × 3\n",
       "\n",
       "| name &lt;fct&gt; | age &lt;dbl&gt; | employed &lt;lgl&gt; |\n",
       "|---|---|---|\n",
       "| Alice    | 23 | FALSE |\n",
       "| Bob      | 45 |  TRUE |\n",
       "| Chris    | 38 | FALSE |\n",
       "| Dan      | 48 |  TRUE |\n",
       "| Erica    | 23 |  TRUE |\n",
       "| Florence | 65 |  TRUE |\n",
       "\n"
      ],
      "text/plain": [
       "  name     age employed\n",
       "1 Alice    23  FALSE   \n",
       "2 Bob      45   TRUE   \n",
       "3 Chris    38  FALSE   \n",
       "4 Dan      48   TRUE   \n",
       "5 Erica    23   TRUE   \n",
       "6 Florence 65   TRUE   "
      ]
     },
     "metadata": {},
     "output_type": "display_data"
    }
   ],
   "source": [
    "name<-c(\"Alice\", \"Bob\", \"Chris\", \"Dan\", \"Erica\", \"Florence\")\n",
    "age <- c(23, 45, 38, 48, 23, 65)\n",
    "employed <- c(F,T,F,T,T,T)\n",
    "employment <- data.frame(name, age, employed)\n",
    "employment"
   ]
  },
  {
   "cell_type": "code",
   "execution_count": 85,
   "metadata": {},
   "outputs": [
    {
     "data": {
      "text/html": [
       "<ol class=list-inline>\n",
       "\t<li>23</li>\n",
       "\t<li>45</li>\n",
       "\t<li>38</li>\n",
       "\t<li>48</li>\n",
       "\t<li>23</li>\n",
       "\t<li>65</li>\n",
       "</ol>\n"
      ],
      "text/latex": [
       "\\begin{enumerate*}\n",
       "\\item 23\n",
       "\\item 45\n",
       "\\item 38\n",
       "\\item 48\n",
       "\\item 23\n",
       "\\item 65\n",
       "\\end{enumerate*}\n"
      ],
      "text/markdown": [
       "1. 23\n",
       "2. 45\n",
       "3. 38\n",
       "4. 48\n",
       "5. 23\n",
       "6. 65\n",
       "\n",
       "\n"
      ],
      "text/plain": [
       "[1] 23 45 38 48 23 65"
      ]
     },
     "metadata": {},
     "output_type": "display_data"
    }
   ],
   "source": [
    "employment$age #gives a vector of values of label age"
   ]
  },
  {
   "cell_type": "markdown",
   "metadata": {},
   "source": [
    "Try to access 1st record of table"
   ]
  },
  {
   "cell_type": "code",
   "execution_count": 88,
   "metadata": {},
   "outputs": [
    {
     "data": {
      "text/html": [
       "<table>\n",
       "<caption>A data.frame: 6 × 1</caption>\n",
       "<thead>\n",
       "\t<tr><th scope=col>name</th></tr>\n",
       "\t<tr><th scope=col>&lt;fct&gt;</th></tr>\n",
       "</thead>\n",
       "<tbody>\n",
       "\t<tr><td>Alice   </td></tr>\n",
       "\t<tr><td>Bob     </td></tr>\n",
       "\t<tr><td>Chris   </td></tr>\n",
       "\t<tr><td>Dan     </td></tr>\n",
       "\t<tr><td>Erica   </td></tr>\n",
       "\t<tr><td>Florence</td></tr>\n",
       "</tbody>\n",
       "</table>\n"
      ],
      "text/latex": [
       "A data.frame: 6 × 1\n",
       "\\begin{tabular}{r|l}\n",
       " name\\\\\n",
       " <fct>\\\\\n",
       "\\hline\n",
       "\t Alice   \\\\\n",
       "\t Bob     \\\\\n",
       "\t Chris   \\\\\n",
       "\t Dan     \\\\\n",
       "\t Erica   \\\\\n",
       "\t Florence\\\\\n",
       "\\end{tabular}\n"
      ],
      "text/markdown": [
       "\n",
       "A data.frame: 6 × 1\n",
       "\n",
       "| name &lt;fct&gt; |\n",
       "|---|\n",
       "| Alice    |\n",
       "| Bob      |\n",
       "| Chris    |\n",
       "| Dan      |\n",
       "| Erica    |\n",
       "| Florence |\n",
       "\n"
      ],
      "text/plain": [
       "  name    \n",
       "1 Alice   \n",
       "2 Bob     \n",
       "3 Chris   \n",
       "4 Dan     \n",
       "5 Erica   \n",
       "6 Florence"
      ]
     },
     "metadata": {},
     "output_type": "display_data"
    }
   ],
   "source": [
    "# this doesn't work\n",
    "employment[1]"
   ]
  },
  {
   "cell_type": "code",
   "execution_count": 89,
   "metadata": {},
   "outputs": [
    {
     "data": {
      "text/html": [
       "<table>\n",
       "<caption>A data.frame: 1 × 3</caption>\n",
       "<thead>\n",
       "\t<tr><th scope=col>name</th><th scope=col>age</th><th scope=col>employed</th></tr>\n",
       "\t<tr><th scope=col>&lt;fct&gt;</th><th scope=col>&lt;dbl&gt;</th><th scope=col>&lt;lgl&gt;</th></tr>\n",
       "</thead>\n",
       "<tbody>\n",
       "\t<tr><td>Alice</td><td>23</td><td>FALSE</td></tr>\n",
       "</tbody>\n",
       "</table>\n"
      ],
      "text/latex": [
       "A data.frame: 1 × 3\n",
       "\\begin{tabular}{r|lll}\n",
       " name & age & employed\\\\\n",
       " <fct> & <dbl> & <lgl>\\\\\n",
       "\\hline\n",
       "\t Alice & 23 & FALSE\\\\\n",
       "\\end{tabular}\n"
      ],
      "text/markdown": [
       "\n",
       "A data.frame: 1 × 3\n",
       "\n",
       "| name &lt;fct&gt; | age &lt;dbl&gt; | employed &lt;lgl&gt; |\n",
       "|---|---|---|\n",
       "| Alice | 23 | FALSE |\n",
       "\n"
      ],
      "text/plain": [
       "  name  age employed\n",
       "1 Alice 23  FALSE   "
      ]
     },
     "metadata": {},
     "output_type": "display_data"
    }
   ],
   "source": [
    "# need to use comma notation\n",
    "employment[1,]"
   ]
  },
  {
   "cell_type": "code",
   "execution_count": 91,
   "metadata": {},
   "outputs": [
    {
     "data": {
      "text/html": [
       "<table>\n",
       "<caption>A data.frame: 2 × 3</caption>\n",
       "<thead>\n",
       "\t<tr><th></th><th scope=col>name</th><th scope=col>age</th><th scope=col>employed</th></tr>\n",
       "\t<tr><th></th><th scope=col>&lt;fct&gt;</th><th scope=col>&lt;dbl&gt;</th><th scope=col>&lt;lgl&gt;</th></tr>\n",
       "</thead>\n",
       "<tbody>\n",
       "\t<tr><th scope=row>1</th><td>Alice</td><td>23</td><td>FALSE</td></tr>\n",
       "\t<tr><th scope=row>3</th><td>Chris</td><td>38</td><td>FALSE</td></tr>\n",
       "</tbody>\n",
       "</table>\n"
      ],
      "text/latex": [
       "A data.frame: 2 × 3\n",
       "\\begin{tabular}{r|lll}\n",
       "  & name & age & employed\\\\\n",
       "  & <fct> & <dbl> & <lgl>\\\\\n",
       "\\hline\n",
       "\t1 & Alice & 23 & FALSE\\\\\n",
       "\t3 & Chris & 38 & FALSE\\\\\n",
       "\\end{tabular}\n"
      ],
      "text/markdown": [
       "\n",
       "A data.frame: 2 × 3\n",
       "\n",
       "| <!--/--> | name &lt;fct&gt; | age &lt;dbl&gt; | employed &lt;lgl&gt; |\n",
       "|---|---|---|---|\n",
       "| 1 | Alice | 23 | FALSE |\n",
       "| 3 | Chris | 38 | FALSE |\n",
       "\n"
      ],
      "text/plain": [
       "  name  age employed\n",
       "1 Alice 23  FALSE   \n",
       "3 Chris 38  FALSE   "
      ]
     },
     "metadata": {},
     "output_type": "display_data"
    }
   ],
   "source": [
    "#want the row where the employment value is False\n",
    "employment[employment$employed==F,]"
   ]
  },
  {
   "cell_type": "code",
   "execution_count": 92,
   "metadata": {},
   "outputs": [
    {
     "data": {
      "text/html": [
       "<table>\n",
       "<caption>A data.frame: 3 × 3</caption>\n",
       "<thead>\n",
       "\t<tr><th></th><th scope=col>name</th><th scope=col>age</th><th scope=col>employed</th></tr>\n",
       "\t<tr><th></th><th scope=col>&lt;fct&gt;</th><th scope=col>&lt;dbl&gt;</th><th scope=col>&lt;lgl&gt;</th></tr>\n",
       "</thead>\n",
       "<tbody>\n",
       "\t<tr><th scope=row>2</th><td>Bob     </td><td>45</td><td>TRUE</td></tr>\n",
       "\t<tr><th scope=row>4</th><td>Dan     </td><td>48</td><td>TRUE</td></tr>\n",
       "\t<tr><th scope=row>6</th><td>Florence</td><td>65</td><td>TRUE</td></tr>\n",
       "</tbody>\n",
       "</table>\n"
      ],
      "text/latex": [
       "A data.frame: 3 × 3\n",
       "\\begin{tabular}{r|lll}\n",
       "  & name & age & employed\\\\\n",
       "  & <fct> & <dbl> & <lgl>\\\\\n",
       "\\hline\n",
       "\t2 & Bob      & 45 & TRUE\\\\\n",
       "\t4 & Dan      & 48 & TRUE\\\\\n",
       "\t6 & Florence & 65 & TRUE\\\\\n",
       "\\end{tabular}\n"
      ],
      "text/markdown": [
       "\n",
       "A data.frame: 3 × 3\n",
       "\n",
       "| <!--/--> | name &lt;fct&gt; | age &lt;dbl&gt; | employed &lt;lgl&gt; |\n",
       "|---|---|---|---|\n",
       "| 2 | Bob      | 45 | TRUE |\n",
       "| 4 | Dan      | 48 | TRUE |\n",
       "| 6 | Florence | 65 | TRUE |\n",
       "\n"
      ],
      "text/plain": [
       "  name     age employed\n",
       "2 Bob      45  TRUE    \n",
       "4 Dan      48  TRUE    \n",
       "6 Florence 65  TRUE    "
      ]
     },
     "metadata": {},
     "output_type": "display_data"
    }
   ],
   "source": [
    "# over the age of 40?\n",
    "employment[employment$age > 40, ]"
   ]
  },
  {
   "cell_type": "code",
   "execution_count": 95,
   "metadata": {},
   "outputs": [
    {
     "ename": "ERROR",
     "evalue": "Error in `[.data.frame`(employment, employment$age > 40, employment$name): undefined columns selected\n",
     "output_type": "error",
     "traceback": [
      "Error in `[.data.frame`(employment, employment$age > 40, employment$name): undefined columns selected\nTraceback:\n",
      "1. employment[employment$age > 40, employment$name]",
      "2. `[.data.frame`(employment, employment$age > 40, employment$name)",
      "3. stop(\"undefined columns selected\")"
     ]
    }
   ],
   "source": [
    "#names of people over age of 40? Doesn't work here\n",
    "employment[employment$age > 40, employment$name]"
   ]
  },
  {
   "cell_type": "code",
   "execution_count": 97,
   "metadata": {},
   "outputs": [
    {
     "data": {
      "text/html": [
       "<table>\n",
       "<caption>A data.frame: 1 × 3</caption>\n",
       "<thead>\n",
       "\t<tr><th scope=col>name</th><th scope=col>age</th><th scope=col>employed</th></tr>\n",
       "\t<tr><th scope=col>&lt;fct&gt;</th><th scope=col>&lt;dbl&gt;</th><th scope=col>&lt;lgl&gt;</th></tr>\n",
       "</thead>\n",
       "<tbody>\n",
       "\t<tr><td>Alice</td><td>23</td><td>FALSE</td></tr>\n",
       "</tbody>\n",
       "</table>\n"
      ],
      "text/latex": [
       "A data.frame: 1 × 3\n",
       "\\begin{tabular}{r|lll}\n",
       " name & age & employed\\\\\n",
       " <fct> & <dbl> & <lgl>\\\\\n",
       "\\hline\n",
       "\t Alice & 23 & FALSE\\\\\n",
       "\\end{tabular}\n"
      ],
      "text/markdown": [
       "\n",
       "A data.frame: 1 × 3\n",
       "\n",
       "| name &lt;fct&gt; | age &lt;dbl&gt; | employed &lt;lgl&gt; |\n",
       "|---|---|---|\n",
       "| Alice | 23 | FALSE |\n",
       "\n"
      ],
      "text/plain": [
       "  name  age employed\n",
       "1 Alice 23  FALSE   "
      ]
     },
     "metadata": {},
     "output_type": "display_data"
    }
   ],
   "source": [
    "employment[(employment$age<30) & (employment$employed==F),]"
   ]
  },
  {
   "cell_type": "code",
   "execution_count": 100,
   "metadata": {},
   "outputs": [
    {
     "data": {
      "text/html": [
       "<table>\n",
       "<caption>A data.frame: 6 × 3</caption>\n",
       "<thead>\n",
       "\t<tr><th scope=col>name</th><th scope=col>age</th><th scope=col>employed</th></tr>\n",
       "\t<tr><th scope=col>&lt;fct&gt;</th><th scope=col>&lt;dbl&gt;</th><th scope=col>&lt;lgl&gt;</th></tr>\n",
       "</thead>\n",
       "<tbody>\n",
       "\t<tr><td>Alice   </td><td>23</td><td>FALSE</td></tr>\n",
       "\t<tr><td>Bob     </td><td>45</td><td> TRUE</td></tr>\n",
       "\t<tr><td>Chris   </td><td>38</td><td>FALSE</td></tr>\n",
       "\t<tr><td>Dan     </td><td>48</td><td> TRUE</td></tr>\n",
       "\t<tr><td>Erica   </td><td>23</td><td> TRUE</td></tr>\n",
       "\t<tr><td>Florence</td><td>65</td><td> TRUE</td></tr>\n",
       "</tbody>\n",
       "</table>\n"
      ],
      "text/latex": [
       "A data.frame: 6 × 3\n",
       "\\begin{tabular}{r|lll}\n",
       " name & age & employed\\\\\n",
       " <fct> & <dbl> & <lgl>\\\\\n",
       "\\hline\n",
       "\t Alice    & 23 & FALSE\\\\\n",
       "\t Bob      & 45 &  TRUE\\\\\n",
       "\t Chris    & 38 & FALSE\\\\\n",
       "\t Dan      & 48 &  TRUE\\\\\n",
       "\t Erica    & 23 &  TRUE\\\\\n",
       "\t Florence & 65 &  TRUE\\\\\n",
       "\\end{tabular}\n"
      ],
      "text/markdown": [
       "\n",
       "A data.frame: 6 × 3\n",
       "\n",
       "| name &lt;fct&gt; | age &lt;dbl&gt; | employed &lt;lgl&gt; |\n",
       "|---|---|---|\n",
       "| Alice    | 23 | FALSE |\n",
       "| Bob      | 45 |  TRUE |\n",
       "| Chris    | 38 | FALSE |\n",
       "| Dan      | 48 |  TRUE |\n",
       "| Erica    | 23 |  TRUE |\n",
       "| Florence | 65 |  TRUE |\n",
       "\n"
      ],
      "text/plain": [
       "  name     age employed\n",
       "1 Alice    23  FALSE   \n",
       "2 Bob      45   TRUE   \n",
       "3 Chris    38  FALSE   \n",
       "4 Dan      48   TRUE   \n",
       "5 Erica    23   TRUE   \n",
       "6 Florence 65   TRUE   "
      ]
     },
     "metadata": {},
     "output_type": "display_data"
    }
   ],
   "source": [
    "employment.unemp <- employment[(employment$age<30) & (employment$employed==F),]\n",
    "employment"
   ]
  },
  {
   "cell_type": "code",
   "execution_count": 101,
   "metadata": {},
   "outputs": [
    {
     "data": {
      "text/html": [
       "<table>\n",
       "<caption>A data.frame: 1 × 3</caption>\n",
       "<thead>\n",
       "\t<tr><th scope=col>name</th><th scope=col>age</th><th scope=col>employed</th></tr>\n",
       "\t<tr><th scope=col>&lt;fct&gt;</th><th scope=col>&lt;dbl&gt;</th><th scope=col>&lt;lgl&gt;</th></tr>\n",
       "</thead>\n",
       "<tbody>\n",
       "\t<tr><td>Alice</td><td>23</td><td>FALSE</td></tr>\n",
       "</tbody>\n",
       "</table>\n"
      ],
      "text/latex": [
       "A data.frame: 1 × 3\n",
       "\\begin{tabular}{r|lll}\n",
       " name & age & employed\\\\\n",
       " <fct> & <dbl> & <lgl>\\\\\n",
       "\\hline\n",
       "\t Alice & 23 & FALSE\\\\\n",
       "\\end{tabular}\n"
      ],
      "text/markdown": [
       "\n",
       "A data.frame: 1 × 3\n",
       "\n",
       "| name &lt;fct&gt; | age &lt;dbl&gt; | employed &lt;lgl&gt; |\n",
       "|---|---|---|\n",
       "| Alice | 23 | FALSE |\n",
       "\n"
      ],
      "text/plain": [
       "  name  age employed\n",
       "1 Alice 23  FALSE   "
      ]
     },
     "metadata": {},
     "output_type": "display_data"
    }
   ],
   "source": [
    "employment.unemp"
   ]
  },
  {
   "cell_type": "markdown",
   "metadata": {},
   "source": [
    "# Class 3: rain.dat analysis"
   ]
  },
  {
   "cell_type": "code",
   "execution_count": 3,
   "metadata": {},
   "outputs": [],
   "source": [
    "raindays <- read.table(\"rain.dat\", header=T) #read input data"
   ]
  },
  {
   "cell_type": "code",
   "execution_count": 4,
   "metadata": {},
   "outputs": [
    {
     "data": {
      "text/html": [
       "<table>\n",
       "<caption>A data.frame: 10 × 14</caption>\n",
       "<thead>\n",
       "\t<tr><th scope=col>YEAR</th><th scope=col>JAN</th><th scope=col>FEB</th><th scope=col>MAR</th><th scope=col>APR</th><th scope=col>MAY</th><th scope=col>JUN</th><th scope=col>JUL</th><th scope=col>AUG</th><th scope=col>SEP</th><th scope=col>OCT</th><th scope=col>NOV</th><th scope=col>DEC</th><th scope=col>ANN</th></tr>\n",
       "\t<tr><th scope=col>&lt;int&gt;</th><th scope=col>&lt;int&gt;</th><th scope=col>&lt;int&gt;</th><th scope=col>&lt;int&gt;</th><th scope=col>&lt;int&gt;</th><th scope=col>&lt;int&gt;</th><th scope=col>&lt;int&gt;</th><th scope=col>&lt;int&gt;</th><th scope=col>&lt;int&gt;</th><th scope=col>&lt;int&gt;</th><th scope=col>&lt;int&gt;</th><th scope=col>&lt;int&gt;</th><th scope=col>&lt;int&gt;</th><th scope=col>&lt;int&gt;</th></tr>\n",
       "</thead>\n",
       "<tbody>\n",
       "\t<tr><td>1893</td><td>10</td><td>12</td><td>12</td><td>14</td><td>11</td><td> 9</td><td> 8</td><td> 4</td><td> 3</td><td>7</td><td>8</td><td>10</td><td>108</td></tr>\n",
       "\t<tr><td>1894</td><td> 6</td><td> 5</td><td>10</td><td>12</td><td>10</td><td> 8</td><td> 2</td><td> 7</td><td>11</td><td>9</td><td>4</td><td> 5</td><td> 89</td></tr>\n",
       "\t<tr><td>1895</td><td>10</td><td> 5</td><td> 6</td><td> 6</td><td>11</td><td> 5</td><td> 0</td><td> 6</td><td> 8</td><td>5</td><td>8</td><td> 9</td><td> 79</td></tr>\n",
       "\t<tr><td>1896</td><td> 2</td><td> 5</td><td> 4</td><td>11</td><td>12</td><td> 7</td><td>11</td><td> 8</td><td>12</td><td>4</td><td>6</td><td> 6</td><td> 88</td></tr>\n",
       "\t<tr><td>1897</td><td> 8</td><td> 8</td><td> 8</td><td>13</td><td> 7</td><td>16</td><td> 6</td><td> 7</td><td> 5</td><td>3</td><td>4</td><td> 5</td><td> 90</td></tr>\n",
       "\t<tr><td>1898</td><td> 7</td><td> 4</td><td> 8</td><td>12</td><td>17</td><td> 9</td><td> 5</td><td>12</td><td>10</td><td>5</td><td>5</td><td> 4</td><td> 98</td></tr>\n",
       "\t<tr><td>1899</td><td> 3</td><td> 3</td><td> 3</td><td> 8</td><td>16</td><td> 7</td><td> 8</td><td> 6</td><td> 5</td><td>2</td><td>5</td><td> 2</td><td> 68</td></tr>\n",
       "\t<tr><td>1900</td><td> 3</td><td> 4</td><td> 5</td><td> 7</td><td>11</td><td> 8</td><td>11</td><td> 9</td><td>12</td><td>7</td><td>1</td><td> 3</td><td> 81</td></tr>\n",
       "\t<tr><td>1901</td><td> 3</td><td> 4</td><td>10</td><td> 8</td><td> 9</td><td> 9</td><td> 6</td><td> 5</td><td> 7</td><td>6</td><td>4</td><td> 6</td><td> 77</td></tr>\n",
       "\t<tr><td>1902</td><td> 4</td><td> 4</td><td> 6</td><td> 4</td><td>17</td><td>18</td><td>14</td><td>11</td><td> 8</td><td>7</td><td>5</td><td> 7</td><td>105</td></tr>\n",
       "</tbody>\n",
       "</table>\n"
      ],
      "text/latex": [
       "A data.frame: 10 × 14\n",
       "\\begin{tabular}{r|llllllllllllll}\n",
       " YEAR & JAN & FEB & MAR & APR & MAY & JUN & JUL & AUG & SEP & OCT & NOV & DEC & ANN\\\\\n",
       " <int> & <int> & <int> & <int> & <int> & <int> & <int> & <int> & <int> & <int> & <int> & <int> & <int> & <int>\\\\\n",
       "\\hline\n",
       "\t 1893 & 10 & 12 & 12 & 14 & 11 &  9 &  8 &  4 &  3 & 7 & 8 & 10 & 108\\\\\n",
       "\t 1894 &  6 &  5 & 10 & 12 & 10 &  8 &  2 &  7 & 11 & 9 & 4 &  5 &  89\\\\\n",
       "\t 1895 & 10 &  5 &  6 &  6 & 11 &  5 &  0 &  6 &  8 & 5 & 8 &  9 &  79\\\\\n",
       "\t 1896 &  2 &  5 &  4 & 11 & 12 &  7 & 11 &  8 & 12 & 4 & 6 &  6 &  88\\\\\n",
       "\t 1897 &  8 &  8 &  8 & 13 &  7 & 16 &  6 &  7 &  5 & 3 & 4 &  5 &  90\\\\\n",
       "\t 1898 &  7 &  4 &  8 & 12 & 17 &  9 &  5 & 12 & 10 & 5 & 5 &  4 &  98\\\\\n",
       "\t 1899 &  3 &  3 &  3 &  8 & 16 &  7 &  8 &  6 &  5 & 2 & 5 &  2 &  68\\\\\n",
       "\t 1900 &  3 &  4 &  5 &  7 & 11 &  8 & 11 &  9 & 12 & 7 & 1 &  3 &  81\\\\\n",
       "\t 1901 &  3 &  4 & 10 &  8 &  9 &  9 &  6 &  5 &  7 & 6 & 4 &  6 &  77\\\\\n",
       "\t 1902 &  4 &  4 &  6 &  4 & 17 & 18 & 14 & 11 &  8 & 7 & 5 &  7 & 105\\\\\n",
       "\\end{tabular}\n"
      ],
      "text/markdown": [
       "\n",
       "A data.frame: 10 × 14\n",
       "\n",
       "| YEAR &lt;int&gt; | JAN &lt;int&gt; | FEB &lt;int&gt; | MAR &lt;int&gt; | APR &lt;int&gt; | MAY &lt;int&gt; | JUN &lt;int&gt; | JUL &lt;int&gt; | AUG &lt;int&gt; | SEP &lt;int&gt; | OCT &lt;int&gt; | NOV &lt;int&gt; | DEC &lt;int&gt; | ANN &lt;int&gt; |\n",
       "|---|---|---|---|---|---|---|---|---|---|---|---|---|---|\n",
       "| 1893 | 10 | 12 | 12 | 14 | 11 |  9 |  8 |  4 |  3 | 7 | 8 | 10 | 108 |\n",
       "| 1894 |  6 |  5 | 10 | 12 | 10 |  8 |  2 |  7 | 11 | 9 | 4 |  5 |  89 |\n",
       "| 1895 | 10 |  5 |  6 |  6 | 11 |  5 |  0 |  6 |  8 | 5 | 8 |  9 |  79 |\n",
       "| 1896 |  2 |  5 |  4 | 11 | 12 |  7 | 11 |  8 | 12 | 4 | 6 |  6 |  88 |\n",
       "| 1897 |  8 |  8 |  8 | 13 |  7 | 16 |  6 |  7 |  5 | 3 | 4 |  5 |  90 |\n",
       "| 1898 |  7 |  4 |  8 | 12 | 17 |  9 |  5 | 12 | 10 | 5 | 5 |  4 |  98 |\n",
       "| 1899 |  3 |  3 |  3 |  8 | 16 |  7 |  8 |  6 |  5 | 2 | 5 |  2 |  68 |\n",
       "| 1900 |  3 |  4 |  5 |  7 | 11 |  8 | 11 |  9 | 12 | 7 | 1 |  3 |  81 |\n",
       "| 1901 |  3 |  4 | 10 |  8 |  9 |  9 |  6 |  5 |  7 | 6 | 4 |  6 |  77 |\n",
       "| 1902 |  4 |  4 |  6 |  4 | 17 | 18 | 14 | 11 |  8 | 7 | 5 |  7 | 105 |\n",
       "\n"
      ],
      "text/plain": [
       "   YEAR JAN FEB MAR APR MAY JUN JUL AUG SEP OCT NOV DEC ANN\n",
       "1  1893 10  12  12  14  11   9   8   4   3  7   8   10  108\n",
       "2  1894  6   5  10  12  10   8   2   7  11  9   4    5   89\n",
       "3  1895 10   5   6   6  11   5   0   6   8  5   8    9   79\n",
       "4  1896  2   5   4  11  12   7  11   8  12  4   6    6   88\n",
       "5  1897  8   8   8  13   7  16   6   7   5  3   4    5   90\n",
       "6  1898  7   4   8  12  17   9   5  12  10  5   5    4   98\n",
       "7  1899  3   3   3   8  16   7   8   6   5  2   5    2   68\n",
       "8  1900  3   4   5   7  11   8  11   9  12  7   1    3   81\n",
       "9  1901  3   4  10   8   9   9   6   5   7  6   4    6   77\n",
       "10 1902  4   4   6   4  17  18  14  11   8  7   5    7  105"
      ]
     },
     "metadata": {},
     "output_type": "display_data"
    }
   ],
   "source": [
    "#look at 1st 10 rows\n",
    "raindays[1:10,]"
   ]
  },
  {
   "cell_type": "code",
   "execution_count": 6,
   "metadata": {},
   "outputs": [
    {
     "data": {
      "text/html": [
       "<ol class=list-inline>\n",
       "\t<li>10</li>\n",
       "\t<li>6</li>\n",
       "\t<li>10</li>\n",
       "\t<li>2</li>\n",
       "\t<li>8</li>\n",
       "\t<li>7</li>\n",
       "\t<li>3</li>\n",
       "\t<li>3</li>\n",
       "\t<li>3</li>\n",
       "\t<li>4</li>\n",
       "\t<li>4</li>\n",
       "\t<li>5</li>\n",
       "\t<li>8</li>\n",
       "\t<li>5</li>\n",
       "\t<li>12</li>\n",
       "\t<li>1</li>\n",
       "\t<li>4</li>\n",
       "\t<li>6</li>\n",
       "\t<li>5</li>\n",
       "\t<li>4</li>\n",
       "\t<li>5</li>\n",
       "\t<li>3</li>\n",
       "\t<li>7</li>\n",
       "\t<li>8</li>\n",
       "\t<li>7</li>\n",
       "\t<li>7</li>\n",
       "\t<li>2</li>\n",
       "\t<li>3</li>\n",
       "\t<li>5</li>\n",
       "\t<li>2</li>\n",
       "\t<li>8</li>\n",
       "\t<li>6</li>\n",
       "\t<li>1</li>\n",
       "\t<li>4</li>\n",
       "\t<li>4</li>\n",
       "\t<li>3</li>\n",
       "\t<li>9</li>\n",
       "\t<li>9</li>\n",
       "\t<li>1</li>\n",
       "\t<li>9</li>\n",
       "\t<li>2</li>\n",
       "\t<li>5</li>\n",
       "\t<li>8</li>\n",
       "\t<li>12</li>\n",
       "\t<li>7</li>\n",
       "\t<li>10</li>\n",
       "\t<li>7</li>\n",
       "\t<li>5</li>\n",
       "\t<li>11</li>\n",
       "\t<li>3</li>\n",
       "\t<li>11</li>\n",
       "\t<li>6</li>\n",
       "\t<li>4</li>\n",
       "\t<li>7</li>\n",
       "\t<li>8</li>\n",
       "\t<li>5</li>\n",
       "\t<li>13</li>\n",
       "\t<li>8</li>\n",
       "\t<li>5</li>\n",
       "\t<li>6</li>\n",
       "\t<li>5</li>\n",
       "\t<li>3</li>\n",
       "\t<li>11</li>\n",
       "\t<li>7</li>\n",
       "\t<li>10</li>\n",
       "\t<li>6</li>\n",
       "\t<li>6</li>\n",
       "\t<li>6</li>\n",
       "\t<li>4</li>\n",
       "\t<li>9</li>\n",
       "\t<li>10</li>\n",
       "\t<li>4</li>\n",
       "\t<li>9</li>\n",
       "\t<li>5</li>\n",
       "\t<li>5</li>\n",
       "\t<li>6</li>\n",
       "\t<li>9</li>\n",
       "\t<li>7</li>\n",
       "\t<li>4</li>\n",
       "\t<li>5</li>\n",
       "\t<li>4</li>\n",
       "\t<li>10</li>\n",
       "\t<li>9</li>\n",
       "\t<li>4</li>\n",
       "\t<li>9</li>\n",
       "\t<li>5</li>\n",
       "\t<li>11</li>\n",
       "\t<li>12</li>\n",
       "\t<li>4</li>\n",
       "\t<li>14</li>\n",
       "\t<li>6</li>\n",
       "\t<li>6</li>\n",
       "\t<li>5</li>\n",
       "\t<li>5</li>\n",
       "\t<li>5</li>\n",
       "\t<li>6</li>\n",
       "\t<li>7</li>\n",
       "\t<li>6</li>\n",
       "\t<li>6</li>\n",
       "\t<li>9</li>\n",
       "\t<li>12</li>\n",
       "\t<li>14</li>\n",
       "\t<li>8</li>\n",
       "\t<li>12</li>\n",
       "\t<li>9</li>\n",
       "\t<li>12</li>\n",
       "\t<li>15</li>\n",
       "\t<li>10</li>\n",
       "\t<li>9</li>\n",
       "\t<li>3</li>\n",
       "\t<li>5</li>\n",
       "\t<li>7</li>\n",
       "\t<li>13</li>\n",
       "\t<li>7</li>\n",
       "\t<li>7</li>\n",
       "\t<li>12</li>\n",
       "\t<li>9</li>\n",
       "\t<li>7</li>\n",
       "\t<li>8</li>\n",
       "\t<li>9</li>\n",
       "\t<li>5</li>\n",
       "</ol>\n"
      ],
      "text/latex": [
       "\\begin{enumerate*}\n",
       "\\item 10\n",
       "\\item 6\n",
       "\\item 10\n",
       "\\item 2\n",
       "\\item 8\n",
       "\\item 7\n",
       "\\item 3\n",
       "\\item 3\n",
       "\\item 3\n",
       "\\item 4\n",
       "\\item 4\n",
       "\\item 5\n",
       "\\item 8\n",
       "\\item 5\n",
       "\\item 12\n",
       "\\item 1\n",
       "\\item 4\n",
       "\\item 6\n",
       "\\item 5\n",
       "\\item 4\n",
       "\\item 5\n",
       "\\item 3\n",
       "\\item 7\n",
       "\\item 8\n",
       "\\item 7\n",
       "\\item 7\n",
       "\\item 2\n",
       "\\item 3\n",
       "\\item 5\n",
       "\\item 2\n",
       "\\item 8\n",
       "\\item 6\n",
       "\\item 1\n",
       "\\item 4\n",
       "\\item 4\n",
       "\\item 3\n",
       "\\item 9\n",
       "\\item 9\n",
       "\\item 1\n",
       "\\item 9\n",
       "\\item 2\n",
       "\\item 5\n",
       "\\item 8\n",
       "\\item 12\n",
       "\\item 7\n",
       "\\item 10\n",
       "\\item 7\n",
       "\\item 5\n",
       "\\item 11\n",
       "\\item 3\n",
       "\\item 11\n",
       "\\item 6\n",
       "\\item 4\n",
       "\\item 7\n",
       "\\item 8\n",
       "\\item 5\n",
       "\\item 13\n",
       "\\item 8\n",
       "\\item 5\n",
       "\\item 6\n",
       "\\item 5\n",
       "\\item 3\n",
       "\\item 11\n",
       "\\item 7\n",
       "\\item 10\n",
       "\\item 6\n",
       "\\item 6\n",
       "\\item 6\n",
       "\\item 4\n",
       "\\item 9\n",
       "\\item 10\n",
       "\\item 4\n",
       "\\item 9\n",
       "\\item 5\n",
       "\\item 5\n",
       "\\item 6\n",
       "\\item 9\n",
       "\\item 7\n",
       "\\item 4\n",
       "\\item 5\n",
       "\\item 4\n",
       "\\item 10\n",
       "\\item 9\n",
       "\\item 4\n",
       "\\item 9\n",
       "\\item 5\n",
       "\\item 11\n",
       "\\item 12\n",
       "\\item 4\n",
       "\\item 14\n",
       "\\item 6\n",
       "\\item 6\n",
       "\\item 5\n",
       "\\item 5\n",
       "\\item 5\n",
       "\\item 6\n",
       "\\item 7\n",
       "\\item 6\n",
       "\\item 6\n",
       "\\item 9\n",
       "\\item 12\n",
       "\\item 14\n",
       "\\item 8\n",
       "\\item 12\n",
       "\\item 9\n",
       "\\item 12\n",
       "\\item 15\n",
       "\\item 10\n",
       "\\item 9\n",
       "\\item 3\n",
       "\\item 5\n",
       "\\item 7\n",
       "\\item 13\n",
       "\\item 7\n",
       "\\item 7\n",
       "\\item 12\n",
       "\\item 9\n",
       "\\item 7\n",
       "\\item 8\n",
       "\\item 9\n",
       "\\item 5\n",
       "\\end{enumerate*}\n"
      ],
      "text/markdown": [
       "1. 10\n",
       "2. 6\n",
       "3. 10\n",
       "4. 2\n",
       "5. 8\n",
       "6. 7\n",
       "7. 3\n",
       "8. 3\n",
       "9. 3\n",
       "10. 4\n",
       "11. 4\n",
       "12. 5\n",
       "13. 8\n",
       "14. 5\n",
       "15. 12\n",
       "16. 1\n",
       "17. 4\n",
       "18. 6\n",
       "19. 5\n",
       "20. 4\n",
       "21. 5\n",
       "22. 3\n",
       "23. 7\n",
       "24. 8\n",
       "25. 7\n",
       "26. 7\n",
       "27. 2\n",
       "28. 3\n",
       "29. 5\n",
       "30. 2\n",
       "31. 8\n",
       "32. 6\n",
       "33. 1\n",
       "34. 4\n",
       "35. 4\n",
       "36. 3\n",
       "37. 9\n",
       "38. 9\n",
       "39. 1\n",
       "40. 9\n",
       "41. 2\n",
       "42. 5\n",
       "43. 8\n",
       "44. 12\n",
       "45. 7\n",
       "46. 10\n",
       "47. 7\n",
       "48. 5\n",
       "49. 11\n",
       "50. 3\n",
       "51. 11\n",
       "52. 6\n",
       "53. 4\n",
       "54. 7\n",
       "55. 8\n",
       "56. 5\n",
       "57. 13\n",
       "58. 8\n",
       "59. 5\n",
       "60. 6\n",
       "61. 5\n",
       "62. 3\n",
       "63. 11\n",
       "64. 7\n",
       "65. 10\n",
       "66. 6\n",
       "67. 6\n",
       "68. 6\n",
       "69. 4\n",
       "70. 9\n",
       "71. 10\n",
       "72. 4\n",
       "73. 9\n",
       "74. 5\n",
       "75. 5\n",
       "76. 6\n",
       "77. 9\n",
       "78. 7\n",
       "79. 4\n",
       "80. 5\n",
       "81. 4\n",
       "82. 10\n",
       "83. 9\n",
       "84. 4\n",
       "85. 9\n",
       "86. 5\n",
       "87. 11\n",
       "88. 12\n",
       "89. 4\n",
       "90. 14\n",
       "91. 6\n",
       "92. 6\n",
       "93. 5\n",
       "94. 5\n",
       "95. 5\n",
       "96. 6\n",
       "97. 7\n",
       "98. 6\n",
       "99. 6\n",
       "100. 9\n",
       "101. 12\n",
       "102. 14\n",
       "103. 8\n",
       "104. 12\n",
       "105. 9\n",
       "106. 12\n",
       "107. 15\n",
       "108. 10\n",
       "109. 9\n",
       "110. 3\n",
       "111. 5\n",
       "112. 7\n",
       "113. 13\n",
       "114. 7\n",
       "115. 7\n",
       "116. 12\n",
       "117. 9\n",
       "118. 7\n",
       "119. 8\n",
       "120. 9\n",
       "121. 5\n",
       "\n",
       "\n"
      ],
      "text/plain": [
       "  [1] 10  6 10  2  8  7  3  3  3  4  4  5  8  5 12  1  4  6  5  4  5  3  7  8  7\n",
       " [26]  7  2  3  5  2  8  6  1  4  4  3  9  9  1  9  2  5  8 12  7 10  7  5 11  3\n",
       " [51] 11  6  4  7  8  5 13  8  5  6  5  3 11  7 10  6  6  6  4  9 10  4  9  5  5\n",
       " [76]  6  9  7  4  5  4 10  9  4  9  5 11 12  4 14  6  6  5  5  5  6  7  6  6  9\n",
       "[101] 12 14  8 12  9 12 15 10  9  3  5  7 13  7  7 12  9  7  8  9  5"
      ]
     },
     "metadata": {},
     "output_type": "display_data"
    }
   ],
   "source": [
    "raindays$JAN #show as vector"
   ]
  },
  {
   "cell_type": "code",
   "execution_count": 7,
   "metadata": {},
   "outputs": [
    {
     "data": {
      "text/html": [
       "6.80165289256198"
      ],
      "text/latex": [
       "6.80165289256198"
      ],
      "text/markdown": [
       "6.80165289256198"
      ],
      "text/plain": [
       "[1] 6.801653"
      ]
     },
     "metadata": {},
     "output_type": "display_data"
    }
   ],
   "source": [
    "mean(raindays$JAN)"
   ]
  },
  {
   "cell_type": "code",
   "execution_count": 8,
   "metadata": {},
   "outputs": [
    {
     "data": {
      "text/html": [
       "6"
      ],
      "text/latex": [
       "6"
      ],
      "text/markdown": [
       "6"
      ],
      "text/plain": [
       "[1] 6"
      ]
     },
     "metadata": {},
     "output_type": "display_data"
    }
   ],
   "source": [
    "median(raindays$JAN)"
   ]
  },
  {
   "cell_type": "code",
   "execution_count": 9,
   "metadata": {},
   "outputs": [
    {
     "data": {
      "text/html": [
       "1"
      ],
      "text/latex": [
       "1"
      ],
      "text/markdown": [
       "1"
      ],
      "text/plain": [
       "[1] 1"
      ]
     },
     "metadata": {},
     "output_type": "display_data"
    }
   ],
   "source": [
    "min(raindays$JAN)"
   ]
  },
  {
   "cell_type": "code",
   "execution_count": 10,
   "metadata": {},
   "outputs": [
    {
     "data": {
      "text/html": [
       "15"
      ],
      "text/latex": [
       "15"
      ],
      "text/markdown": [
       "15"
      ],
      "text/plain": [
       "[1] 15"
      ]
     },
     "metadata": {},
     "output_type": "display_data"
    }
   ],
   "source": [
    "max(raindays$JAN)"
   ]
  },
  {
   "cell_type": "code",
   "execution_count": 12,
   "metadata": {},
   "outputs": [
    {
     "data": {
      "text/html": [
       "3.09736402636915"
      ],
      "text/latex": [
       "3.09736402636915"
      ],
      "text/markdown": [
       "3.09736402636915"
      ],
      "text/plain": [
       "[1] 3.097364"
      ]
     },
     "metadata": {},
     "output_type": "display_data"
    }
   ],
   "source": [
    "sd(raindays$JAN)"
   ]
  },
  {
   "cell_type": "code",
   "execution_count": 13,
   "metadata": {},
   "outputs": [
    {
     "data": {
      "text/plain": [
       "   Min. 1st Qu.  Median    Mean 3rd Qu.    Max. \n",
       "  1.000   5.000   6.000   6.802   9.000  15.000 "
      ]
     },
     "metadata": {},
     "output_type": "display_data"
    }
   ],
   "source": [
    "summary(raindays$JAN) #gives all the statistics"
   ]
  },
  {
   "cell_type": "code",
   "execution_count": 14,
   "metadata": {},
   "outputs": [
    {
     "data": {
      "text/html": [
       "<table>\n",
       "<caption>A data.frame: 3 × 14</caption>\n",
       "<thead>\n",
       "\t<tr><th></th><th scope=col>YEAR</th><th scope=col>JAN</th><th scope=col>FEB</th><th scope=col>MAR</th><th scope=col>APR</th><th scope=col>MAY</th><th scope=col>JUN</th><th scope=col>JUL</th><th scope=col>AUG</th><th scope=col>SEP</th><th scope=col>OCT</th><th scope=col>NOV</th><th scope=col>DEC</th><th scope=col>ANN</th></tr>\n",
       "\t<tr><th></th><th scope=col>&lt;int&gt;</th><th scope=col>&lt;int&gt;</th><th scope=col>&lt;int&gt;</th><th scope=col>&lt;int&gt;</th><th scope=col>&lt;int&gt;</th><th scope=col>&lt;int&gt;</th><th scope=col>&lt;int&gt;</th><th scope=col>&lt;int&gt;</th><th scope=col>&lt;int&gt;</th><th scope=col>&lt;int&gt;</th><th scope=col>&lt;int&gt;</th><th scope=col>&lt;int&gt;</th><th scope=col>&lt;int&gt;</th><th scope=col>&lt;int&gt;</th></tr>\n",
       "</thead>\n",
       "<tbody>\n",
       "\t<tr><th scope=row>16</th><td>1908</td><td>1</td><td>7</td><td>6</td><td>9</td><td>15</td><td>11</td><td>9</td><td>6</td><td> 3</td><td> 6</td><td> 6</td><td>3</td><td>82</td></tr>\n",
       "\t<tr><th scope=row>33</th><td>1925</td><td>1</td><td>4</td><td>4</td><td>8</td><td> 9</td><td>12</td><td>6</td><td>7</td><td>14</td><td>13</td><td> 4</td><td>4</td><td>86</td></tr>\n",
       "\t<tr><th scope=row>39</th><td>1931</td><td>1</td><td>1</td><td>6</td><td>9</td><td> 9</td><td> 6</td><td>6</td><td>6</td><td>10</td><td>12</td><td>11</td><td>7</td><td>84</td></tr>\n",
       "</tbody>\n",
       "</table>\n"
      ],
      "text/latex": [
       "A data.frame: 3 × 14\n",
       "\\begin{tabular}{r|llllllllllllll}\n",
       "  & YEAR & JAN & FEB & MAR & APR & MAY & JUN & JUL & AUG & SEP & OCT & NOV & DEC & ANN\\\\\n",
       "  & <int> & <int> & <int> & <int> & <int> & <int> & <int> & <int> & <int> & <int> & <int> & <int> & <int> & <int>\\\\\n",
       "\\hline\n",
       "\t16 & 1908 & 1 & 7 & 6 & 9 & 15 & 11 & 9 & 6 &  3 &  6 &  6 & 3 & 82\\\\\n",
       "\t33 & 1925 & 1 & 4 & 4 & 8 &  9 & 12 & 6 & 7 & 14 & 13 &  4 & 4 & 86\\\\\n",
       "\t39 & 1931 & 1 & 1 & 6 & 9 &  9 &  6 & 6 & 6 & 10 & 12 & 11 & 7 & 84\\\\\n",
       "\\end{tabular}\n"
      ],
      "text/markdown": [
       "\n",
       "A data.frame: 3 × 14\n",
       "\n",
       "| <!--/--> | YEAR &lt;int&gt; | JAN &lt;int&gt; | FEB &lt;int&gt; | MAR &lt;int&gt; | APR &lt;int&gt; | MAY &lt;int&gt; | JUN &lt;int&gt; | JUL &lt;int&gt; | AUG &lt;int&gt; | SEP &lt;int&gt; | OCT &lt;int&gt; | NOV &lt;int&gt; | DEC &lt;int&gt; | ANN &lt;int&gt; |\n",
       "|---|---|---|---|---|---|---|---|---|---|---|---|---|---|---|\n",
       "| 16 | 1908 | 1 | 7 | 6 | 9 | 15 | 11 | 9 | 6 |  3 |  6 |  6 | 3 | 82 |\n",
       "| 33 | 1925 | 1 | 4 | 4 | 8 |  9 | 12 | 6 | 7 | 14 | 13 |  4 | 4 | 86 |\n",
       "| 39 | 1931 | 1 | 1 | 6 | 9 |  9 |  6 | 6 | 6 | 10 | 12 | 11 | 7 | 84 |\n",
       "\n"
      ],
      "text/plain": [
       "   YEAR JAN FEB MAR APR MAY JUN JUL AUG SEP OCT NOV DEC ANN\n",
       "16 1908 1   7   6   9   15  11  9   6    3   6   6  3   82 \n",
       "33 1925 1   4   4   8    9  12  6   7   14  13   4  4   86 \n",
       "39 1931 1   1   6   9    9   6  6   6   10  12  11  7   84 "
      ]
     },
     "metadata": {},
     "output_type": "display_data"
    }
   ],
   "source": [
    "raindays[raindays$JAN==1,]"
   ]
  },
  {
   "cell_type": "code",
   "execution_count": 15,
   "metadata": {},
   "outputs": [
    {
     "data": {
      "text/html": [
       "<table>\n",
       "<caption>A data.frame: 3 × 14</caption>\n",
       "<thead>\n",
       "\t<tr><th></th><th scope=col>YEAR</th><th scope=col>JAN</th><th scope=col>FEB</th><th scope=col>MAR</th><th scope=col>APR</th><th scope=col>MAY</th><th scope=col>JUN</th><th scope=col>JUL</th><th scope=col>AUG</th><th scope=col>SEP</th><th scope=col>OCT</th><th scope=col>NOV</th><th scope=col>DEC</th><th scope=col>ANN</th></tr>\n",
       "\t<tr><th></th><th scope=col>&lt;int&gt;</th><th scope=col>&lt;int&gt;</th><th scope=col>&lt;int&gt;</th><th scope=col>&lt;int&gt;</th><th scope=col>&lt;int&gt;</th><th scope=col>&lt;int&gt;</th><th scope=col>&lt;int&gt;</th><th scope=col>&lt;int&gt;</th><th scope=col>&lt;int&gt;</th><th scope=col>&lt;int&gt;</th><th scope=col>&lt;int&gt;</th><th scope=col>&lt;int&gt;</th><th scope=col>&lt;int&gt;</th><th scope=col>&lt;int&gt;</th></tr>\n",
       "</thead>\n",
       "<tbody>\n",
       "\t<tr><th scope=row>16</th><td>1908</td><td>1</td><td>7</td><td>6</td><td>9</td><td>15</td><td>11</td><td>9</td><td>6</td><td> 3</td><td> 6</td><td> 6</td><td>3</td><td>82</td></tr>\n",
       "\t<tr><th scope=row>33</th><td>1925</td><td>1</td><td>4</td><td>4</td><td>8</td><td> 9</td><td>12</td><td>6</td><td>7</td><td>14</td><td>13</td><td> 4</td><td>4</td><td>86</td></tr>\n",
       "\t<tr><th scope=row>39</th><td>1931</td><td>1</td><td>1</td><td>6</td><td>9</td><td> 9</td><td> 6</td><td>6</td><td>6</td><td>10</td><td>12</td><td>11</td><td>7</td><td>84</td></tr>\n",
       "</tbody>\n",
       "</table>\n"
      ],
      "text/latex": [
       "A data.frame: 3 × 14\n",
       "\\begin{tabular}{r|llllllllllllll}\n",
       "  & YEAR & JAN & FEB & MAR & APR & MAY & JUN & JUL & AUG & SEP & OCT & NOV & DEC & ANN\\\\\n",
       "  & <int> & <int> & <int> & <int> & <int> & <int> & <int> & <int> & <int> & <int> & <int> & <int> & <int> & <int>\\\\\n",
       "\\hline\n",
       "\t16 & 1908 & 1 & 7 & 6 & 9 & 15 & 11 & 9 & 6 &  3 &  6 &  6 & 3 & 82\\\\\n",
       "\t33 & 1925 & 1 & 4 & 4 & 8 &  9 & 12 & 6 & 7 & 14 & 13 &  4 & 4 & 86\\\\\n",
       "\t39 & 1931 & 1 & 1 & 6 & 9 &  9 &  6 & 6 & 6 & 10 & 12 & 11 & 7 & 84\\\\\n",
       "\\end{tabular}\n"
      ],
      "text/markdown": [
       "\n",
       "A data.frame: 3 × 14\n",
       "\n",
       "| <!--/--> | YEAR &lt;int&gt; | JAN &lt;int&gt; | FEB &lt;int&gt; | MAR &lt;int&gt; | APR &lt;int&gt; | MAY &lt;int&gt; | JUN &lt;int&gt; | JUL &lt;int&gt; | AUG &lt;int&gt; | SEP &lt;int&gt; | OCT &lt;int&gt; | NOV &lt;int&gt; | DEC &lt;int&gt; | ANN &lt;int&gt; |\n",
       "|---|---|---|---|---|---|---|---|---|---|---|---|---|---|---|\n",
       "| 16 | 1908 | 1 | 7 | 6 | 9 | 15 | 11 | 9 | 6 |  3 |  6 |  6 | 3 | 82 |\n",
       "| 33 | 1925 | 1 | 4 | 4 | 8 |  9 | 12 | 6 | 7 | 14 | 13 |  4 | 4 | 86 |\n",
       "| 39 | 1931 | 1 | 1 | 6 | 9 |  9 |  6 | 6 | 6 | 10 | 12 | 11 | 7 | 84 |\n",
       "\n"
      ],
      "text/plain": [
       "   YEAR JAN FEB MAR APR MAY JUN JUL AUG SEP OCT NOV DEC ANN\n",
       "16 1908 1   7   6   9   15  11  9   6    3   6   6  3   82 \n",
       "33 1925 1   4   4   8    9  12  6   7   14  13   4  4   86 \n",
       "39 1931 1   1   6   9    9   6  6   6   10  12  11  7   84 "
      ]
     },
     "metadata": {},
     "output_type": "display_data"
    }
   ],
   "source": [
    "raindays[raindays$JAN==min(raindays$JAN),] #another way to do above"
   ]
  },
  {
   "cell_type": "code",
   "execution_count": 18,
   "metadata": {},
   "outputs": [
    {
     "data": {
      "text/html": [
       "<ol class=list-inline>\n",
       "\t<li>108</li>\n",
       "\t<li>89</li>\n",
       "\t<li>79</li>\n",
       "\t<li>88</li>\n",
       "\t<li>90</li>\n",
       "\t<li>98</li>\n",
       "\t<li>68</li>\n",
       "\t<li>81</li>\n",
       "\t<li>77</li>\n",
       "\t<li>105</li>\n",
       "\t<li>91</li>\n",
       "\t<li>71</li>\n",
       "\t<li>111</li>\n",
       "\t<li>83</li>\n",
       "\t<li>91</li>\n",
       "\t<li>82</li>\n",
       "\t<li>82</li>\n",
       "\t<li>55</li>\n",
       "\t<li>96</li>\n",
       "\t<li>70</li>\n",
       "\t<li>72</li>\n",
       "\t<li>71</li>\n",
       "\t<li>86</li>\n",
       "\t<li>86</li>\n",
       "\t<li>79</li>\n",
       "\t<li>77</li>\n",
       "\t<li>76</li>\n",
       "\t<li>67</li>\n",
       "\t<li>70</li>\n",
       "\t<li>75</li>\n",
       "\t<li>102</li>\n",
       "\t<li>102</li>\n",
       "\t<li>86</li>\n",
       "\t<li>85</li>\n",
       "\t<li>94</li>\n",
       "\t<li>97</li>\n",
       "\t<li>88</li>\n",
       "\t<li>79</li>\n",
       "\t<li>84</li>\n",
       "\t<li>78</li>\n",
       "\t<li>76</li>\n",
       "\t<li>89</li>\n",
       "\t<li>111</li>\n",
       "\t<li>95</li>\n",
       "\t<li>91</li>\n",
       "\t<li>109</li>\n",
       "\t<li>82</li>\n",
       "\t<li>90</li>\n",
       "\t<li>105</li>\n",
       "\t<li>103</li>\n",
       "\t<li>97</li>\n",
       "\t<li>118</li>\n",
       "\t<li>112</li>\n",
       "\t<li>99</li>\n",
       "\t<li>103</li>\n",
       "\t<li>90</li>\n",
       "\t<li>87</li>\n",
       "\t<li>96</li>\n",
       "\t<li>115</li>\n",
       "\t<li>86</li>\n",
       "\t<li>97</li>\n",
       "\t<li>110</li>\n",
       "\t<li>97</li>\n",
       "\t<li>101</li>\n",
       "\t<li>98</li>\n",
       "\t<li>87</li>\n",
       "\t<li>111</li>\n",
       "\t<li>107</li>\n",
       "\t<li>98</li>\n",
       "\t<li>100</li>\n",
       "\t<li>95</li>\n",
       "\t<li>87</li>\n",
       "\t<li>119</li>\n",
       "\t<li>77</li>\n",
       "\t<li>99</li>\n",
       "\t<li>104</li>\n",
       "\t<li>107</li>\n",
       "\t<li>107</li>\n",
       "\t<li>98</li>\n",
       "\t<li>117</li>\n",
       "\t<li>118</li>\n",
       "\t<li>112</li>\n",
       "\t<li>99</li>\n",
       "\t<li>72</li>\n",
       "\t<li>109</li>\n",
       "\t<li>107</li>\n",
       "\t<li>99</li>\n",
       "\t<li>102</li>\n",
       "\t<li>100</li>\n",
       "\t<li>122</li>\n",
       "\t<li>117</li>\n",
       "\t<li>121</li>\n",
       "\t<li>106</li>\n",
       "\t<li>113</li>\n",
       "\t<li>102</li>\n",
       "\t<li>77</li>\n",
       "\t<li>86</li>\n",
       "\t<li>136</li>\n",
       "\t<li>117</li>\n",
       "\t<li>134</li>\n",
       "\t<li>155</li>\n",
       "\t<li>115</li>\n",
       "\t<li>116</li>\n",
       "\t<li>126</li>\n",
       "\t<li>117</li>\n",
       "\t<li>125</li>\n",
       "\t<li>119</li>\n",
       "\t<li>132</li>\n",
       "\t<li>122</li>\n",
       "\t<li>99</li>\n",
       "\t<li>96</li>\n",
       "\t<li>123</li>\n",
       "\t<li>104</li>\n",
       "\t<li>116</li>\n",
       "\t<li>114</li>\n",
       "\t<li>143</li>\n",
       "\t<li>128</li>\n",
       "\t<li>121</li>\n",
       "\t<li>105</li>\n",
       "\t<li>95</li>\n",
       "\t<li>108</li>\n",
       "</ol>\n"
      ],
      "text/latex": [
       "\\begin{enumerate*}\n",
       "\\item 108\n",
       "\\item 89\n",
       "\\item 79\n",
       "\\item 88\n",
       "\\item 90\n",
       "\\item 98\n",
       "\\item 68\n",
       "\\item 81\n",
       "\\item 77\n",
       "\\item 105\n",
       "\\item 91\n",
       "\\item 71\n",
       "\\item 111\n",
       "\\item 83\n",
       "\\item 91\n",
       "\\item 82\n",
       "\\item 82\n",
       "\\item 55\n",
       "\\item 96\n",
       "\\item 70\n",
       "\\item 72\n",
       "\\item 71\n",
       "\\item 86\n",
       "\\item 86\n",
       "\\item 79\n",
       "\\item 77\n",
       "\\item 76\n",
       "\\item 67\n",
       "\\item 70\n",
       "\\item 75\n",
       "\\item 102\n",
       "\\item 102\n",
       "\\item 86\n",
       "\\item 85\n",
       "\\item 94\n",
       "\\item 97\n",
       "\\item 88\n",
       "\\item 79\n",
       "\\item 84\n",
       "\\item 78\n",
       "\\item 76\n",
       "\\item 89\n",
       "\\item 111\n",
       "\\item 95\n",
       "\\item 91\n",
       "\\item 109\n",
       "\\item 82\n",
       "\\item 90\n",
       "\\item 105\n",
       "\\item 103\n",
       "\\item 97\n",
       "\\item 118\n",
       "\\item 112\n",
       "\\item 99\n",
       "\\item 103\n",
       "\\item 90\n",
       "\\item 87\n",
       "\\item 96\n",
       "\\item 115\n",
       "\\item 86\n",
       "\\item 97\n",
       "\\item 110\n",
       "\\item 97\n",
       "\\item 101\n",
       "\\item 98\n",
       "\\item 87\n",
       "\\item 111\n",
       "\\item 107\n",
       "\\item 98\n",
       "\\item 100\n",
       "\\item 95\n",
       "\\item 87\n",
       "\\item 119\n",
       "\\item 77\n",
       "\\item 99\n",
       "\\item 104\n",
       "\\item 107\n",
       "\\item 107\n",
       "\\item 98\n",
       "\\item 117\n",
       "\\item 118\n",
       "\\item 112\n",
       "\\item 99\n",
       "\\item 72\n",
       "\\item 109\n",
       "\\item 107\n",
       "\\item 99\n",
       "\\item 102\n",
       "\\item 100\n",
       "\\item 122\n",
       "\\item 117\n",
       "\\item 121\n",
       "\\item 106\n",
       "\\item 113\n",
       "\\item 102\n",
       "\\item 77\n",
       "\\item 86\n",
       "\\item 136\n",
       "\\item 117\n",
       "\\item 134\n",
       "\\item 155\n",
       "\\item 115\n",
       "\\item 116\n",
       "\\item 126\n",
       "\\item 117\n",
       "\\item 125\n",
       "\\item 119\n",
       "\\item 132\n",
       "\\item 122\n",
       "\\item 99\n",
       "\\item 96\n",
       "\\item 123\n",
       "\\item 104\n",
       "\\item 116\n",
       "\\item 114\n",
       "\\item 143\n",
       "\\item 128\n",
       "\\item 121\n",
       "\\item 105\n",
       "\\item 95\n",
       "\\item 108\n",
       "\\end{enumerate*}\n"
      ],
      "text/markdown": [
       "1. 108\n",
       "2. 89\n",
       "3. 79\n",
       "4. 88\n",
       "5. 90\n",
       "6. 98\n",
       "7. 68\n",
       "8. 81\n",
       "9. 77\n",
       "10. 105\n",
       "11. 91\n",
       "12. 71\n",
       "13. 111\n",
       "14. 83\n",
       "15. 91\n",
       "16. 82\n",
       "17. 82\n",
       "18. 55\n",
       "19. 96\n",
       "20. 70\n",
       "21. 72\n",
       "22. 71\n",
       "23. 86\n",
       "24. 86\n",
       "25. 79\n",
       "26. 77\n",
       "27. 76\n",
       "28. 67\n",
       "29. 70\n",
       "30. 75\n",
       "31. 102\n",
       "32. 102\n",
       "33. 86\n",
       "34. 85\n",
       "35. 94\n",
       "36. 97\n",
       "37. 88\n",
       "38. 79\n",
       "39. 84\n",
       "40. 78\n",
       "41. 76\n",
       "42. 89\n",
       "43. 111\n",
       "44. 95\n",
       "45. 91\n",
       "46. 109\n",
       "47. 82\n",
       "48. 90\n",
       "49. 105\n",
       "50. 103\n",
       "51. 97\n",
       "52. 118\n",
       "53. 112\n",
       "54. 99\n",
       "55. 103\n",
       "56. 90\n",
       "57. 87\n",
       "58. 96\n",
       "59. 115\n",
       "60. 86\n",
       "61. 97\n",
       "62. 110\n",
       "63. 97\n",
       "64. 101\n",
       "65. 98\n",
       "66. 87\n",
       "67. 111\n",
       "68. 107\n",
       "69. 98\n",
       "70. 100\n",
       "71. 95\n",
       "72. 87\n",
       "73. 119\n",
       "74. 77\n",
       "75. 99\n",
       "76. 104\n",
       "77. 107\n",
       "78. 107\n",
       "79. 98\n",
       "80. 117\n",
       "81. 118\n",
       "82. 112\n",
       "83. 99\n",
       "84. 72\n",
       "85. 109\n",
       "86. 107\n",
       "87. 99\n",
       "88. 102\n",
       "89. 100\n",
       "90. 122\n",
       "91. 117\n",
       "92. 121\n",
       "93. 106\n",
       "94. 113\n",
       "95. 102\n",
       "96. 77\n",
       "97. 86\n",
       "98. 136\n",
       "99. 117\n",
       "100. 134\n",
       "101. 155\n",
       "102. 115\n",
       "103. 116\n",
       "104. 126\n",
       "105. 117\n",
       "106. 125\n",
       "107. 119\n",
       "108. 132\n",
       "109. 122\n",
       "110. 99\n",
       "111. 96\n",
       "112. 123\n",
       "113. 104\n",
       "114. 116\n",
       "115. 114\n",
       "116. 143\n",
       "117. 128\n",
       "118. 121\n",
       "119. 105\n",
       "120. 95\n",
       "121. 108\n",
       "\n",
       "\n"
      ],
      "text/plain": [
       "  [1] 108  89  79  88  90  98  68  81  77 105  91  71 111  83  91  82  82  55\n",
       " [19]  96  70  72  71  86  86  79  77  76  67  70  75 102 102  86  85  94  97\n",
       " [37]  88  79  84  78  76  89 111  95  91 109  82  90 105 103  97 118 112  99\n",
       " [55] 103  90  87  96 115  86  97 110  97 101  98  87 111 107  98 100  95  87\n",
       " [73] 119  77  99 104 107 107  98 117 118 112  99  72 109 107  99 102 100 122\n",
       " [91] 117 121 106 113 102  77  86 136 117 134 155 115 116 126 117 125 119 132\n",
       "[109] 122  99  96 123 104 116 114 143 128 121 105  95 108"
      ]
     },
     "metadata": {},
     "output_type": "display_data"
    }
   ],
   "source": [
    "#check if ANN column is accurate\n",
    "#first manually check\n",
    "total <- raindays$JAN + raindays$FEB + raindays$MAR + raindays$APR + raindays$MAY +raindays$JUN + raindays$JUL +raindays$AUG + raindays$SEP + raindays$OCT + raindays$NOV + raindays$DEC\n",
    "total"
   ]
  },
  {
   "cell_type": "code",
   "execution_count": 19,
   "metadata": {},
   "outputs": [
    {
     "data": {
      "text/html": [
       "<ol class=list-inline>\n",
       "\t<li>108</li>\n",
       "\t<li>89</li>\n",
       "\t<li>79</li>\n",
       "\t<li>88</li>\n",
       "\t<li>90</li>\n",
       "\t<li>98</li>\n",
       "\t<li>68</li>\n",
       "\t<li>81</li>\n",
       "\t<li>77</li>\n",
       "\t<li>105</li>\n",
       "\t<li>91</li>\n",
       "\t<li>71</li>\n",
       "\t<li>111</li>\n",
       "\t<li>83</li>\n",
       "\t<li>91</li>\n",
       "\t<li>82</li>\n",
       "\t<li>82</li>\n",
       "\t<li>55</li>\n",
       "\t<li>96</li>\n",
       "\t<li>70</li>\n",
       "\t<li>72</li>\n",
       "\t<li>71</li>\n",
       "\t<li>86</li>\n",
       "\t<li>86</li>\n",
       "\t<li>79</li>\n",
       "\t<li>77</li>\n",
       "\t<li>76</li>\n",
       "\t<li>67</li>\n",
       "\t<li>70</li>\n",
       "\t<li>75</li>\n",
       "\t<li>102</li>\n",
       "\t<li>102</li>\n",
       "\t<li>86</li>\n",
       "\t<li>85</li>\n",
       "\t<li>94</li>\n",
       "\t<li>97</li>\n",
       "\t<li>88</li>\n",
       "\t<li>79</li>\n",
       "\t<li>84</li>\n",
       "\t<li>78</li>\n",
       "\t<li>76</li>\n",
       "\t<li>89</li>\n",
       "\t<li>111</li>\n",
       "\t<li>95</li>\n",
       "\t<li>91</li>\n",
       "\t<li>109</li>\n",
       "\t<li>82</li>\n",
       "\t<li>90</li>\n",
       "\t<li>105</li>\n",
       "\t<li>103</li>\n",
       "\t<li>97</li>\n",
       "\t<li>118</li>\n",
       "\t<li>112</li>\n",
       "\t<li>99</li>\n",
       "\t<li>103</li>\n",
       "\t<li>90</li>\n",
       "\t<li>87</li>\n",
       "\t<li>96</li>\n",
       "\t<li>115</li>\n",
       "\t<li>86</li>\n",
       "\t<li>97</li>\n",
       "\t<li>110</li>\n",
       "\t<li>97</li>\n",
       "\t<li>101</li>\n",
       "\t<li>98</li>\n",
       "\t<li>87</li>\n",
       "\t<li>111</li>\n",
       "\t<li>107</li>\n",
       "\t<li>98</li>\n",
       "\t<li>100</li>\n",
       "\t<li>95</li>\n",
       "\t<li>87</li>\n",
       "\t<li>119</li>\n",
       "\t<li>77</li>\n",
       "\t<li>99</li>\n",
       "\t<li>104</li>\n",
       "\t<li>107</li>\n",
       "\t<li>107</li>\n",
       "\t<li>98</li>\n",
       "\t<li>117</li>\n",
       "\t<li>118</li>\n",
       "\t<li>112</li>\n",
       "\t<li>99</li>\n",
       "\t<li>72</li>\n",
       "\t<li>109</li>\n",
       "\t<li>107</li>\n",
       "\t<li>99</li>\n",
       "\t<li>102</li>\n",
       "\t<li>100</li>\n",
       "\t<li>122</li>\n",
       "\t<li>117</li>\n",
       "\t<li>121</li>\n",
       "\t<li>106</li>\n",
       "\t<li>113</li>\n",
       "\t<li>102</li>\n",
       "\t<li>77</li>\n",
       "\t<li>86</li>\n",
       "\t<li>136</li>\n",
       "\t<li>117</li>\n",
       "\t<li>134</li>\n",
       "\t<li>155</li>\n",
       "\t<li>115</li>\n",
       "\t<li>116</li>\n",
       "\t<li>126</li>\n",
       "\t<li>117</li>\n",
       "\t<li>125</li>\n",
       "\t<li>119</li>\n",
       "\t<li>132</li>\n",
       "\t<li>122</li>\n",
       "\t<li>99</li>\n",
       "\t<li>96</li>\n",
       "\t<li>123</li>\n",
       "\t<li>104</li>\n",
       "\t<li>116</li>\n",
       "\t<li>114</li>\n",
       "\t<li>143</li>\n",
       "\t<li>128</li>\n",
       "\t<li>121</li>\n",
       "\t<li>105</li>\n",
       "\t<li>95</li>\n",
       "\t<li>108</li>\n",
       "</ol>\n"
      ],
      "text/latex": [
       "\\begin{enumerate*}\n",
       "\\item 108\n",
       "\\item 89\n",
       "\\item 79\n",
       "\\item 88\n",
       "\\item 90\n",
       "\\item 98\n",
       "\\item 68\n",
       "\\item 81\n",
       "\\item 77\n",
       "\\item 105\n",
       "\\item 91\n",
       "\\item 71\n",
       "\\item 111\n",
       "\\item 83\n",
       "\\item 91\n",
       "\\item 82\n",
       "\\item 82\n",
       "\\item 55\n",
       "\\item 96\n",
       "\\item 70\n",
       "\\item 72\n",
       "\\item 71\n",
       "\\item 86\n",
       "\\item 86\n",
       "\\item 79\n",
       "\\item 77\n",
       "\\item 76\n",
       "\\item 67\n",
       "\\item 70\n",
       "\\item 75\n",
       "\\item 102\n",
       "\\item 102\n",
       "\\item 86\n",
       "\\item 85\n",
       "\\item 94\n",
       "\\item 97\n",
       "\\item 88\n",
       "\\item 79\n",
       "\\item 84\n",
       "\\item 78\n",
       "\\item 76\n",
       "\\item 89\n",
       "\\item 111\n",
       "\\item 95\n",
       "\\item 91\n",
       "\\item 109\n",
       "\\item 82\n",
       "\\item 90\n",
       "\\item 105\n",
       "\\item 103\n",
       "\\item 97\n",
       "\\item 118\n",
       "\\item 112\n",
       "\\item 99\n",
       "\\item 103\n",
       "\\item 90\n",
       "\\item 87\n",
       "\\item 96\n",
       "\\item 115\n",
       "\\item 86\n",
       "\\item 97\n",
       "\\item 110\n",
       "\\item 97\n",
       "\\item 101\n",
       "\\item 98\n",
       "\\item 87\n",
       "\\item 111\n",
       "\\item 107\n",
       "\\item 98\n",
       "\\item 100\n",
       "\\item 95\n",
       "\\item 87\n",
       "\\item 119\n",
       "\\item 77\n",
       "\\item 99\n",
       "\\item 104\n",
       "\\item 107\n",
       "\\item 107\n",
       "\\item 98\n",
       "\\item 117\n",
       "\\item 118\n",
       "\\item 112\n",
       "\\item 99\n",
       "\\item 72\n",
       "\\item 109\n",
       "\\item 107\n",
       "\\item 99\n",
       "\\item 102\n",
       "\\item 100\n",
       "\\item 122\n",
       "\\item 117\n",
       "\\item 121\n",
       "\\item 106\n",
       "\\item 113\n",
       "\\item 102\n",
       "\\item 77\n",
       "\\item 86\n",
       "\\item 136\n",
       "\\item 117\n",
       "\\item 134\n",
       "\\item 155\n",
       "\\item 115\n",
       "\\item 116\n",
       "\\item 126\n",
       "\\item 117\n",
       "\\item 125\n",
       "\\item 119\n",
       "\\item 132\n",
       "\\item 122\n",
       "\\item 99\n",
       "\\item 96\n",
       "\\item 123\n",
       "\\item 104\n",
       "\\item 116\n",
       "\\item 114\n",
       "\\item 143\n",
       "\\item 128\n",
       "\\item 121\n",
       "\\item 105\n",
       "\\item 95\n",
       "\\item 108\n",
       "\\end{enumerate*}\n"
      ],
      "text/markdown": [
       "1. 108\n",
       "2. 89\n",
       "3. 79\n",
       "4. 88\n",
       "5. 90\n",
       "6. 98\n",
       "7. 68\n",
       "8. 81\n",
       "9. 77\n",
       "10. 105\n",
       "11. 91\n",
       "12. 71\n",
       "13. 111\n",
       "14. 83\n",
       "15. 91\n",
       "16. 82\n",
       "17. 82\n",
       "18. 55\n",
       "19. 96\n",
       "20. 70\n",
       "21. 72\n",
       "22. 71\n",
       "23. 86\n",
       "24. 86\n",
       "25. 79\n",
       "26. 77\n",
       "27. 76\n",
       "28. 67\n",
       "29. 70\n",
       "30. 75\n",
       "31. 102\n",
       "32. 102\n",
       "33. 86\n",
       "34. 85\n",
       "35. 94\n",
       "36. 97\n",
       "37. 88\n",
       "38. 79\n",
       "39. 84\n",
       "40. 78\n",
       "41. 76\n",
       "42. 89\n",
       "43. 111\n",
       "44. 95\n",
       "45. 91\n",
       "46. 109\n",
       "47. 82\n",
       "48. 90\n",
       "49. 105\n",
       "50. 103\n",
       "51. 97\n",
       "52. 118\n",
       "53. 112\n",
       "54. 99\n",
       "55. 103\n",
       "56. 90\n",
       "57. 87\n",
       "58. 96\n",
       "59. 115\n",
       "60. 86\n",
       "61. 97\n",
       "62. 110\n",
       "63. 97\n",
       "64. 101\n",
       "65. 98\n",
       "66. 87\n",
       "67. 111\n",
       "68. 107\n",
       "69. 98\n",
       "70. 100\n",
       "71. 95\n",
       "72. 87\n",
       "73. 119\n",
       "74. 77\n",
       "75. 99\n",
       "76. 104\n",
       "77. 107\n",
       "78. 107\n",
       "79. 98\n",
       "80. 117\n",
       "81. 118\n",
       "82. 112\n",
       "83. 99\n",
       "84. 72\n",
       "85. 109\n",
       "86. 107\n",
       "87. 99\n",
       "88. 102\n",
       "89. 100\n",
       "90. 122\n",
       "91. 117\n",
       "92. 121\n",
       "93. 106\n",
       "94. 113\n",
       "95. 102\n",
       "96. 77\n",
       "97. 86\n",
       "98. 136\n",
       "99. 117\n",
       "100. 134\n",
       "101. 155\n",
       "102. 115\n",
       "103. 116\n",
       "104. 126\n",
       "105. 117\n",
       "106. 125\n",
       "107. 119\n",
       "108. 132\n",
       "109. 122\n",
       "110. 99\n",
       "111. 96\n",
       "112. 123\n",
       "113. 104\n",
       "114. 116\n",
       "115. 114\n",
       "116. 143\n",
       "117. 128\n",
       "118. 121\n",
       "119. 105\n",
       "120. 95\n",
       "121. 108\n",
       "\n",
       "\n"
      ],
      "text/plain": [
       "  [1] 108  89  79  88  90  98  68  81  77 105  91  71 111  83  91  82  82  55\n",
       " [19]  96  70  72  71  86  86  79  77  76  67  70  75 102 102  86  85  94  97\n",
       " [37]  88  79  84  78  76  89 111  95  91 109  82  90 105 103  97 118 112  99\n",
       " [55] 103  90  87  96 115  86  97 110  97 101  98  87 111 107  98 100  95  87\n",
       " [73] 119  77  99 104 107 107  98 117 118 112  99  72 109 107  99 102 100 122\n",
       " [91] 117 121 106 113 102  77  86 136 117 134 155 115 116 126 117 125 119 132\n",
       "[109] 122  99  96 123 104 116 114 143 128 121 105  95 108"
      ]
     },
     "metadata": {},
     "output_type": "display_data"
    }
   ],
   "source": [
    "raindays$ANN"
   ]
  },
  {
   "cell_type": "code",
   "execution_count": 20,
   "metadata": {},
   "outputs": [
    {
     "data": {
      "text/html": [
       "TRUE"
      ],
      "text/latex": [
       "TRUE"
      ],
      "text/markdown": [
       "TRUE"
      ],
      "text/plain": [
       "[1] TRUE"
      ]
     },
     "metadata": {},
     "output_type": "display_data"
    }
   ],
   "source": [
    "#check using built in function\n",
    "all.equal(total, raindays$ANN)"
   ]
  },
  {
   "cell_type": "code",
   "execution_count": 24,
   "metadata": {},
   "outputs": [
    {
     "data": {
      "text/html": [
       "<table>\n",
       "<caption>A data.frame: 121 × 2</caption>\n",
       "<thead>\n",
       "\t<tr><th scope=col>raindays.YEAR</th><th scope=col>total</th></tr>\n",
       "\t<tr><th scope=col>&lt;int&gt;</th><th scope=col>&lt;int&gt;</th></tr>\n",
       "</thead>\n",
       "<tbody>\n",
       "\t<tr><td>1893</td><td>108</td></tr>\n",
       "\t<tr><td>1894</td><td> 89</td></tr>\n",
       "\t<tr><td>1895</td><td> 79</td></tr>\n",
       "\t<tr><td>1896</td><td> 88</td></tr>\n",
       "\t<tr><td>1897</td><td> 90</td></tr>\n",
       "\t<tr><td>1898</td><td> 98</td></tr>\n",
       "\t<tr><td>1899</td><td> 68</td></tr>\n",
       "\t<tr><td>1900</td><td> 81</td></tr>\n",
       "\t<tr><td>1901</td><td> 77</td></tr>\n",
       "\t<tr><td>1902</td><td>105</td></tr>\n",
       "\t<tr><td>1903</td><td> 91</td></tr>\n",
       "\t<tr><td>1904</td><td> 71</td></tr>\n",
       "\t<tr><td>1905</td><td>111</td></tr>\n",
       "\t<tr><td>1906</td><td> 83</td></tr>\n",
       "\t<tr><td>1907</td><td> 91</td></tr>\n",
       "\t<tr><td>1908</td><td> 82</td></tr>\n",
       "\t<tr><td>1909</td><td> 82</td></tr>\n",
       "\t<tr><td>1910</td><td> 55</td></tr>\n",
       "\t<tr><td>1911</td><td> 96</td></tr>\n",
       "\t<tr><td>1912</td><td> 70</td></tr>\n",
       "\t<tr><td>1913</td><td> 72</td></tr>\n",
       "\t<tr><td>1914</td><td> 71</td></tr>\n",
       "\t<tr><td>1915</td><td> 86</td></tr>\n",
       "\t<tr><td>1916</td><td> 86</td></tr>\n",
       "\t<tr><td>1917</td><td> 79</td></tr>\n",
       "\t<tr><td>1918</td><td> 77</td></tr>\n",
       "\t<tr><td>1919</td><td> 76</td></tr>\n",
       "\t<tr><td>1920</td><td> 67</td></tr>\n",
       "\t<tr><td>1921</td><td> 70</td></tr>\n",
       "\t<tr><td>1922</td><td> 75</td></tr>\n",
       "\t<tr><td>⋮</td><td>⋮</td></tr>\n",
       "\t<tr><td>1984</td><td>121</td></tr>\n",
       "\t<tr><td>1985</td><td>106</td></tr>\n",
       "\t<tr><td>1986</td><td>113</td></tr>\n",
       "\t<tr><td>1987</td><td>102</td></tr>\n",
       "\t<tr><td>1988</td><td> 77</td></tr>\n",
       "\t<tr><td>1989</td><td> 86</td></tr>\n",
       "\t<tr><td>1990</td><td>136</td></tr>\n",
       "\t<tr><td>1991</td><td>117</td></tr>\n",
       "\t<tr><td>1992</td><td>134</td></tr>\n",
       "\t<tr><td>1993</td><td>155</td></tr>\n",
       "\t<tr><td>1994</td><td>115</td></tr>\n",
       "\t<tr><td>1995</td><td>116</td></tr>\n",
       "\t<tr><td>1996</td><td>126</td></tr>\n",
       "\t<tr><td>1997</td><td>117</td></tr>\n",
       "\t<tr><td>1998</td><td>125</td></tr>\n",
       "\t<tr><td>1999</td><td>119</td></tr>\n",
       "\t<tr><td>2000</td><td>132</td></tr>\n",
       "\t<tr><td>2001</td><td>122</td></tr>\n",
       "\t<tr><td>2002</td><td> 99</td></tr>\n",
       "\t<tr><td>2003</td><td> 96</td></tr>\n",
       "\t<tr><td>2004</td><td>123</td></tr>\n",
       "\t<tr><td>2005</td><td>104</td></tr>\n",
       "\t<tr><td>2006</td><td>116</td></tr>\n",
       "\t<tr><td>2007</td><td>114</td></tr>\n",
       "\t<tr><td>2008</td><td>143</td></tr>\n",
       "\t<tr><td>2009</td><td>128</td></tr>\n",
       "\t<tr><td>2010</td><td>121</td></tr>\n",
       "\t<tr><td>2011</td><td>105</td></tr>\n",
       "\t<tr><td>2012</td><td> 95</td></tr>\n",
       "\t<tr><td>2013</td><td>108</td></tr>\n",
       "</tbody>\n",
       "</table>\n"
      ],
      "text/latex": [
       "A data.frame: 121 × 2\n",
       "\\begin{tabular}{r|ll}\n",
       " raindays.YEAR & total\\\\\n",
       " <int> & <int>\\\\\n",
       "\\hline\n",
       "\t 1893 & 108\\\\\n",
       "\t 1894 &  89\\\\\n",
       "\t 1895 &  79\\\\\n",
       "\t 1896 &  88\\\\\n",
       "\t 1897 &  90\\\\\n",
       "\t 1898 &  98\\\\\n",
       "\t 1899 &  68\\\\\n",
       "\t 1900 &  81\\\\\n",
       "\t 1901 &  77\\\\\n",
       "\t 1902 & 105\\\\\n",
       "\t 1903 &  91\\\\\n",
       "\t 1904 &  71\\\\\n",
       "\t 1905 & 111\\\\\n",
       "\t 1906 &  83\\\\\n",
       "\t 1907 &  91\\\\\n",
       "\t 1908 &  82\\\\\n",
       "\t 1909 &  82\\\\\n",
       "\t 1910 &  55\\\\\n",
       "\t 1911 &  96\\\\\n",
       "\t 1912 &  70\\\\\n",
       "\t 1913 &  72\\\\\n",
       "\t 1914 &  71\\\\\n",
       "\t 1915 &  86\\\\\n",
       "\t 1916 &  86\\\\\n",
       "\t 1917 &  79\\\\\n",
       "\t 1918 &  77\\\\\n",
       "\t 1919 &  76\\\\\n",
       "\t 1920 &  67\\\\\n",
       "\t 1921 &  70\\\\\n",
       "\t 1922 &  75\\\\\n",
       "\t ⋮ & ⋮\\\\\n",
       "\t 1984 & 121\\\\\n",
       "\t 1985 & 106\\\\\n",
       "\t 1986 & 113\\\\\n",
       "\t 1987 & 102\\\\\n",
       "\t 1988 &  77\\\\\n",
       "\t 1989 &  86\\\\\n",
       "\t 1990 & 136\\\\\n",
       "\t 1991 & 117\\\\\n",
       "\t 1992 & 134\\\\\n",
       "\t 1993 & 155\\\\\n",
       "\t 1994 & 115\\\\\n",
       "\t 1995 & 116\\\\\n",
       "\t 1996 & 126\\\\\n",
       "\t 1997 & 117\\\\\n",
       "\t 1998 & 125\\\\\n",
       "\t 1999 & 119\\\\\n",
       "\t 2000 & 132\\\\\n",
       "\t 2001 & 122\\\\\n",
       "\t 2002 &  99\\\\\n",
       "\t 2003 &  96\\\\\n",
       "\t 2004 & 123\\\\\n",
       "\t 2005 & 104\\\\\n",
       "\t 2006 & 116\\\\\n",
       "\t 2007 & 114\\\\\n",
       "\t 2008 & 143\\\\\n",
       "\t 2009 & 128\\\\\n",
       "\t 2010 & 121\\\\\n",
       "\t 2011 & 105\\\\\n",
       "\t 2012 &  95\\\\\n",
       "\t 2013 & 108\\\\\n",
       "\\end{tabular}\n"
      ],
      "text/markdown": [
       "\n",
       "A data.frame: 121 × 2\n",
       "\n",
       "| raindays.YEAR &lt;int&gt; | total &lt;int&gt; |\n",
       "|---|---|\n",
       "| 1893 | 108 |\n",
       "| 1894 |  89 |\n",
       "| 1895 |  79 |\n",
       "| 1896 |  88 |\n",
       "| 1897 |  90 |\n",
       "| 1898 |  98 |\n",
       "| 1899 |  68 |\n",
       "| 1900 |  81 |\n",
       "| 1901 |  77 |\n",
       "| 1902 | 105 |\n",
       "| 1903 |  91 |\n",
       "| 1904 |  71 |\n",
       "| 1905 | 111 |\n",
       "| 1906 |  83 |\n",
       "| 1907 |  91 |\n",
       "| 1908 |  82 |\n",
       "| 1909 |  82 |\n",
       "| 1910 |  55 |\n",
       "| 1911 |  96 |\n",
       "| 1912 |  70 |\n",
       "| 1913 |  72 |\n",
       "| 1914 |  71 |\n",
       "| 1915 |  86 |\n",
       "| 1916 |  86 |\n",
       "| 1917 |  79 |\n",
       "| 1918 |  77 |\n",
       "| 1919 |  76 |\n",
       "| 1920 |  67 |\n",
       "| 1921 |  70 |\n",
       "| 1922 |  75 |\n",
       "| ⋮ | ⋮ |\n",
       "| 1984 | 121 |\n",
       "| 1985 | 106 |\n",
       "| 1986 | 113 |\n",
       "| 1987 | 102 |\n",
       "| 1988 |  77 |\n",
       "| 1989 |  86 |\n",
       "| 1990 | 136 |\n",
       "| 1991 | 117 |\n",
       "| 1992 | 134 |\n",
       "| 1993 | 155 |\n",
       "| 1994 | 115 |\n",
       "| 1995 | 116 |\n",
       "| 1996 | 126 |\n",
       "| 1997 | 117 |\n",
       "| 1998 | 125 |\n",
       "| 1999 | 119 |\n",
       "| 2000 | 132 |\n",
       "| 2001 | 122 |\n",
       "| 2002 |  99 |\n",
       "| 2003 |  96 |\n",
       "| 2004 | 123 |\n",
       "| 2005 | 104 |\n",
       "| 2006 | 116 |\n",
       "| 2007 | 114 |\n",
       "| 2008 | 143 |\n",
       "| 2009 | 128 |\n",
       "| 2010 | 121 |\n",
       "| 2011 | 105 |\n",
       "| 2012 |  95 |\n",
       "| 2013 | 108 |\n",
       "\n"
      ],
      "text/plain": [
       "    raindays.YEAR total\n",
       "1   1893          108  \n",
       "2   1894           89  \n",
       "3   1895           79  \n",
       "4   1896           88  \n",
       "5   1897           90  \n",
       "6   1898           98  \n",
       "7   1899           68  \n",
       "8   1900           81  \n",
       "9   1901           77  \n",
       "10  1902          105  \n",
       "11  1903           91  \n",
       "12  1904           71  \n",
       "13  1905          111  \n",
       "14  1906           83  \n",
       "15  1907           91  \n",
       "16  1908           82  \n",
       "17  1909           82  \n",
       "18  1910           55  \n",
       "19  1911           96  \n",
       "20  1912           70  \n",
       "21  1913           72  \n",
       "22  1914           71  \n",
       "23  1915           86  \n",
       "24  1916           86  \n",
       "25  1917           79  \n",
       "26  1918           77  \n",
       "27  1919           76  \n",
       "28  1920           67  \n",
       "29  1921           70  \n",
       "30  1922           75  \n",
       "⋮   ⋮             ⋮    \n",
       "92  1984          121  \n",
       "93  1985          106  \n",
       "94  1986          113  \n",
       "95  1987          102  \n",
       "96  1988           77  \n",
       "97  1989           86  \n",
       "98  1990          136  \n",
       "99  1991          117  \n",
       "100 1992          134  \n",
       "101 1993          155  \n",
       "102 1994          115  \n",
       "103 1995          116  \n",
       "104 1996          126  \n",
       "105 1997          117  \n",
       "106 1998          125  \n",
       "107 1999          119  \n",
       "108 2000          132  \n",
       "109 2001          122  \n",
       "110 2002           99  \n",
       "111 2003           96  \n",
       "112 2004          123  \n",
       "113 2005          104  \n",
       "114 2006          116  \n",
       "115 2007          114  \n",
       "116 2008          143  \n",
       "117 2009          128  \n",
       "118 2010          121  \n",
       "119 2011          105  \n",
       "120 2012           95  \n",
       "121 2013          108  "
      ]
     },
     "metadata": {},
     "output_type": "display_data"
    }
   ],
   "source": [
    "#create new dataframe of 2 columns: year and total vectors\n",
    "totalframe <- data.frame(raindays$YEAR, total)\n",
    "totalframe"
   ]
  },
  {
   "cell_type": "code",
   "execution_count": 25,
   "metadata": {},
   "outputs": [],
   "source": [
    "write.table(totalframe, \"totalrain.dat\", col.names=F, row.names=F) #writes dataframe to a file"
   ]
  },
  {
   "attachments": {
    "image.png": {
     "image/png": "[encoded data removed]"
    }
   },
   "cell_type": "markdown",
   "metadata": {},
   "source": [
    "![image.png](attachment:image.png)"
   ]
  },
  {
   "cell_type": "markdown",
   "metadata": {},
   "source": [
    "# Exercise\n",
    "- what is average of high temperatures in Rochester for Summer 2014 (all data)?\n",
    "- what is standard deviation of the low temperatures in Rochester for July 2014? How does this compare with the standard deviation of the high temperatures in the same month?"
   ]
  },
  {
   "cell_type": "code",
   "execution_count": 28,
   "metadata": {},
   "outputs": [
    {
     "data": {
      "text/html": [
       "<table>\n",
       "<caption>A data.frame: 6 × 9</caption>\n",
       "<thead>\n",
       "\t<tr><th scope=col>MONTH</th><th scope=col>DAY</th><th scope=col>HI</th><th scope=col>LO</th><th scope=col>AVG</th><th scope=col>DEP</th><th scope=col>HDD</th><th scope=col>CDD</th><th scope=col>PREC</th></tr>\n",
       "\t<tr><th scope=col>&lt;fct&gt;</th><th scope=col>&lt;int&gt;</th><th scope=col>&lt;int&gt;</th><th scope=col>&lt;int&gt;</th><th scope=col>&lt;int&gt;</th><th scope=col>&lt;int&gt;</th><th scope=col>&lt;int&gt;</th><th scope=col>&lt;int&gt;</th><th scope=col>&lt;fct&gt;</th></tr>\n",
       "</thead>\n",
       "<tbody>\n",
       "\t<tr><td>JUN</td><td>1</td><td>82</td><td>48</td><td>65</td><td> 3</td><td>0</td><td> 0</td><td>0   </td></tr>\n",
       "\t<tr><td>JUN</td><td>2</td><td>87</td><td>63</td><td>75</td><td>13</td><td>0</td><td>10</td><td>0   </td></tr>\n",
       "\t<tr><td>JUN</td><td>3</td><td>83</td><td>57</td><td>70</td><td> 7</td><td>0</td><td> 5</td><td>0.38</td></tr>\n",
       "\t<tr><td>JUN</td><td>4</td><td>73</td><td>53</td><td>63</td><td> 0</td><td>2</td><td> 0</td><td>0   </td></tr>\n",
       "\t<tr><td>JUN</td><td>5</td><td>65</td><td>49</td><td>57</td><td>-6</td><td>8</td><td> 0</td><td>0   </td></tr>\n",
       "\t<tr><td>JUN</td><td>6</td><td>74</td><td>51</td><td>63</td><td>-1</td><td>2</td><td> 0</td><td>0   </td></tr>\n",
       "</tbody>\n",
       "</table>\n"
      ],
      "text/latex": [
       "A data.frame: 6 × 9\n",
       "\\begin{tabular}{r|lllllllll}\n",
       " MONTH & DAY & HI & LO & AVG & DEP & HDD & CDD & PREC\\\\\n",
       " <fct> & <int> & <int> & <int> & <int> & <int> & <int> & <int> & <fct>\\\\\n",
       "\\hline\n",
       "\t JUN & 1 & 82 & 48 & 65 &  3 & 0 &  0 & 0   \\\\\n",
       "\t JUN & 2 & 87 & 63 & 75 & 13 & 0 & 10 & 0   \\\\\n",
       "\t JUN & 3 & 83 & 57 & 70 &  7 & 0 &  5 & 0.38\\\\\n",
       "\t JUN & 4 & 73 & 53 & 63 &  0 & 2 &  0 & 0   \\\\\n",
       "\t JUN & 5 & 65 & 49 & 57 & -6 & 8 &  0 & 0   \\\\\n",
       "\t JUN & 6 & 74 & 51 & 63 & -1 & 2 &  0 & 0   \\\\\n",
       "\\end{tabular}\n"
      ],
      "text/markdown": [
       "\n",
       "A data.frame: 6 × 9\n",
       "\n",
       "| MONTH &lt;fct&gt; | DAY &lt;int&gt; | HI &lt;int&gt; | LO &lt;int&gt; | AVG &lt;int&gt; | DEP &lt;int&gt; | HDD &lt;int&gt; | CDD &lt;int&gt; | PREC &lt;fct&gt; |\n",
       "|---|---|---|---|---|---|---|---|---|\n",
       "| JUN | 1 | 82 | 48 | 65 |  3 | 0 |  0 | 0    |\n",
       "| JUN | 2 | 87 | 63 | 75 | 13 | 0 | 10 | 0    |\n",
       "| JUN | 3 | 83 | 57 | 70 |  7 | 0 |  5 | 0.38 |\n",
       "| JUN | 4 | 73 | 53 | 63 |  0 | 2 |  0 | 0    |\n",
       "| JUN | 5 | 65 | 49 | 57 | -6 | 8 |  0 | 0    |\n",
       "| JUN | 6 | 74 | 51 | 63 | -1 | 2 |  0 | 0    |\n",
       "\n"
      ],
      "text/plain": [
       "  MONTH DAY HI LO AVG DEP HDD CDD PREC\n",
       "1 JUN   1   82 48 65   3  0    0  0   \n",
       "2 JUN   2   87 63 75  13  0   10  0   \n",
       "3 JUN   3   83 57 70   7  0    5  0.38\n",
       "4 JUN   4   73 53 63   0  2    0  0   \n",
       "5 JUN   5   65 49 57  -6  8    0  0   \n",
       "6 JUN   6   74 51 63  -1  2    0  0   "
      ]
     },
     "metadata": {},
     "output_type": "display_data"
    }
   ],
   "source": [
    "weather <- read.csv(\"summer2014.csv\", header=T)\n",
    "head(weather)"
   ]
  },
  {
   "cell_type": "code",
   "execution_count": 30,
   "metadata": {},
   "outputs": [
    {
     "data": {
      "text/html": [
       "78.6195652173913"
      ],
      "text/latex": [
       "78.6195652173913"
      ],
      "text/markdown": [
       "78.6195652173913"
      ],
      "text/plain": [
       "[1] 78.61957"
      ]
     },
     "metadata": {},
     "output_type": "display_data"
    }
   ],
   "source": [
    "avgHighTemp <- mean(weather$HI)\n",
    "avgHighTemp"
   ]
  },
  {
   "cell_type": "code",
   "execution_count": 42,
   "metadata": {},
   "outputs": [
    {
     "data": {
      "text/html": [
       "5.72412363579347"
      ],
      "text/latex": [
       "5.72412363579347"
      ],
      "text/markdown": [
       "5.72412363579347"
      ],
      "text/plain": [
       "[1] 5.724124"
      ]
     },
     "metadata": {},
     "output_type": "display_data"
    },
    {
     "data": {
      "text/html": [
       "5.33461006223782"
      ],
      "text/latex": [
       "5.33461006223782"
      ],
      "text/markdown": [
       "5.33461006223782"
      ],
      "text/plain": [
       "[1] 5.33461"
      ]
     },
     "metadata": {},
     "output_type": "display_data"
    }
   ],
   "source": [
    "sdLowTemp <- sd(weather[weather$MONTH==\"JUL\",]$LO)\n",
    "sdHighTemp <- sd(weather[weather$MONTH==\"JUL\", ]$HI)\n",
    "sdLowTemp\n",
    "sdHighTemp"
   ]
  },
  {
   "cell_type": "code",
   "execution_count": 44,
   "metadata": {},
   "outputs": [
    {
     "data": {
      "text/html": [
       "5.72412363579347"
      ],
      "text/latex": [
       "5.72412363579347"
      ],
      "text/markdown": [
       "5.72412363579347"
      ],
      "text/plain": [
       "[1] 5.724124"
      ]
     },
     "metadata": {},
     "output_type": "display_data"
    },
    {
     "data": {
      "text/html": [
       "5.33461006223782"
      ],
      "text/latex": [
       "5.33461006223782"
      ],
      "text/markdown": [
       "5.33461006223782"
      ],
      "text/plain": [
       "[1] 5.33461"
      ]
     },
     "metadata": {},
     "output_type": "display_data"
    }
   ],
   "source": [
    "#another way to calculate\n",
    "sdLowTemp <- sd(weather[weather$MONTH==\"JUL\",\"LO\"])\n",
    "sdHighTemp <- sd(weather[weather$MONTH==\"JUL\",\"HI\"])\n",
    "sdLowTemp\n",
    "sdHighTemp"
   ]
  },
  {
   "cell_type": "code",
   "execution_count": 34,
   "metadata": {},
   "outputs": [
    {
     "data": {
      "text/plain": [
       " MONTH         DAY              HI              LO             AVG      \n",
       " AUG:31   Min.   : 1.00   Min.   :65.00   Min.   :48.00   Min.   :57.0  \n",
       " JUL:31   1st Qu.: 8.00   1st Qu.:74.75   1st Qu.:54.00   1st Qu.:65.0  \n",
       " JUN:30   Median :16.00   Median :79.00   Median :59.50   Median :69.5  \n",
       "          Mean   :15.84   Mean   :78.62   Mean   :59.09   Mean   :69.1  \n",
       "          3rd Qu.:23.25   3rd Qu.:83.00   3rd Qu.:64.00   3rd Qu.:73.0  \n",
       "          Max.   :31.00   Max.   :90.00   Max.   :74.00   Max.   :82.0  \n",
       "                                                                        \n",
       "      DEP                HDD              CDD              PREC   \n",
       " Min.   :-10.0000   Min.   :0.0000   Min.   : 0.000   0      :50  \n",
       " 1st Qu.: -4.0000   1st Qu.:0.0000   1st Qu.: 0.000   T      :11  \n",
       " Median :  1.0000   Median :0.0000   Median : 4.500   0.01   : 3  \n",
       " Mean   :  0.2609   Mean   :0.5652   Mean   : 4.663   0.15   : 3  \n",
       " 3rd Qu.:  3.2500   3rd Qu.:0.0000   3rd Qu.: 8.000   0.47   : 2  \n",
       " Max.   : 13.0000   Max.   :8.0000   Max.   :17.000   0.02   : 1  \n",
       "                                                      (Other):22  "
      ]
     },
     "metadata": {},
     "output_type": "display_data"
    }
   ],
   "source": [
    "summary(weather)"
   ]
  },
  {
   "cell_type": "markdown",
   "metadata": {},
   "source": [
    "## Levels"
   ]
  },
  {
   "cell_type": "code",
   "execution_count": 46,
   "metadata": {},
   "outputs": [
    {
     "data": {
      "text/html": [
       "<ol class=list-inline>\n",
       "\t<li>0</li>\n",
       "\t<li>0</li>\n",
       "\t<li>0.38</li>\n",
       "\t<li>0</li>\n",
       "\t<li>0</li>\n",
       "\t<li>0</li>\n",
       "\t<li>0</li>\n",
       "\t<li>0.14</li>\n",
       "\t<li>0</li>\n",
       "\t<li>0</li>\n",
       "\t<li>T</li>\n",
       "\t<li>0.05</li>\n",
       "\t<li>0.03</li>\n",
       "\t<li>0</li>\n",
       "\t<li>0</li>\n",
       "\t<li>0</li>\n",
       "\t<li>0.39</li>\n",
       "\t<li>T</li>\n",
       "\t<li>0</li>\n",
       "\t<li>0</li>\n",
       "\t<li>0</li>\n",
       "\t<li>0</li>\n",
       "\t<li>0</li>\n",
       "\t<li>0.7</li>\n",
       "\t<li>0.22</li>\n",
       "\t<li>0</li>\n",
       "\t<li>0</li>\n",
       "\t<li>0</li>\n",
       "\t<li>0.15</li>\n",
       "\t<li>0</li>\n",
       "\t<li>0.01</li>\n",
       "\t<li>0.02</li>\n",
       "\t<li>0.43</li>\n",
       "\t<li>T</li>\n",
       "\t<li>0</li>\n",
       "\t<li>0</li>\n",
       "\t<li>0.47</li>\n",
       "\t<li>1.03</li>\n",
       "\t<li>T</li>\n",
       "\t<li>0</li>\n",
       "\t<li>0</li>\n",
       "\t<li>0</li>\n",
       "\t<li>0.41</li>\n",
       "\t<li>T</li>\n",
       "\t<li>0.87</li>\n",
       "\t<li>0</li>\n",
       "\t<li>0</li>\n",
       "\t<li>0</li>\n",
       "\t<li>0.15</li>\n",
       "\t<li>0.28</li>\n",
       "\t<li>0</li>\n",
       "\t<li>0</li>\n",
       "\t<li>T</li>\n",
       "\t<li>0</li>\n",
       "\t<li>0</li>\n",
       "\t<li>T</li>\n",
       "\t<li>1.42</li>\n",
       "\t<li>2.42</li>\n",
       "\t<li>0</li>\n",
       "\t<li>0.01</li>\n",
       "\t<li>0.18</li>\n",
       "\t<li>0.26</li>\n",
       "\t<li>0.08</li>\n",
       "\t<li>0.27</li>\n",
       "\t<li>0.25</li>\n",
       "\t<li>T</li>\n",
       "\t<li>0</li>\n",
       "\t<li>0</li>\n",
       "\t<li>T</li>\n",
       "\t<li>0</li>\n",
       "\t<li>0</li>\n",
       "\t<li>0</li>\n",
       "\t<li>0.99</li>\n",
       "\t<li>0.15</li>\n",
       "\t<li>0</li>\n",
       "\t<li>0.01</li>\n",
       "\t<li>0.11</li>\n",
       "\t<li>0</li>\n",
       "\t<li>0</li>\n",
       "\t<li>0</li>\n",
       "\t<li>T</li>\n",
       "\t<li>0</li>\n",
       "\t<li>0</li>\n",
       "\t<li>0</li>\n",
       "\t<li>0</li>\n",
       "\t<li>0</li>\n",
       "\t<li>0</li>\n",
       "\t<li>T</li>\n",
       "\t<li>0</li>\n",
       "\t<li>0</li>\n",
       "\t<li>0.47</li>\n",
       "\t<li>0.24</li>\n",
       "</ol>\n",
       "\n",
       "<details>\n",
       "\t<summary style=display:list-item;cursor:pointer>\n",
       "\t\t<strong>Levels</strong>:\n",
       "\t</summary>\n",
       "\t<ol class=list-inline>\n",
       "\t\t<li>'0'</li>\n",
       "\t\t<li>'0.01'</li>\n",
       "\t\t<li>'0.02'</li>\n",
       "\t\t<li>'0.03'</li>\n",
       "\t\t<li>'0.05'</li>\n",
       "\t\t<li>'0.08'</li>\n",
       "\t\t<li>'0.11'</li>\n",
       "\t\t<li>'0.14'</li>\n",
       "\t\t<li>'0.15'</li>\n",
       "\t\t<li>'0.18'</li>\n",
       "\t\t<li>'0.22'</li>\n",
       "\t\t<li>'0.24'</li>\n",
       "\t\t<li>'0.25'</li>\n",
       "\t\t<li>'0.26'</li>\n",
       "\t\t<li>'0.27'</li>\n",
       "\t\t<li>'0.28'</li>\n",
       "\t\t<li>'0.38'</li>\n",
       "\t\t<li>'0.39'</li>\n",
       "\t\t<li>'0.41'</li>\n",
       "\t\t<li>'0.43'</li>\n",
       "\t\t<li>'0.47'</li>\n",
       "\t\t<li>'0.7'</li>\n",
       "\t\t<li>'0.87'</li>\n",
       "\t\t<li>'0.99'</li>\n",
       "\t\t<li>'1.03'</li>\n",
       "\t\t<li>'1.42'</li>\n",
       "\t\t<li>'2.42'</li>\n",
       "\t\t<li>'T'</li>\n",
       "\t</ol>\n",
       "</details>"
      ],
      "text/latex": [
       "\\begin{enumerate*}\n",
       "\\item 0\n",
       "\\item 0\n",
       "\\item 0.38\n",
       "\\item 0\n",
       "\\item 0\n",
       "\\item 0\n",
       "\\item 0\n",
       "\\item 0.14\n",
       "\\item 0\n",
       "\\item 0\n",
       "\\item T\n",
       "\\item 0.05\n",
       "\\item 0.03\n",
       "\\item 0\n",
       "\\item 0\n",
       "\\item 0\n",
       "\\item 0.39\n",
       "\\item T\n",
       "\\item 0\n",
       "\\item 0\n",
       "\\item 0\n",
       "\\item 0\n",
       "\\item 0\n",
       "\\item 0.7\n",
       "\\item 0.22\n",
       "\\item 0\n",
       "\\item 0\n",
       "\\item 0\n",
       "\\item 0.15\n",
       "\\item 0\n",
       "\\item 0.01\n",
       "\\item 0.02\n",
       "\\item 0.43\n",
       "\\item T\n",
       "\\item 0\n",
       "\\item 0\n",
       "\\item 0.47\n",
       "\\item 1.03\n",
       "\\item T\n",
       "\\item 0\n",
       "\\item 0\n",
       "\\item 0\n",
       "\\item 0.41\n",
       "\\item T\n",
       "\\item 0.87\n",
       "\\item 0\n",
       "\\item 0\n",
       "\\item 0\n",
       "\\item 0.15\n",
       "\\item 0.28\n",
       "\\item 0\n",
       "\\item 0\n",
       "\\item T\n",
       "\\item 0\n",
       "\\item 0\n",
       "\\item T\n",
       "\\item 1.42\n",
       "\\item 2.42\n",
       "\\item 0\n",
       "\\item 0.01\n",
       "\\item 0.18\n",
       "\\item 0.26\n",
       "\\item 0.08\n",
       "\\item 0.27\n",
       "\\item 0.25\n",
       "\\item T\n",
       "\\item 0\n",
       "\\item 0\n",
       "\\item T\n",
       "\\item 0\n",
       "\\item 0\n",
       "\\item 0\n",
       "\\item 0.99\n",
       "\\item 0.15\n",
       "\\item 0\n",
       "\\item 0.01\n",
       "\\item 0.11\n",
       "\\item 0\n",
       "\\item 0\n",
       "\\item 0\n",
       "\\item T\n",
       "\\item 0\n",
       "\\item 0\n",
       "\\item 0\n",
       "\\item 0\n",
       "\\item 0\n",
       "\\item 0\n",
       "\\item T\n",
       "\\item 0\n",
       "\\item 0\n",
       "\\item 0.47\n",
       "\\item 0.24\n",
       "\\end{enumerate*}\n",
       "\n",
       "\\emph{Levels}: \\begin{enumerate*}\n",
       "\\item '0'\n",
       "\\item '0.01'\n",
       "\\item '0.02'\n",
       "\\item '0.03'\n",
       "\\item '0.05'\n",
       "\\item '0.08'\n",
       "\\item '0.11'\n",
       "\\item '0.14'\n",
       "\\item '0.15'\n",
       "\\item '0.18'\n",
       "\\item '0.22'\n",
       "\\item '0.24'\n",
       "\\item '0.25'\n",
       "\\item '0.26'\n",
       "\\item '0.27'\n",
       "\\item '0.28'\n",
       "\\item '0.38'\n",
       "\\item '0.39'\n",
       "\\item '0.41'\n",
       "\\item '0.43'\n",
       "\\item '0.47'\n",
       "\\item '0.7'\n",
       "\\item '0.87'\n",
       "\\item '0.99'\n",
       "\\item '1.03'\n",
       "\\item '1.42'\n",
       "\\item '2.42'\n",
       "\\item 'T'\n",
       "\\end{enumerate*}\n"
      ],
      "text/markdown": [
       "1. 0\n",
       "2. 0\n",
       "3. 0.38\n",
       "4. 0\n",
       "5. 0\n",
       "6. 0\n",
       "7. 0\n",
       "8. 0.14\n",
       "9. 0\n",
       "10. 0\n",
       "11. T\n",
       "12. 0.05\n",
       "13. 0.03\n",
       "14. 0\n",
       "15. 0\n",
       "16. 0\n",
       "17. 0.39\n",
       "18. T\n",
       "19. 0\n",
       "20. 0\n",
       "21. 0\n",
       "22. 0\n",
       "23. 0\n",
       "24. 0.7\n",
       "25. 0.22\n",
       "26. 0\n",
       "27. 0\n",
       "28. 0\n",
       "29. 0.15\n",
       "30. 0\n",
       "31. 0.01\n",
       "32. 0.02\n",
       "33. 0.43\n",
       "34. T\n",
       "35. 0\n",
       "36. 0\n",
       "37. 0.47\n",
       "38. 1.03\n",
       "39. T\n",
       "40. 0\n",
       "41. 0\n",
       "42. 0\n",
       "43. 0.41\n",
       "44. T\n",
       "45. 0.87\n",
       "46. 0\n",
       "47. 0\n",
       "48. 0\n",
       "49. 0.15\n",
       "50. 0.28\n",
       "51. 0\n",
       "52. 0\n",
       "53. T\n",
       "54. 0\n",
       "55. 0\n",
       "56. T\n",
       "57. 1.42\n",
       "58. 2.42\n",
       "59. 0\n",
       "60. 0.01\n",
       "61. 0.18\n",
       "62. 0.26\n",
       "63. 0.08\n",
       "64. 0.27\n",
       "65. 0.25\n",
       "66. T\n",
       "67. 0\n",
       "68. 0\n",
       "69. T\n",
       "70. 0\n",
       "71. 0\n",
       "72. 0\n",
       "73. 0.99\n",
       "74. 0.15\n",
       "75. 0\n",
       "76. 0.01\n",
       "77. 0.11\n",
       "78. 0\n",
       "79. 0\n",
       "80. 0\n",
       "81. T\n",
       "82. 0\n",
       "83. 0\n",
       "84. 0\n",
       "85. 0\n",
       "86. 0\n",
       "87. 0\n",
       "88. T\n",
       "89. 0\n",
       "90. 0\n",
       "91. 0.47\n",
       "92. 0.24\n",
       "\n",
       "\n",
       "\n",
       "**Levels**: 1. '0'\n",
       "2. '0.01'\n",
       "3. '0.02'\n",
       "4. '0.03'\n",
       "5. '0.05'\n",
       "6. '0.08'\n",
       "7. '0.11'\n",
       "8. '0.14'\n",
       "9. '0.15'\n",
       "10. '0.18'\n",
       "11. '0.22'\n",
       "12. '0.24'\n",
       "13. '0.25'\n",
       "14. '0.26'\n",
       "15. '0.27'\n",
       "16. '0.28'\n",
       "17. '0.38'\n",
       "18. '0.39'\n",
       "19. '0.41'\n",
       "20. '0.43'\n",
       "21. '0.47'\n",
       "22. '0.7'\n",
       "23. '0.87'\n",
       "24. '0.99'\n",
       "25. '1.03'\n",
       "26. '1.42'\n",
       "27. '2.42'\n",
       "28. 'T'\n",
       "\n",
       "\n"
      ],
      "text/plain": [
       " [1] 0    0    0.38 0    0    0    0    0.14 0    0    T    0.05 0.03 0    0   \n",
       "[16] 0    0.39 T    0    0    0    0    0    0.7  0.22 0    0    0    0.15 0   \n",
       "[31] 0.01 0.02 0.43 T    0    0    0.47 1.03 T    0    0    0    0.41 T    0.87\n",
       "[46] 0    0    0    0.15 0.28 0    0    T    0    0    T    1.42 2.42 0    0.01\n",
       "[61] 0.18 0.26 0.08 0.27 0.25 T    0    0    T    0    0    0    0.99 0.15 0   \n",
       "[76] 0.01 0.11 0    0    0    T    0    0    0    0    0    0    T    0    0   \n",
       "[91] 0.47 0.24\n",
       "28 Levels: 0 0.01 0.02 0.03 0.05 0.08 0.11 0.14 0.15 0.18 0.22 0.24 ... T"
      ]
     },
     "metadata": {},
     "output_type": "display_data"
    }
   ],
   "source": [
    "weather$PREC #note there are 28 levels. This is a factor data type. \n",
    "#Cannot go from factor directly to numeric because then will convert into 1-28 ints instead of converting from the double"
   ]
  },
  {
   "cell_type": "code",
   "execution_count": 47,
   "metadata": {},
   "outputs": [
    {
     "data": {
      "text/html": [
       "<ol class=list-inline>\n",
       "\t<li>'0'</li>\n",
       "\t<li>'0'</li>\n",
       "\t<li>'0.38'</li>\n",
       "\t<li>'0'</li>\n",
       "\t<li>'0'</li>\n",
       "\t<li>'0'</li>\n",
       "\t<li>'0'</li>\n",
       "\t<li>'0.14'</li>\n",
       "\t<li>'0'</li>\n",
       "\t<li>'0'</li>\n",
       "\t<li>'T'</li>\n",
       "\t<li>'0.05'</li>\n",
       "\t<li>'0.03'</li>\n",
       "\t<li>'0'</li>\n",
       "\t<li>'0'</li>\n",
       "\t<li>'0'</li>\n",
       "\t<li>'0.39'</li>\n",
       "\t<li>'T'</li>\n",
       "\t<li>'0'</li>\n",
       "\t<li>'0'</li>\n",
       "\t<li>'0'</li>\n",
       "\t<li>'0'</li>\n",
       "\t<li>'0'</li>\n",
       "\t<li>'0.7'</li>\n",
       "\t<li>'0.22'</li>\n",
       "\t<li>'0'</li>\n",
       "\t<li>'0'</li>\n",
       "\t<li>'0'</li>\n",
       "\t<li>'0.15'</li>\n",
       "\t<li>'0'</li>\n",
       "\t<li>'0.01'</li>\n",
       "\t<li>'0.02'</li>\n",
       "\t<li>'0.43'</li>\n",
       "\t<li>'T'</li>\n",
       "\t<li>'0'</li>\n",
       "\t<li>'0'</li>\n",
       "\t<li>'0.47'</li>\n",
       "\t<li>'1.03'</li>\n",
       "\t<li>'T'</li>\n",
       "\t<li>'0'</li>\n",
       "\t<li>'0'</li>\n",
       "\t<li>'0'</li>\n",
       "\t<li>'0.41'</li>\n",
       "\t<li>'T'</li>\n",
       "\t<li>'0.87'</li>\n",
       "\t<li>'0'</li>\n",
       "\t<li>'0'</li>\n",
       "\t<li>'0'</li>\n",
       "\t<li>'0.15'</li>\n",
       "\t<li>'0.28'</li>\n",
       "\t<li>'0'</li>\n",
       "\t<li>'0'</li>\n",
       "\t<li>'T'</li>\n",
       "\t<li>'0'</li>\n",
       "\t<li>'0'</li>\n",
       "\t<li>'T'</li>\n",
       "\t<li>'1.42'</li>\n",
       "\t<li>'2.42'</li>\n",
       "\t<li>'0'</li>\n",
       "\t<li>'0.01'</li>\n",
       "\t<li>'0.18'</li>\n",
       "\t<li>'0.26'</li>\n",
       "\t<li>'0.08'</li>\n",
       "\t<li>'0.27'</li>\n",
       "\t<li>'0.25'</li>\n",
       "\t<li>'T'</li>\n",
       "\t<li>'0'</li>\n",
       "\t<li>'0'</li>\n",
       "\t<li>'T'</li>\n",
       "\t<li>'0'</li>\n",
       "\t<li>'0'</li>\n",
       "\t<li>'0'</li>\n",
       "\t<li>'0.99'</li>\n",
       "\t<li>'0.15'</li>\n",
       "\t<li>'0'</li>\n",
       "\t<li>'0.01'</li>\n",
       "\t<li>'0.11'</li>\n",
       "\t<li>'0'</li>\n",
       "\t<li>'0'</li>\n",
       "\t<li>'0'</li>\n",
       "\t<li>'T'</li>\n",
       "\t<li>'0'</li>\n",
       "\t<li>'0'</li>\n",
       "\t<li>'0'</li>\n",
       "\t<li>'0'</li>\n",
       "\t<li>'0'</li>\n",
       "\t<li>'0'</li>\n",
       "\t<li>'T'</li>\n",
       "\t<li>'0'</li>\n",
       "\t<li>'0'</li>\n",
       "\t<li>'0.47'</li>\n",
       "\t<li>'0.24'</li>\n",
       "</ol>\n"
      ],
      "text/latex": [
       "\\begin{enumerate*}\n",
       "\\item '0'\n",
       "\\item '0'\n",
       "\\item '0.38'\n",
       "\\item '0'\n",
       "\\item '0'\n",
       "\\item '0'\n",
       "\\item '0'\n",
       "\\item '0.14'\n",
       "\\item '0'\n",
       "\\item '0'\n",
       "\\item 'T'\n",
       "\\item '0.05'\n",
       "\\item '0.03'\n",
       "\\item '0'\n",
       "\\item '0'\n",
       "\\item '0'\n",
       "\\item '0.39'\n",
       "\\item 'T'\n",
       "\\item '0'\n",
       "\\item '0'\n",
       "\\item '0'\n",
       "\\item '0'\n",
       "\\item '0'\n",
       "\\item '0.7'\n",
       "\\item '0.22'\n",
       "\\item '0'\n",
       "\\item '0'\n",
       "\\item '0'\n",
       "\\item '0.15'\n",
       "\\item '0'\n",
       "\\item '0.01'\n",
       "\\item '0.02'\n",
       "\\item '0.43'\n",
       "\\item 'T'\n",
       "\\item '0'\n",
       "\\item '0'\n",
       "\\item '0.47'\n",
       "\\item '1.03'\n",
       "\\item 'T'\n",
       "\\item '0'\n",
       "\\item '0'\n",
       "\\item '0'\n",
       "\\item '0.41'\n",
       "\\item 'T'\n",
       "\\item '0.87'\n",
       "\\item '0'\n",
       "\\item '0'\n",
       "\\item '0'\n",
       "\\item '0.15'\n",
       "\\item '0.28'\n",
       "\\item '0'\n",
       "\\item '0'\n",
       "\\item 'T'\n",
       "\\item '0'\n",
       "\\item '0'\n",
       "\\item 'T'\n",
       "\\item '1.42'\n",
       "\\item '2.42'\n",
       "\\item '0'\n",
       "\\item '0.01'\n",
       "\\item '0.18'\n",
       "\\item '0.26'\n",
       "\\item '0.08'\n",
       "\\item '0.27'\n",
       "\\item '0.25'\n",
       "\\item 'T'\n",
       "\\item '0'\n",
       "\\item '0'\n",
       "\\item 'T'\n",
       "\\item '0'\n",
       "\\item '0'\n",
       "\\item '0'\n",
       "\\item '0.99'\n",
       "\\item '0.15'\n",
       "\\item '0'\n",
       "\\item '0.01'\n",
       "\\item '0.11'\n",
       "\\item '0'\n",
       "\\item '0'\n",
       "\\item '0'\n",
       "\\item 'T'\n",
       "\\item '0'\n",
       "\\item '0'\n",
       "\\item '0'\n",
       "\\item '0'\n",
       "\\item '0'\n",
       "\\item '0'\n",
       "\\item 'T'\n",
       "\\item '0'\n",
       "\\item '0'\n",
       "\\item '0.47'\n",
       "\\item '0.24'\n",
       "\\end{enumerate*}\n"
      ],
      "text/markdown": [
       "1. '0'\n",
       "2. '0'\n",
       "3. '0.38'\n",
       "4. '0'\n",
       "5. '0'\n",
       "6. '0'\n",
       "7. '0'\n",
       "8. '0.14'\n",
       "9. '0'\n",
       "10. '0'\n",
       "11. 'T'\n",
       "12. '0.05'\n",
       "13. '0.03'\n",
       "14. '0'\n",
       "15. '0'\n",
       "16. '0'\n",
       "17. '0.39'\n",
       "18. 'T'\n",
       "19. '0'\n",
       "20. '0'\n",
       "21. '0'\n",
       "22. '0'\n",
       "23. '0'\n",
       "24. '0.7'\n",
       "25. '0.22'\n",
       "26. '0'\n",
       "27. '0'\n",
       "28. '0'\n",
       "29. '0.15'\n",
       "30. '0'\n",
       "31. '0.01'\n",
       "32. '0.02'\n",
       "33. '0.43'\n",
       "34. 'T'\n",
       "35. '0'\n",
       "36. '0'\n",
       "37. '0.47'\n",
       "38. '1.03'\n",
       "39. 'T'\n",
       "40. '0'\n",
       "41. '0'\n",
       "42. '0'\n",
       "43. '0.41'\n",
       "44. 'T'\n",
       "45. '0.87'\n",
       "46. '0'\n",
       "47. '0'\n",
       "48. '0'\n",
       "49. '0.15'\n",
       "50. '0.28'\n",
       "51. '0'\n",
       "52. '0'\n",
       "53. 'T'\n",
       "54. '0'\n",
       "55. '0'\n",
       "56. 'T'\n",
       "57. '1.42'\n",
       "58. '2.42'\n",
       "59. '0'\n",
       "60. '0.01'\n",
       "61. '0.18'\n",
       "62. '0.26'\n",
       "63. '0.08'\n",
       "64. '0.27'\n",
       "65. '0.25'\n",
       "66. 'T'\n",
       "67. '0'\n",
       "68. '0'\n",
       "69. 'T'\n",
       "70. '0'\n",
       "71. '0'\n",
       "72. '0'\n",
       "73. '0.99'\n",
       "74. '0.15'\n",
       "75. '0'\n",
       "76. '0.01'\n",
       "77. '0.11'\n",
       "78. '0'\n",
       "79. '0'\n",
       "80. '0'\n",
       "81. 'T'\n",
       "82. '0'\n",
       "83. '0'\n",
       "84. '0'\n",
       "85. '0'\n",
       "86. '0'\n",
       "87. '0'\n",
       "88. 'T'\n",
       "89. '0'\n",
       "90. '0'\n",
       "91. '0.47'\n",
       "92. '0.24'\n",
       "\n",
       "\n"
      ],
      "text/plain": [
       " [1] \"0\"    \"0\"    \"0.38\" \"0\"    \"0\"    \"0\"    \"0\"    \"0.14\" \"0\"    \"0\"   \n",
       "[11] \"T\"    \"0.05\" \"0.03\" \"0\"    \"0\"    \"0\"    \"0.39\" \"T\"    \"0\"    \"0\"   \n",
       "[21] \"0\"    \"0\"    \"0\"    \"0.7\"  \"0.22\" \"0\"    \"0\"    \"0\"    \"0.15\" \"0\"   \n",
       "[31] \"0.01\" \"0.02\" \"0.43\" \"T\"    \"0\"    \"0\"    \"0.47\" \"1.03\" \"T\"    \"0\"   \n",
       "[41] \"0\"    \"0\"    \"0.41\" \"T\"    \"0.87\" \"0\"    \"0\"    \"0\"    \"0.15\" \"0.28\"\n",
       "[51] \"0\"    \"0\"    \"T\"    \"0\"    \"0\"    \"T\"    \"1.42\" \"2.42\" \"0\"    \"0.01\"\n",
       "[61] \"0.18\" \"0.26\" \"0.08\" \"0.27\" \"0.25\" \"T\"    \"0\"    \"0\"    \"T\"    \"0\"   \n",
       "[71] \"0\"    \"0\"    \"0.99\" \"0.15\" \"0\"    \"0.01\" \"0.11\" \"0\"    \"0\"    \"0\"   \n",
       "[81] \"T\"    \"0\"    \"0\"    \"0\"    \"0\"    \"0\"    \"0\"    \"T\"    \"0\"    \"0\"   \n",
       "[91] \"0.47\" \"0.24\""
      ]
     },
     "metadata": {},
     "output_type": "display_data"
    }
   ],
   "source": [
    "#convert to character type, then convert to numerical\n",
    "weather$PREC <- as.character(weather$PREC)\n",
    "weather$PREC"
   ]
  },
  {
   "cell_type": "markdown",
   "metadata": {},
   "source": [
    "Quotes around the data means it is character data"
   ]
  },
  {
   "cell_type": "code",
   "execution_count": 50,
   "metadata": {},
   "outputs": [
    {
     "name": "stderr",
     "output_type": "stream",
     "text": [
      "Warning message in eval(expr, envir, enclos):\n",
      "“NAs introduced by coercion”"
     ]
    }
   ],
   "source": [
    "weather$PREC <- as.numeric(weather$PREC)"
   ]
  },
  {
   "cell_type": "code",
   "execution_count": 51,
   "metadata": {},
   "outputs": [
    {
     "data": {
      "text/html": [
       "&lt;NA&gt;"
      ],
      "text/latex": [
       "<NA>"
      ],
      "text/markdown": [
       "&lt;NA&gt;"
      ],
      "text/plain": [
       "[1] NA"
      ]
     },
     "metadata": {},
     "output_type": "display_data"
    }
   ],
   "source": [
    "mean(weather$PREC) #cannot calculate mean directly due to existing NAs"
   ]
  },
  {
   "cell_type": "code",
   "execution_count": 52,
   "metadata": {},
   "outputs": [
    {
     "data": {
      "text/html": [
       "0.155432098765432"
      ],
      "text/latex": [
       "0.155432098765432"
      ],
      "text/markdown": [
       "0.155432098765432"
      ],
      "text/plain": [
       "[1] 0.1554321"
      ]
     },
     "metadata": {},
     "output_type": "display_data"
    }
   ],
   "source": [
    "mean(weather$PREC, na.rm=T) #remove nan"
   ]
  },
  {
   "cell_type": "code",
   "execution_count": 53,
   "metadata": {},
   "outputs": [],
   "source": [
    "weather$PREC[is.na(weather$PREC)] <- 0.01 #alternatively, replace Na with a small number"
   ]
  },
  {
   "cell_type": "code",
   "execution_count": 54,
   "metadata": {},
   "outputs": [
    {
     "data": {
      "text/html": [
       "<ol class=list-inline>\n",
       "\t<li>0</li>\n",
       "\t<li>0</li>\n",
       "\t<li>0.38</li>\n",
       "\t<li>0</li>\n",
       "\t<li>0</li>\n",
       "\t<li>0</li>\n",
       "\t<li>0</li>\n",
       "\t<li>0.14</li>\n",
       "\t<li>0</li>\n",
       "\t<li>0</li>\n",
       "\t<li>0.01</li>\n",
       "\t<li>0.05</li>\n",
       "\t<li>0.03</li>\n",
       "\t<li>0</li>\n",
       "\t<li>0</li>\n",
       "\t<li>0</li>\n",
       "\t<li>0.39</li>\n",
       "\t<li>0.01</li>\n",
       "\t<li>0</li>\n",
       "\t<li>0</li>\n",
       "\t<li>0</li>\n",
       "\t<li>0</li>\n",
       "\t<li>0</li>\n",
       "\t<li>0.7</li>\n",
       "\t<li>0.22</li>\n",
       "\t<li>0</li>\n",
       "\t<li>0</li>\n",
       "\t<li>0</li>\n",
       "\t<li>0.15</li>\n",
       "\t<li>0</li>\n",
       "\t<li>0.01</li>\n",
       "\t<li>0.02</li>\n",
       "\t<li>0.43</li>\n",
       "\t<li>0.01</li>\n",
       "\t<li>0</li>\n",
       "\t<li>0</li>\n",
       "\t<li>0.47</li>\n",
       "\t<li>1.03</li>\n",
       "\t<li>0.01</li>\n",
       "\t<li>0</li>\n",
       "\t<li>0</li>\n",
       "\t<li>0</li>\n",
       "\t<li>0.41</li>\n",
       "\t<li>0.01</li>\n",
       "\t<li>0.87</li>\n",
       "\t<li>0</li>\n",
       "\t<li>0</li>\n",
       "\t<li>0</li>\n",
       "\t<li>0.15</li>\n",
       "\t<li>0.28</li>\n",
       "\t<li>0</li>\n",
       "\t<li>0</li>\n",
       "\t<li>0.01</li>\n",
       "\t<li>0</li>\n",
       "\t<li>0</li>\n",
       "\t<li>0.01</li>\n",
       "\t<li>1.42</li>\n",
       "\t<li>2.42</li>\n",
       "\t<li>0</li>\n",
       "\t<li>0.01</li>\n",
       "\t<li>0.18</li>\n",
       "\t<li>0.26</li>\n",
       "\t<li>0.08</li>\n",
       "\t<li>0.27</li>\n",
       "\t<li>0.25</li>\n",
       "\t<li>0.01</li>\n",
       "\t<li>0</li>\n",
       "\t<li>0</li>\n",
       "\t<li>0.01</li>\n",
       "\t<li>0</li>\n",
       "\t<li>0</li>\n",
       "\t<li>0</li>\n",
       "\t<li>0.99</li>\n",
       "\t<li>0.15</li>\n",
       "\t<li>0</li>\n",
       "\t<li>0.01</li>\n",
       "\t<li>0.11</li>\n",
       "\t<li>0</li>\n",
       "\t<li>0</li>\n",
       "\t<li>0</li>\n",
       "\t<li>0.01</li>\n",
       "\t<li>0</li>\n",
       "\t<li>0</li>\n",
       "\t<li>0</li>\n",
       "\t<li>0</li>\n",
       "\t<li>0</li>\n",
       "\t<li>0</li>\n",
       "\t<li>0.01</li>\n",
       "\t<li>0</li>\n",
       "\t<li>0</li>\n",
       "\t<li>0.47</li>\n",
       "\t<li>0.24</li>\n",
       "</ol>\n"
      ],
      "text/latex": [
       "\\begin{enumerate*}\n",
       "\\item 0\n",
       "\\item 0\n",
       "\\item 0.38\n",
       "\\item 0\n",
       "\\item 0\n",
       "\\item 0\n",
       "\\item 0\n",
       "\\item 0.14\n",
       "\\item 0\n",
       "\\item 0\n",
       "\\item 0.01\n",
       "\\item 0.05\n",
       "\\item 0.03\n",
       "\\item 0\n",
       "\\item 0\n",
       "\\item 0\n",
       "\\item 0.39\n",
       "\\item 0.01\n",
       "\\item 0\n",
       "\\item 0\n",
       "\\item 0\n",
       "\\item 0\n",
       "\\item 0\n",
       "\\item 0.7\n",
       "\\item 0.22\n",
       "\\item 0\n",
       "\\item 0\n",
       "\\item 0\n",
       "\\item 0.15\n",
       "\\item 0\n",
       "\\item 0.01\n",
       "\\item 0.02\n",
       "\\item 0.43\n",
       "\\item 0.01\n",
       "\\item 0\n",
       "\\item 0\n",
       "\\item 0.47\n",
       "\\item 1.03\n",
       "\\item 0.01\n",
       "\\item 0\n",
       "\\item 0\n",
       "\\item 0\n",
       "\\item 0.41\n",
       "\\item 0.01\n",
       "\\item 0.87\n",
       "\\item 0\n",
       "\\item 0\n",
       "\\item 0\n",
       "\\item 0.15\n",
       "\\item 0.28\n",
       "\\item 0\n",
       "\\item 0\n",
       "\\item 0.01\n",
       "\\item 0\n",
       "\\item 0\n",
       "\\item 0.01\n",
       "\\item 1.42\n",
       "\\item 2.42\n",
       "\\item 0\n",
       "\\item 0.01\n",
       "\\item 0.18\n",
       "\\item 0.26\n",
       "\\item 0.08\n",
       "\\item 0.27\n",
       "\\item 0.25\n",
       "\\item 0.01\n",
       "\\item 0\n",
       "\\item 0\n",
       "\\item 0.01\n",
       "\\item 0\n",
       "\\item 0\n",
       "\\item 0\n",
       "\\item 0.99\n",
       "\\item 0.15\n",
       "\\item 0\n",
       "\\item 0.01\n",
       "\\item 0.11\n",
       "\\item 0\n",
       "\\item 0\n",
       "\\item 0\n",
       "\\item 0.01\n",
       "\\item 0\n",
       "\\item 0\n",
       "\\item 0\n",
       "\\item 0\n",
       "\\item 0\n",
       "\\item 0\n",
       "\\item 0.01\n",
       "\\item 0\n",
       "\\item 0\n",
       "\\item 0.47\n",
       "\\item 0.24\n",
       "\\end{enumerate*}\n"
      ],
      "text/markdown": [
       "1. 0\n",
       "2. 0\n",
       "3. 0.38\n",
       "4. 0\n",
       "5. 0\n",
       "6. 0\n",
       "7. 0\n",
       "8. 0.14\n",
       "9. 0\n",
       "10. 0\n",
       "11. 0.01\n",
       "12. 0.05\n",
       "13. 0.03\n",
       "14. 0\n",
       "15. 0\n",
       "16. 0\n",
       "17. 0.39\n",
       "18. 0.01\n",
       "19. 0\n",
       "20. 0\n",
       "21. 0\n",
       "22. 0\n",
       "23. 0\n",
       "24. 0.7\n",
       "25. 0.22\n",
       "26. 0\n",
       "27. 0\n",
       "28. 0\n",
       "29. 0.15\n",
       "30. 0\n",
       "31. 0.01\n",
       "32. 0.02\n",
       "33. 0.43\n",
       "34. 0.01\n",
       "35. 0\n",
       "36. 0\n",
       "37. 0.47\n",
       "38. 1.03\n",
       "39. 0.01\n",
       "40. 0\n",
       "41. 0\n",
       "42. 0\n",
       "43. 0.41\n",
       "44. 0.01\n",
       "45. 0.87\n",
       "46. 0\n",
       "47. 0\n",
       "48. 0\n",
       "49. 0.15\n",
       "50. 0.28\n",
       "51. 0\n",
       "52. 0\n",
       "53. 0.01\n",
       "54. 0\n",
       "55. 0\n",
       "56. 0.01\n",
       "57. 1.42\n",
       "58. 2.42\n",
       "59. 0\n",
       "60. 0.01\n",
       "61. 0.18\n",
       "62. 0.26\n",
       "63. 0.08\n",
       "64. 0.27\n",
       "65. 0.25\n",
       "66. 0.01\n",
       "67. 0\n",
       "68. 0\n",
       "69. 0.01\n",
       "70. 0\n",
       "71. 0\n",
       "72. 0\n",
       "73. 0.99\n",
       "74. 0.15\n",
       "75. 0\n",
       "76. 0.01\n",
       "77. 0.11\n",
       "78. 0\n",
       "79. 0\n",
       "80. 0\n",
       "81. 0.01\n",
       "82. 0\n",
       "83. 0\n",
       "84. 0\n",
       "85. 0\n",
       "86. 0\n",
       "87. 0\n",
       "88. 0.01\n",
       "89. 0\n",
       "90. 0\n",
       "91. 0.47\n",
       "92. 0.24\n",
       "\n",
       "\n"
      ],
      "text/plain": [
       " [1] 0.00 0.00 0.38 0.00 0.00 0.00 0.00 0.14 0.00 0.00 0.01 0.05 0.03 0.00 0.00\n",
       "[16] 0.00 0.39 0.01 0.00 0.00 0.00 0.00 0.00 0.70 0.22 0.00 0.00 0.00 0.15 0.00\n",
       "[31] 0.01 0.02 0.43 0.01 0.00 0.00 0.47 1.03 0.01 0.00 0.00 0.00 0.41 0.01 0.87\n",
       "[46] 0.00 0.00 0.00 0.15 0.28 0.00 0.00 0.01 0.00 0.00 0.01 1.42 2.42 0.00 0.01\n",
       "[61] 0.18 0.26 0.08 0.27 0.25 0.01 0.00 0.00 0.01 0.00 0.00 0.00 0.99 0.15 0.00\n",
       "[76] 0.01 0.11 0.00 0.00 0.00 0.01 0.00 0.00 0.00 0.00 0.00 0.00 0.01 0.00 0.00\n",
       "[91] 0.47 0.24"
      ]
     },
     "metadata": {},
     "output_type": "display_data"
    }
   ],
   "source": [
    "weather$PREC"
   ]
  },
  {
   "cell_type": "code",
   "execution_count": 55,
   "metadata": {},
   "outputs": [
    {
     "data": {
      "text/html": [
       "0.13804347826087"
      ],
      "text/latex": [
       "0.13804347826087"
      ],
      "text/markdown": [
       "0.13804347826087"
      ],
      "text/plain": [
       "[1] 0.1380435"
      ]
     },
     "metadata": {},
     "output_type": "display_data"
    }
   ],
   "source": [
    "mean(weather$PREC)"
   ]
  },
  {
   "cell_type": "code",
   "execution_count": 59,
   "metadata": {},
   "outputs": [],
   "source": [
    "labels <- c(\"Name\", \"ID\", \"Make\", \"Model\", \"Year\")\n",
    "names <- c(\"Alice\", \"Bob\", \"Charles\", \"Danielle\", \"Eric\", \"FLorence\")\n",
    "ids <- c(\"1154\", \"1163\", \"1109\", \"1117\", \"1123\", \"1101\")\n",
    "makes <- c(\"Toyota\", \"Honda\", \"Ford\", \"BMW\", \"Subaru\", \"Kia\")\n",
    "models <- c(\"Camry\", \"Civic\", \"Explorer\", \"328\", \"Outback\", \"Soul\")\n",
    "years <- c(2009, 2006, 2011, 2013, 2010, 2015)"
   ]
  },
  {
   "cell_type": "code",
   "execution_count": 79,
   "metadata": {},
   "outputs": [
    {
     "data": {
      "text/html": [
       "<table>\n",
       "<caption>A data.frame: 6 × 5</caption>\n",
       "<thead>\n",
       "\t<tr><th scope=col>names</th><th scope=col>ids</th><th scope=col>makes</th><th scope=col>models</th><th scope=col>years</th></tr>\n",
       "\t<tr><th scope=col>&lt;fct&gt;</th><th scope=col>&lt;fct&gt;</th><th scope=col>&lt;fct&gt;</th><th scope=col>&lt;fct&gt;</th><th scope=col>&lt;dbl&gt;</th></tr>\n",
       "</thead>\n",
       "<tbody>\n",
       "\t<tr><td>Alice   </td><td>1154</td><td>Toyota</td><td>Camry   </td><td>2009</td></tr>\n",
       "\t<tr><td>Bob     </td><td>1163</td><td>Honda </td><td>Civic   </td><td>2006</td></tr>\n",
       "\t<tr><td>Charles </td><td>1109</td><td>Ford  </td><td>Explorer</td><td>2011</td></tr>\n",
       "\t<tr><td>Danielle</td><td>1117</td><td>BMW   </td><td>328     </td><td>2013</td></tr>\n",
       "\t<tr><td>Eric    </td><td>1123</td><td>Subaru</td><td>Outback </td><td>2010</td></tr>\n",
       "\t<tr><td>FLorence</td><td>1101</td><td>Kia   </td><td>Soul    </td><td>2015</td></tr>\n",
       "</tbody>\n",
       "</table>\n"
      ],
      "text/latex": [
       "A data.frame: 6 × 5\n",
       "\\begin{tabular}{r|lllll}\n",
       " names & ids & makes & models & years\\\\\n",
       " <fct> & <fct> & <fct> & <fct> & <dbl>\\\\\n",
       "\\hline\n",
       "\t Alice    & 1154 & Toyota & Camry    & 2009\\\\\n",
       "\t Bob      & 1163 & Honda  & Civic    & 2006\\\\\n",
       "\t Charles  & 1109 & Ford   & Explorer & 2011\\\\\n",
       "\t Danielle & 1117 & BMW    & 328      & 2013\\\\\n",
       "\t Eric     & 1123 & Subaru & Outback  & 2010\\\\\n",
       "\t FLorence & 1101 & Kia    & Soul     & 2015\\\\\n",
       "\\end{tabular}\n"
      ],
      "text/markdown": [
       "\n",
       "A data.frame: 6 × 5\n",
       "\n",
       "| names &lt;fct&gt; | ids &lt;fct&gt; | makes &lt;fct&gt; | models &lt;fct&gt; | years &lt;dbl&gt; |\n",
       "|---|---|---|---|---|\n",
       "| Alice    | 1154 | Toyota | Camry    | 2009 |\n",
       "| Bob      | 1163 | Honda  | Civic    | 2006 |\n",
       "| Charles  | 1109 | Ford   | Explorer | 2011 |\n",
       "| Danielle | 1117 | BMW    | 328      | 2013 |\n",
       "| Eric     | 1123 | Subaru | Outback  | 2010 |\n",
       "| FLorence | 1101 | Kia    | Soul     | 2015 |\n",
       "\n"
      ],
      "text/plain": [
       "  names    ids  makes  models   years\n",
       "1 Alice    1154 Toyota Camry    2009 \n",
       "2 Bob      1163 Honda  Civic    2006 \n",
       "3 Charles  1109 Ford   Explorer 2011 \n",
       "4 Danielle 1117 BMW    328      2013 \n",
       "5 Eric     1123 Subaru Outback  2010 \n",
       "6 FLorence 1101 Kia    Soul     2015 "
      ]
     },
     "metadata": {},
     "output_type": "display_data"
    }
   ],
   "source": [
    "dmv <- data.frame(names, ids, makes, models, years)\n",
    "dmv"
   ]
  },
  {
   "cell_type": "code",
   "execution_count": 81,
   "metadata": {},
   "outputs": [],
   "source": [
    "names(dmv) <- labels"
   ]
  },
  {
   "cell_type": "code",
   "execution_count": 82,
   "metadata": {},
   "outputs": [
    {
     "name": "stdout",
     "output_type": "stream",
     "text": [
      "'data.frame':\t6 obs. of  5 variables:\n",
      " $ Name : Factor w/ 6 levels \"Alice\",\"Bob\",..: 1 2 3 4 5 6\n",
      " $ ID   : Factor w/ 6 levels \"1101\",\"1109\",..: 5 6 2 3 4 1\n",
      " $ Make : Factor w/ 6 levels \"BMW\",\"Ford\",\"Honda\",..: 6 3 2 1 5 4\n",
      " $ Model: Factor w/ 6 levels \"328\",\"Camry\",..: 2 3 4 1 5 6\n",
      " $ Year : num  2009 2006 2011 2013 2010 ...\n"
     ]
    }
   ],
   "source": [
    "str(dmv)"
   ]
  },
  {
   "cell_type": "code",
   "execution_count": 83,
   "metadata": {},
   "outputs": [
    {
     "data": {
      "text/html": [
       "<ol class=list-inline>\n",
       "\t<li>5</li>\n",
       "\t<li>6</li>\n",
       "\t<li>2</li>\n",
       "\t<li>3</li>\n",
       "\t<li>4</li>\n",
       "\t<li>1</li>\n",
       "</ol>\n"
      ],
      "text/latex": [
       "\\begin{enumerate*}\n",
       "\\item 5\n",
       "\\item 6\n",
       "\\item 2\n",
       "\\item 3\n",
       "\\item 4\n",
       "\\item 1\n",
       "\\end{enumerate*}\n"
      ],
      "text/markdown": [
       "1. 5\n",
       "2. 6\n",
       "3. 2\n",
       "4. 3\n",
       "5. 4\n",
       "6. 1\n",
       "\n",
       "\n"
      ],
      "text/plain": [
       "[1] 5 6 2 3 4 1"
      ]
     },
     "metadata": {},
     "output_type": "display_data"
    }
   ],
   "source": [
    "as.numeric(dmv$ID) #if convert directly from factor, then will just number the category"
   ]
  },
  {
   "cell_type": "code",
   "execution_count": 84,
   "metadata": {},
   "outputs": [
    {
     "data": {
      "text/html": [
       "<ol class=list-inline>\n",
       "\t<li>1154</li>\n",
       "\t<li>1163</li>\n",
       "\t<li>1109</li>\n",
       "\t<li>1117</li>\n",
       "\t<li>1123</li>\n",
       "\t<li>1101</li>\n",
       "</ol>\n"
      ],
      "text/latex": [
       "\\begin{enumerate*}\n",
       "\\item 1154\n",
       "\\item 1163\n",
       "\\item 1109\n",
       "\\item 1117\n",
       "\\item 1123\n",
       "\\item 1101\n",
       "\\end{enumerate*}\n"
      ],
      "text/markdown": [
       "1. 1154\n",
       "2. 1163\n",
       "3. 1109\n",
       "4. 1117\n",
       "5. 1123\n",
       "6. 1101\n",
       "\n",
       "\n"
      ],
      "text/plain": [
       "[1] 1154 1163 1109 1117 1123 1101"
      ]
     },
     "metadata": {},
     "output_type": "display_data"
    }
   ],
   "source": [
    "as.numeric(as.character(dmv$ID)) #convert first to numeric, then to factor"
   ]
  },
  {
   "cell_type": "code",
   "execution_count": 85,
   "metadata": {},
   "outputs": [],
   "source": [
    "save(dmv, file=\"dmv.Rdata\") "
   ]
  },
  {
   "cell_type": "code",
   "execution_count": null,
   "metadata": {},
   "outputs": [],
   "source": []
  }
 ],
 "metadata": {
  "kernelspec": {
   "display_name": "R 3.5.0",
   "language": "R",
   "name": "r-3.5.0"
  },
  "language_info": {
   "codemirror_mode": "r",
   "file_extension": ".r",
   "mimetype": "text/x-r-source",
   "name": "R",
   "pygments_lexer": "r",
   "version": "3.5.0"
  },
  "varInspector": {
   "cols": {
    "lenName": 16,
    "lenType": 16,
    "lenVar": 40
   },
   "kernels_config": {
    "python": {
     "delete_cmd_postfix": "",
     "delete_cmd_prefix": "del ",
     "library": "var_list.py",
     "varRefreshCmd": "print(var_dic_list())"
    },
    "r": {
     "delete_cmd_postfix": ") ",
     "delete_cmd_prefix": "rm(",
     "library": "var_list.r",
     "varRefreshCmd": "cat(var_dic_list()) "
    }
   },
   "types_to_exclude": [
    "module",
    "function",
    "builtin_function_or_method",
    "instance",
    "_Feature"
   ],
   "window_display": false
  }
 },
 "nbformat": 4,
 "nbformat_minor": 2
}
